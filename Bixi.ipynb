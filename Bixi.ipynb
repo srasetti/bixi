{
 "cells": [
  {
   "cell_type": "markdown",
   "metadata": {
    "toc": true
   },
   "source": [
    "<h1>Table of Contents<span class=\"tocSkip\"></span></h1>\n",
    "<div class=\"toc\"><ul class=\"toc-item\"><li><span><a href=\"#Getting-most-used-routes\" data-toc-modified-id=\"Getting-most-used-routes-1\"><span class=\"toc-item-num\">1&nbsp;&nbsp;</span>Getting most used routes</a></span><ul class=\"toc-item\"><li><span><a href=\"#Exploration-of-dataset\" data-toc-modified-id=\"Exploration-of-dataset-1.1\"><span class=\"toc-item-num\">1.1&nbsp;&nbsp;</span>Exploration of dataset</a></span></li><li><span><a href=\"#creating-the-routes-column\" data-toc-modified-id=\"creating-the-routes-column-1.2\"><span class=\"toc-item-num\">1.2&nbsp;&nbsp;</span>creating the routes column</a></span></li><li><span><a href=\"#Adding-the-column-to-detect-single-station-trips\" data-toc-modified-id=\"Adding-the-column-to-detect-single-station-trips-1.3\"><span class=\"toc-item-num\">1.3&nbsp;&nbsp;</span>Adding the column to detect single station trips</a></span></li></ul></li><li><span><a href=\"#Getting-the-geographic-data\" data-toc-modified-id=\"Getting-the-geographic-data-2\"><span class=\"toc-item-num\">2&nbsp;&nbsp;</span>Getting the geographic data</a></span><ul class=\"toc-item\"><li><span><a href=\"#Getting-coordinates-of-stations\" data-toc-modified-id=\"Getting-coordinates-of-stations-2.1\"><span class=\"toc-item-num\">2.1&nbsp;&nbsp;</span>Getting coordinates of stations</a></span></li><li><span><a href=\"#Getting-names-of-stations\" data-toc-modified-id=\"Getting-names-of-stations-2.2\"><span class=\"toc-item-num\">2.2&nbsp;&nbsp;</span>Getting names of stations</a></span></li><li><span><a href=\"#Calculating-mean-of-coordinates-to-center-the-maps\" data-toc-modified-id=\"Calculating-mean-of-coordinates-to-center-the-maps-2.3\"><span class=\"toc-item-num\">2.3&nbsp;&nbsp;</span>Calculating mean of coordinates to center the maps</a></span></li></ul></li><li><span><a href=\"#Displaying-stations-(Folium)\" data-toc-modified-id=\"Displaying-stations-(Folium)-3\"><span class=\"toc-item-num\">3&nbsp;&nbsp;</span>Displaying stations (Folium)</a></span><ul class=\"toc-item\"><li><span><a href=\"#test-on-one-station\" data-toc-modified-id=\"test-on-one-station-3.1\"><span class=\"toc-item-num\">3.1&nbsp;&nbsp;</span>test on one station</a></span></li><li><span><a href=\"#Displaying-all-10\" data-toc-modified-id=\"Displaying-all-10-3.2\"><span class=\"toc-item-num\">3.2&nbsp;&nbsp;</span>Displaying all 10</a></span></li></ul></li></ul></div>"
   ]
  },
  {
   "cell_type": "markdown",
   "metadata": {},
   "source": [
    "What are bixis most used routes? \n",
    "\n",
    "Using the open data from Bixi with each rental and the list of stations"
   ]
  },
  {
   "cell_type": "markdown",
   "metadata": {},
   "source": [
    "# Getting most used routes"
   ]
  },
  {
   "cell_type": "markdown",
   "metadata": {},
   "source": [
    "Defining the most used paths by bixi users"
   ]
  },
  {
   "cell_type": "code",
   "execution_count": 1,
   "metadata": {},
   "outputs": [],
   "source": [
    "import pandas as pd"
   ]
  },
  {
   "cell_type": "code",
   "execution_count": 2,
   "metadata": {},
   "outputs": [],
   "source": [
    "df = pd.read_csv('data/OD_2020.csv')"
   ]
  },
  {
   "cell_type": "markdown",
   "metadata": {},
   "source": [
    "## Exploration of dataset"
   ]
  },
  {
   "cell_type": "code",
   "execution_count": 3,
   "metadata": {
    "scrolled": true
   },
   "outputs": [
    {
     "data": {
      "text/html": [
       "<div>\n",
       "<style scoped>\n",
       "    .dataframe tbody tr th:only-of-type {\n",
       "        vertical-align: middle;\n",
       "    }\n",
       "\n",
       "    .dataframe tbody tr th {\n",
       "        vertical-align: top;\n",
       "    }\n",
       "\n",
       "    .dataframe thead th {\n",
       "        text-align: right;\n",
       "    }\n",
       "</style>\n",
       "<table border=\"1\" class=\"dataframe\">\n",
       "  <thead>\n",
       "    <tr style=\"text-align: right;\">\n",
       "      <th></th>\n",
       "      <th>start_date</th>\n",
       "      <th>start_station_code</th>\n",
       "      <th>end_date</th>\n",
       "      <th>end_station_code</th>\n",
       "      <th>duration_sec</th>\n",
       "      <th>is_member</th>\n",
       "    </tr>\n",
       "  </thead>\n",
       "  <tbody>\n",
       "    <tr>\n",
       "      <th>0</th>\n",
       "      <td>2020-04-15 06:00:04</td>\n",
       "      <td>6212</td>\n",
       "      <td>2020-04-15 06:20:54</td>\n",
       "      <td>6250</td>\n",
       "      <td>1250</td>\n",
       "      <td>1</td>\n",
       "    </tr>\n",
       "    <tr>\n",
       "      <th>1</th>\n",
       "      <td>2020-04-15 06:05:41</td>\n",
       "      <td>6369</td>\n",
       "      <td>2020-04-15 06:32:47</td>\n",
       "      <td>6072</td>\n",
       "      <td>1626</td>\n",
       "      <td>1</td>\n",
       "    </tr>\n",
       "    <tr>\n",
       "      <th>2</th>\n",
       "      <td>2020-04-15 06:07:27</td>\n",
       "      <td>6207</td>\n",
       "      <td>2020-04-15 06:19:32</td>\n",
       "      <td>7038</td>\n",
       "      <td>724</td>\n",
       "      <td>1</td>\n",
       "    </tr>\n",
       "    <tr>\n",
       "      <th>3</th>\n",
       "      <td>2020-04-15 06:09:16</td>\n",
       "      <td>6202</td>\n",
       "      <td>2020-04-15 06:18:49</td>\n",
       "      <td>6212</td>\n",
       "      <td>572</td>\n",
       "      <td>1</td>\n",
       "    </tr>\n",
       "    <tr>\n",
       "      <th>4</th>\n",
       "      <td>2020-04-15 06:09:38</td>\n",
       "      <td>6159</td>\n",
       "      <td>2020-04-15 06:24:23</td>\n",
       "      <td>7067</td>\n",
       "      <td>885</td>\n",
       "      <td>1</td>\n",
       "    </tr>\n",
       "  </tbody>\n",
       "</table>\n",
       "</div>"
      ],
      "text/plain": [
       "            start_date  start_station_code             end_date  \\\n",
       "0  2020-04-15 06:00:04                6212  2020-04-15 06:20:54   \n",
       "1  2020-04-15 06:05:41                6369  2020-04-15 06:32:47   \n",
       "2  2020-04-15 06:07:27                6207  2020-04-15 06:19:32   \n",
       "3  2020-04-15 06:09:16                6202  2020-04-15 06:18:49   \n",
       "4  2020-04-15 06:09:38                6159  2020-04-15 06:24:23   \n",
       "\n",
       "   end_station_code  duration_sec  is_member  \n",
       "0              6250          1250          1  \n",
       "1              6072          1626          1  \n",
       "2              7038           724          1  \n",
       "3              6212           572          1  \n",
       "4              7067           885          1  "
      ]
     },
     "execution_count": 3,
     "metadata": {},
     "output_type": "execute_result"
    }
   ],
   "source": [
    "df.head()"
   ]
  },
  {
   "cell_type": "code",
   "execution_count": 9,
   "metadata": {
    "scrolled": true
   },
   "outputs": [
    {
     "data": {
      "text/plain": [
       "start_date            object\n",
       "start_station_code     int64\n",
       "end_date              object\n",
       "end_station_code       int64\n",
       "duration_sec           int64\n",
       "is_member              int64\n",
       "dtype: object"
      ]
     },
     "execution_count": 9,
     "metadata": {},
     "output_type": "execute_result"
    }
   ],
   "source": [
    "df.dtypes"
   ]
  },
  {
   "cell_type": "code",
   "execution_count": 19,
   "metadata": {},
   "outputs": [
    {
     "data": {
      "text/plain": [
       "(3264741, 7)"
      ]
     },
     "execution_count": 19,
     "metadata": {},
     "output_type": "execute_result"
    }
   ],
   "source": [
    "df.shape"
   ]
  },
  {
   "cell_type": "code",
   "execution_count": 24,
   "metadata": {},
   "outputs": [
    {
     "data": {
      "text/html": [
       "<div>\n",
       "<style scoped>\n",
       "    .dataframe tbody tr th:only-of-type {\n",
       "        vertical-align: middle;\n",
       "    }\n",
       "\n",
       "    .dataframe tbody tr th {\n",
       "        vertical-align: top;\n",
       "    }\n",
       "\n",
       "    .dataframe thead th {\n",
       "        text-align: right;\n",
       "    }\n",
       "</style>\n",
       "<table border=\"1\" class=\"dataframe\">\n",
       "  <thead>\n",
       "    <tr style=\"text-align: right;\">\n",
       "      <th></th>\n",
       "      <th>start_station_code</th>\n",
       "      <th>end_station_code</th>\n",
       "      <th>duration_sec</th>\n",
       "      <th>is_member</th>\n",
       "    </tr>\n",
       "  </thead>\n",
       "  <tbody>\n",
       "    <tr>\n",
       "      <th>count</th>\n",
       "      <td>3.264741e+06</td>\n",
       "      <td>3.264741e+06</td>\n",
       "      <td>3.264741e+06</td>\n",
       "      <td>3.264741e+06</td>\n",
       "    </tr>\n",
       "    <tr>\n",
       "      <th>mean</th>\n",
       "      <td>6.399046e+03</td>\n",
       "      <td>6.399199e+03</td>\n",
       "      <td>9.363313e+02</td>\n",
       "      <td>7.966846e-01</td>\n",
       "    </tr>\n",
       "    <tr>\n",
       "      <th>std</th>\n",
       "      <td>4.269501e+02</td>\n",
       "      <td>4.399925e+02</td>\n",
       "      <td>7.234184e+02</td>\n",
       "      <td>4.024652e-01</td>\n",
       "    </tr>\n",
       "    <tr>\n",
       "      <th>min</th>\n",
       "      <td>4.000000e+03</td>\n",
       "      <td>4.000000e+03</td>\n",
       "      <td>6.100000e+01</td>\n",
       "      <td>0.000000e+00</td>\n",
       "    </tr>\n",
       "    <tr>\n",
       "      <th>25%</th>\n",
       "      <td>6.142000e+03</td>\n",
       "      <td>6.134000e+03</td>\n",
       "      <td>4.210000e+02</td>\n",
       "      <td>1.000000e+00</td>\n",
       "    </tr>\n",
       "    <tr>\n",
       "      <th>50%</th>\n",
       "      <td>6.237000e+03</td>\n",
       "      <td>6.240000e+03</td>\n",
       "      <td>7.530000e+02</td>\n",
       "      <td>1.000000e+00</td>\n",
       "    </tr>\n",
       "    <tr>\n",
       "      <th>75%</th>\n",
       "      <td>6.708000e+03</td>\n",
       "      <td>6.712000e+03</td>\n",
       "      <td>1.264000e+03</td>\n",
       "      <td>1.000000e+00</td>\n",
       "    </tr>\n",
       "    <tr>\n",
       "      <th>max</th>\n",
       "      <td>1.000200e+04</td>\n",
       "      <td>1.000200e+04</td>\n",
       "      <td>7.199000e+03</td>\n",
       "      <td>1.000000e+00</td>\n",
       "    </tr>\n",
       "  </tbody>\n",
       "</table>\n",
       "</div>"
      ],
      "text/plain": [
       "       start_station_code  end_station_code  duration_sec     is_member\n",
       "count        3.264741e+06      3.264741e+06  3.264741e+06  3.264741e+06\n",
       "mean         6.399046e+03      6.399199e+03  9.363313e+02  7.966846e-01\n",
       "std          4.269501e+02      4.399925e+02  7.234184e+02  4.024652e-01\n",
       "min          4.000000e+03      4.000000e+03  6.100000e+01  0.000000e+00\n",
       "25%          6.142000e+03      6.134000e+03  4.210000e+02  1.000000e+00\n",
       "50%          6.237000e+03      6.240000e+03  7.530000e+02  1.000000e+00\n",
       "75%          6.708000e+03      6.712000e+03  1.264000e+03  1.000000e+00\n",
       "max          1.000200e+04      1.000200e+04  7.199000e+03  1.000000e+00"
      ]
     },
     "execution_count": 24,
     "metadata": {},
     "output_type": "execute_result"
    }
   ],
   "source": [
    "df.describe()"
   ]
  },
  {
   "cell_type": "markdown",
   "metadata": {},
   "source": [
    "## creating the routes column"
   ]
  },
  {
   "cell_type": "code",
   "execution_count": 11,
   "metadata": {},
   "outputs": [],
   "source": [
    "df['route'] = df[['start_station_code', 'end_station_code']].astype(str).agg('-'.join, axis=1)"
   ]
  },
  {
   "cell_type": "code",
   "execution_count": 12,
   "metadata": {},
   "outputs": [
    {
     "data": {
      "text/html": [
       "<div>\n",
       "<style scoped>\n",
       "    .dataframe tbody tr th:only-of-type {\n",
       "        vertical-align: middle;\n",
       "    }\n",
       "\n",
       "    .dataframe tbody tr th {\n",
       "        vertical-align: top;\n",
       "    }\n",
       "\n",
       "    .dataframe thead th {\n",
       "        text-align: right;\n",
       "    }\n",
       "</style>\n",
       "<table border=\"1\" class=\"dataframe\">\n",
       "  <thead>\n",
       "    <tr style=\"text-align: right;\">\n",
       "      <th></th>\n",
       "      <th>start_date</th>\n",
       "      <th>start_station_code</th>\n",
       "      <th>end_date</th>\n",
       "      <th>end_station_code</th>\n",
       "      <th>duration_sec</th>\n",
       "      <th>is_member</th>\n",
       "      <th>route</th>\n",
       "    </tr>\n",
       "  </thead>\n",
       "  <tbody>\n",
       "    <tr>\n",
       "      <th>0</th>\n",
       "      <td>2020-04-15 06:00:04</td>\n",
       "      <td>6212</td>\n",
       "      <td>2020-04-15 06:20:54</td>\n",
       "      <td>6250</td>\n",
       "      <td>1250</td>\n",
       "      <td>1</td>\n",
       "      <td>6212-6250</td>\n",
       "    </tr>\n",
       "    <tr>\n",
       "      <th>1</th>\n",
       "      <td>2020-04-15 06:05:41</td>\n",
       "      <td>6369</td>\n",
       "      <td>2020-04-15 06:32:47</td>\n",
       "      <td>6072</td>\n",
       "      <td>1626</td>\n",
       "      <td>1</td>\n",
       "      <td>6369-6072</td>\n",
       "    </tr>\n",
       "    <tr>\n",
       "      <th>2</th>\n",
       "      <td>2020-04-15 06:07:27</td>\n",
       "      <td>6207</td>\n",
       "      <td>2020-04-15 06:19:32</td>\n",
       "      <td>7038</td>\n",
       "      <td>724</td>\n",
       "      <td>1</td>\n",
       "      <td>6207-7038</td>\n",
       "    </tr>\n",
       "    <tr>\n",
       "      <th>3</th>\n",
       "      <td>2020-04-15 06:09:16</td>\n",
       "      <td>6202</td>\n",
       "      <td>2020-04-15 06:18:49</td>\n",
       "      <td>6212</td>\n",
       "      <td>572</td>\n",
       "      <td>1</td>\n",
       "      <td>6202-6212</td>\n",
       "    </tr>\n",
       "    <tr>\n",
       "      <th>4</th>\n",
       "      <td>2020-04-15 06:09:38</td>\n",
       "      <td>6159</td>\n",
       "      <td>2020-04-15 06:24:23</td>\n",
       "      <td>7067</td>\n",
       "      <td>885</td>\n",
       "      <td>1</td>\n",
       "      <td>6159-7067</td>\n",
       "    </tr>\n",
       "  </tbody>\n",
       "</table>\n",
       "</div>"
      ],
      "text/plain": [
       "            start_date  start_station_code             end_date  \\\n",
       "0  2020-04-15 06:00:04                6212  2020-04-15 06:20:54   \n",
       "1  2020-04-15 06:05:41                6369  2020-04-15 06:32:47   \n",
       "2  2020-04-15 06:07:27                6207  2020-04-15 06:19:32   \n",
       "3  2020-04-15 06:09:16                6202  2020-04-15 06:18:49   \n",
       "4  2020-04-15 06:09:38                6159  2020-04-15 06:24:23   \n",
       "\n",
       "   end_station_code  duration_sec  is_member      route  \n",
       "0              6250          1250          1  6212-6250  \n",
       "1              6072          1626          1  6369-6072  \n",
       "2              7038           724          1  6207-7038  \n",
       "3              6212           572          1  6202-6212  \n",
       "4              7067           885          1  6159-7067  "
      ]
     },
     "execution_count": 12,
     "metadata": {},
     "output_type": "execute_result"
    }
   ],
   "source": [
    "df.head()"
   ]
  },
  {
   "cell_type": "code",
   "execution_count": 33,
   "metadata": {},
   "outputs": [],
   "source": [
    "top_df = df.groupby('route').agg({'is_member':'count','duration_sec':'mean'})"
   ]
  },
  {
   "cell_type": "code",
   "execution_count": 34,
   "metadata": {},
   "outputs": [
    {
     "data": {
      "text/html": [
       "<div>\n",
       "<style scoped>\n",
       "    .dataframe tbody tr th:only-of-type {\n",
       "        vertical-align: middle;\n",
       "    }\n",
       "\n",
       "    .dataframe tbody tr th {\n",
       "        vertical-align: top;\n",
       "    }\n",
       "\n",
       "    .dataframe thead th {\n",
       "        text-align: right;\n",
       "    }\n",
       "</style>\n",
       "<table border=\"1\" class=\"dataframe\">\n",
       "  <thead>\n",
       "    <tr style=\"text-align: right;\">\n",
       "      <th></th>\n",
       "      <th>is_member</th>\n",
       "      <th>duration_sec</th>\n",
       "    </tr>\n",
       "    <tr>\n",
       "      <th>route</th>\n",
       "      <th></th>\n",
       "      <th></th>\n",
       "    </tr>\n",
       "  </thead>\n",
       "  <tbody>\n",
       "    <tr>\n",
       "      <th>6501-6501</th>\n",
       "      <td>2651</td>\n",
       "      <td>1842.659374</td>\n",
       "    </tr>\n",
       "    <tr>\n",
       "      <th>6026-6026</th>\n",
       "      <td>2505</td>\n",
       "      <td>1854.134531</td>\n",
       "    </tr>\n",
       "    <tr>\n",
       "      <th>6036-6036</th>\n",
       "      <td>2239</td>\n",
       "      <td>2103.002680</td>\n",
       "    </tr>\n",
       "    <tr>\n",
       "      <th>7125-7125</th>\n",
       "      <td>1804</td>\n",
       "      <td>1707.531596</td>\n",
       "    </tr>\n",
       "    <tr>\n",
       "      <th>6023-6023</th>\n",
       "      <td>1627</td>\n",
       "      <td>1924.244622</td>\n",
       "    </tr>\n",
       "    <tr>\n",
       "      <th>7007-7007</th>\n",
       "      <td>1271</td>\n",
       "      <td>1524.715972</td>\n",
       "    </tr>\n",
       "    <tr>\n",
       "      <th>7105-7105</th>\n",
       "      <td>1193</td>\n",
       "      <td>1961.806370</td>\n",
       "    </tr>\n",
       "    <tr>\n",
       "      <th>7103-7103</th>\n",
       "      <td>1168</td>\n",
       "      <td>2177.036815</td>\n",
       "    </tr>\n",
       "    <tr>\n",
       "      <th>6009-6009</th>\n",
       "      <td>1132</td>\n",
       "      <td>1061.644876</td>\n",
       "    </tr>\n",
       "    <tr>\n",
       "      <th>6036-6026</th>\n",
       "      <td>994</td>\n",
       "      <td>1622.658954</td>\n",
       "    </tr>\n",
       "    <tr>\n",
       "      <th>6232-6232</th>\n",
       "      <td>978</td>\n",
       "      <td>1117.543967</td>\n",
       "    </tr>\n",
       "    <tr>\n",
       "      <th>6501-6109</th>\n",
       "      <td>965</td>\n",
       "      <td>1202.513990</td>\n",
       "    </tr>\n",
       "    <tr>\n",
       "      <th>6184-6184</th>\n",
       "      <td>950</td>\n",
       "      <td>1195.248421</td>\n",
       "    </tr>\n",
       "    <tr>\n",
       "      <th>6406-6036</th>\n",
       "      <td>948</td>\n",
       "      <td>1371.289030</td>\n",
       "    </tr>\n",
       "    <tr>\n",
       "      <th>6724-6724</th>\n",
       "      <td>941</td>\n",
       "      <td>1783.087141</td>\n",
       "    </tr>\n",
       "    <tr>\n",
       "      <th>6036-6406</th>\n",
       "      <td>926</td>\n",
       "      <td>1410.187905</td>\n",
       "    </tr>\n",
       "    <tr>\n",
       "      <th>7119-7119</th>\n",
       "      <td>915</td>\n",
       "      <td>1937.499454</td>\n",
       "    </tr>\n",
       "    <tr>\n",
       "      <th>6109-6501</th>\n",
       "      <td>884</td>\n",
       "      <td>1147.692308</td>\n",
       "    </tr>\n",
       "    <tr>\n",
       "      <th>6081-6081</th>\n",
       "      <td>863</td>\n",
       "      <td>1079.008111</td>\n",
       "    </tr>\n",
       "    <tr>\n",
       "      <th>6216-6216</th>\n",
       "      <td>862</td>\n",
       "      <td>1991.812065</td>\n",
       "    </tr>\n",
       "  </tbody>\n",
       "</table>\n",
       "</div>"
      ],
      "text/plain": [
       "           is_member  duration_sec\n",
       "route                             \n",
       "6501-6501       2651   1842.659374\n",
       "6026-6026       2505   1854.134531\n",
       "6036-6036       2239   2103.002680\n",
       "7125-7125       1804   1707.531596\n",
       "6023-6023       1627   1924.244622\n",
       "7007-7007       1271   1524.715972\n",
       "7105-7105       1193   1961.806370\n",
       "7103-7103       1168   2177.036815\n",
       "6009-6009       1132   1061.644876\n",
       "6036-6026        994   1622.658954\n",
       "6232-6232        978   1117.543967\n",
       "6501-6109        965   1202.513990\n",
       "6184-6184        950   1195.248421\n",
       "6406-6036        948   1371.289030\n",
       "6724-6724        941   1783.087141\n",
       "6036-6406        926   1410.187905\n",
       "7119-7119        915   1937.499454\n",
       "6109-6501        884   1147.692308\n",
       "6081-6081        863   1079.008111\n",
       "6216-6216        862   1991.812065"
      ]
     },
     "execution_count": 34,
     "metadata": {},
     "output_type": "execute_result"
    }
   ],
   "source": [
    "top_df.sort_values(by='is_member',ascending=False).head(20)"
   ]
  },
  {
   "cell_type": "code",
   "execution_count": 21,
   "metadata": {},
   "outputs": [],
   "source": [
    "top_df = top_df.sort_values(by='is_member',ascending=False)"
   ]
  },
  {
   "cell_type": "code",
   "execution_count": 32,
   "metadata": {},
   "outputs": [
    {
     "data": {
      "text/html": [
       "<div>\n",
       "<style scoped>\n",
       "    .dataframe tbody tr th:only-of-type {\n",
       "        vertical-align: middle;\n",
       "    }\n",
       "\n",
       "    .dataframe tbody tr th {\n",
       "        vertical-align: top;\n",
       "    }\n",
       "\n",
       "    .dataframe thead th {\n",
       "        text-align: right;\n",
       "    }\n",
       "</style>\n",
       "<table border=\"1\" class=\"dataframe\">\n",
       "  <thead>\n",
       "    <tr style=\"text-align: right;\">\n",
       "      <th></th>\n",
       "      <th>count</th>\n",
       "    </tr>\n",
       "    <tr>\n",
       "      <th>route</th>\n",
       "      <th></th>\n",
       "    </tr>\n",
       "  </thead>\n",
       "  <tbody>\n",
       "    <tr>\n",
       "      <th>6501-6501</th>\n",
       "      <td>2651</td>\n",
       "    </tr>\n",
       "    <tr>\n",
       "      <th>6026-6026</th>\n",
       "      <td>2505</td>\n",
       "    </tr>\n",
       "    <tr>\n",
       "      <th>6036-6036</th>\n",
       "      <td>2239</td>\n",
       "    </tr>\n",
       "    <tr>\n",
       "      <th>7125-7125</th>\n",
       "      <td>1804</td>\n",
       "    </tr>\n",
       "    <tr>\n",
       "      <th>6023-6023</th>\n",
       "      <td>1627</td>\n",
       "    </tr>\n",
       "    <tr>\n",
       "      <th>...</th>\n",
       "      <td>...</td>\n",
       "    </tr>\n",
       "    <tr>\n",
       "      <th>6118-6114</th>\n",
       "      <td>534</td>\n",
       "    </tr>\n",
       "    <tr>\n",
       "      <th>6154-6154</th>\n",
       "      <td>531</td>\n",
       "    </tr>\n",
       "    <tr>\n",
       "      <th>6391-6387</th>\n",
       "      <td>530</td>\n",
       "    </tr>\n",
       "    <tr>\n",
       "      <th>6148-6154</th>\n",
       "      <td>529</td>\n",
       "    </tr>\n",
       "    <tr>\n",
       "      <th>6052-6023</th>\n",
       "      <td>522</td>\n",
       "    </tr>\n",
       "  </tbody>\n",
       "</table>\n",
       "<p>100 rows × 1 columns</p>\n",
       "</div>"
      ],
      "text/plain": [
       "           count\n",
       "route           \n",
       "6501-6501   2651\n",
       "6026-6026   2505\n",
       "6036-6036   2239\n",
       "7125-7125   1804\n",
       "6023-6023   1627\n",
       "...          ...\n",
       "6118-6114    534\n",
       "6154-6154    531\n",
       "6391-6387    530\n",
       "6148-6154    529\n",
       "6052-6023    522\n",
       "\n",
       "[100 rows x 1 columns]"
      ]
     },
     "execution_count": 32,
     "metadata": {},
     "output_type": "execute_result"
    }
   ],
   "source": [
    "top_df.head(100)"
   ]
  },
  {
   "cell_type": "code",
   "execution_count": 197,
   "metadata": {},
   "outputs": [],
   "source": [
    "df.to_pickle('df.pkl')"
   ]
  },
  {
   "cell_type": "code",
   "execution_count": 198,
   "metadata": {},
   "outputs": [],
   "source": [
    "top_df.to_pickle('top_df.pkl')"
   ]
  },
  {
   "cell_type": "markdown",
   "metadata": {},
   "source": [
    "## Adding the column to detect single station trips"
   ]
  },
  {
   "cell_type": "markdown",
   "metadata": {},
   "source": [
    "> So to my surprise, many users rent thir bixi from and to the same station. My hypothesis is for sightseeing, as first station coming up is the one on Jean Drapeau Island.\n",
    "\n",
    "For this reason, deciding to separate the trips starting and ending at the same station"
   ]
  },
  {
   "cell_type": "code",
   "execution_count": 41,
   "metadata": {},
   "outputs": [],
   "source": [
    "def singleTrip(trip):\n",
    "    stations = trip.split('-')\n",
    "    if stations[0] == stations[1]:\n",
    "        return 1\n",
    "    else:\n",
    "        return 0\n",
    "    \n",
    "    "
   ]
  },
  {
   "cell_type": "code",
   "execution_count": 43,
   "metadata": {},
   "outputs": [],
   "source": [
    "top_df['round_trip'] = top_df.index.map(singleTrip)"
   ]
  },
  {
   "cell_type": "code",
   "execution_count": 46,
   "metadata": {},
   "outputs": [],
   "source": [
    "top_df.columns = ['count','duration_sec','round_trip']"
   ]
  },
  {
   "cell_type": "code",
   "execution_count": 44,
   "metadata": {},
   "outputs": [
    {
     "data": {
      "text/html": [
       "<div>\n",
       "<style scoped>\n",
       "    .dataframe tbody tr th:only-of-type {\n",
       "        vertical-align: middle;\n",
       "    }\n",
       "\n",
       "    .dataframe tbody tr th {\n",
       "        vertical-align: top;\n",
       "    }\n",
       "\n",
       "    .dataframe thead th {\n",
       "        text-align: right;\n",
       "    }\n",
       "</style>\n",
       "<table border=\"1\" class=\"dataframe\">\n",
       "  <thead>\n",
       "    <tr style=\"text-align: right;\">\n",
       "      <th></th>\n",
       "      <th>is_member</th>\n",
       "      <th>duration_sec</th>\n",
       "      <th>round_trip</th>\n",
       "    </tr>\n",
       "    <tr>\n",
       "      <th>route</th>\n",
       "      <th></th>\n",
       "      <th></th>\n",
       "      <th></th>\n",
       "    </tr>\n",
       "  </thead>\n",
       "  <tbody>\n",
       "    <tr>\n",
       "      <th>10002-10002</th>\n",
       "      <td>325</td>\n",
       "      <td>1604.636923</td>\n",
       "      <td>1</td>\n",
       "    </tr>\n",
       "    <tr>\n",
       "      <th>10002-4000</th>\n",
       "      <td>1</td>\n",
       "      <td>2335.000000</td>\n",
       "      <td>0</td>\n",
       "    </tr>\n",
       "    <tr>\n",
       "      <th>10002-6001</th>\n",
       "      <td>4</td>\n",
       "      <td>1320.500000</td>\n",
       "      <td>0</td>\n",
       "    </tr>\n",
       "    <tr>\n",
       "      <th>10002-6002</th>\n",
       "      <td>3</td>\n",
       "      <td>1814.000000</td>\n",
       "      <td>0</td>\n",
       "    </tr>\n",
       "    <tr>\n",
       "      <th>10002-6003</th>\n",
       "      <td>1</td>\n",
       "      <td>1858.000000</td>\n",
       "      <td>0</td>\n",
       "    </tr>\n",
       "  </tbody>\n",
       "</table>\n",
       "</div>"
      ],
      "text/plain": [
       "             is_member  duration_sec  round_trip\n",
       "route                                           \n",
       "10002-10002        325   1604.636923           1\n",
       "10002-4000           1   2335.000000           0\n",
       "10002-6001           4   1320.500000           0\n",
       "10002-6002           3   1814.000000           0\n",
       "10002-6003           1   1858.000000           0"
      ]
     },
     "execution_count": 44,
     "metadata": {},
     "output_type": "execute_result"
    }
   ],
   "source": [
    "top_df.head()"
   ]
  },
  {
   "cell_type": "code",
   "execution_count": 47,
   "metadata": {},
   "outputs": [],
   "source": [
    "top_df = top_df.sort_values(by='count',ascending=False)"
   ]
  },
  {
   "cell_type": "code",
   "execution_count": 49,
   "metadata": {
    "scrolled": true
   },
   "outputs": [
    {
     "data": {
      "text/html": [
       "<div>\n",
       "<style scoped>\n",
       "    .dataframe tbody tr th:only-of-type {\n",
       "        vertical-align: middle;\n",
       "    }\n",
       "\n",
       "    .dataframe tbody tr th {\n",
       "        vertical-align: top;\n",
       "    }\n",
       "\n",
       "    .dataframe thead th {\n",
       "        text-align: right;\n",
       "    }\n",
       "</style>\n",
       "<table border=\"1\" class=\"dataframe\">\n",
       "  <thead>\n",
       "    <tr style=\"text-align: right;\">\n",
       "      <th></th>\n",
       "      <th>count</th>\n",
       "      <th>duration_sec</th>\n",
       "      <th>round_trip</th>\n",
       "    </tr>\n",
       "    <tr>\n",
       "      <th>route</th>\n",
       "      <th></th>\n",
       "      <th></th>\n",
       "      <th></th>\n",
       "    </tr>\n",
       "  </thead>\n",
       "  <tbody>\n",
       "    <tr>\n",
       "      <th>6036-6026</th>\n",
       "      <td>994</td>\n",
       "      <td>1622.658954</td>\n",
       "      <td>0</td>\n",
       "    </tr>\n",
       "    <tr>\n",
       "      <th>6501-6109</th>\n",
       "      <td>965</td>\n",
       "      <td>1202.513990</td>\n",
       "      <td>0</td>\n",
       "    </tr>\n",
       "    <tr>\n",
       "      <th>6406-6036</th>\n",
       "      <td>948</td>\n",
       "      <td>1371.289030</td>\n",
       "      <td>0</td>\n",
       "    </tr>\n",
       "    <tr>\n",
       "      <th>6036-6406</th>\n",
       "      <td>926</td>\n",
       "      <td>1410.187905</td>\n",
       "      <td>0</td>\n",
       "    </tr>\n",
       "    <tr>\n",
       "      <th>6109-6501</th>\n",
       "      <td>884</td>\n",
       "      <td>1147.692308</td>\n",
       "      <td>0</td>\n",
       "    </tr>\n",
       "    <tr>\n",
       "      <th>...</th>\n",
       "      <td>...</td>\n",
       "      <td>...</td>\n",
       "      <td>...</td>\n",
       "    </tr>\n",
       "    <tr>\n",
       "      <th>6383-4001</th>\n",
       "      <td>1</td>\n",
       "      <td>2056.000000</td>\n",
       "      <td>0</td>\n",
       "    </tr>\n",
       "    <tr>\n",
       "      <th>6214-6082</th>\n",
       "      <td>1</td>\n",
       "      <td>1173.000000</td>\n",
       "      <td>0</td>\n",
       "    </tr>\n",
       "    <tr>\n",
       "      <th>6114-6254</th>\n",
       "      <td>1</td>\n",
       "      <td>1677.000000</td>\n",
       "      <td>0</td>\n",
       "    </tr>\n",
       "    <tr>\n",
       "      <th>6381-8011</th>\n",
       "      <td>1</td>\n",
       "      <td>4834.000000</td>\n",
       "      <td>0</td>\n",
       "    </tr>\n",
       "    <tr>\n",
       "      <th>6108-7126</th>\n",
       "      <td>1</td>\n",
       "      <td>3869.000000</td>\n",
       "      <td>0</td>\n",
       "    </tr>\n",
       "  </tbody>\n",
       "</table>\n",
       "<p>219616 rows × 3 columns</p>\n",
       "</div>"
      ],
      "text/plain": [
       "           count  duration_sec  round_trip\n",
       "route                                     \n",
       "6036-6026    994   1622.658954           0\n",
       "6501-6109    965   1202.513990           0\n",
       "6406-6036    948   1371.289030           0\n",
       "6036-6406    926   1410.187905           0\n",
       "6109-6501    884   1147.692308           0\n",
       "...          ...           ...         ...\n",
       "6383-4001      1   2056.000000           0\n",
       "6214-6082      1   1173.000000           0\n",
       "6114-6254      1   1677.000000           0\n",
       "6381-8011      1   4834.000000           0\n",
       "6108-7126      1   3869.000000           0\n",
       "\n",
       "[219616 rows x 3 columns]"
      ]
     },
     "execution_count": 49,
     "metadata": {},
     "output_type": "execute_result"
    }
   ],
   "source": [
    "top_df[top_df['round_trip']==0]"
   ]
  },
  {
   "cell_type": "code",
   "execution_count": 50,
   "metadata": {},
   "outputs": [],
   "source": [
    "top10_trips = top_df[top_df['round_trip']==0].head(10)"
   ]
  },
  {
   "cell_type": "code",
   "execution_count": 51,
   "metadata": {},
   "outputs": [
    {
     "data": {
      "text/html": [
       "<div>\n",
       "<style scoped>\n",
       "    .dataframe tbody tr th:only-of-type {\n",
       "        vertical-align: middle;\n",
       "    }\n",
       "\n",
       "    .dataframe tbody tr th {\n",
       "        vertical-align: top;\n",
       "    }\n",
       "\n",
       "    .dataframe thead th {\n",
       "        text-align: right;\n",
       "    }\n",
       "</style>\n",
       "<table border=\"1\" class=\"dataframe\">\n",
       "  <thead>\n",
       "    <tr style=\"text-align: right;\">\n",
       "      <th></th>\n",
       "      <th>count</th>\n",
       "      <th>duration_sec</th>\n",
       "      <th>round_trip</th>\n",
       "    </tr>\n",
       "    <tr>\n",
       "      <th>route</th>\n",
       "      <th></th>\n",
       "      <th></th>\n",
       "      <th></th>\n",
       "    </tr>\n",
       "  </thead>\n",
       "  <tbody>\n",
       "    <tr>\n",
       "      <th>6036-6026</th>\n",
       "      <td>994</td>\n",
       "      <td>1622.658954</td>\n",
       "      <td>0</td>\n",
       "    </tr>\n",
       "    <tr>\n",
       "      <th>6501-6109</th>\n",
       "      <td>965</td>\n",
       "      <td>1202.513990</td>\n",
       "      <td>0</td>\n",
       "    </tr>\n",
       "    <tr>\n",
       "      <th>6406-6036</th>\n",
       "      <td>948</td>\n",
       "      <td>1371.289030</td>\n",
       "      <td>0</td>\n",
       "    </tr>\n",
       "    <tr>\n",
       "      <th>6036-6406</th>\n",
       "      <td>926</td>\n",
       "      <td>1410.187905</td>\n",
       "      <td>0</td>\n",
       "    </tr>\n",
       "    <tr>\n",
       "      <th>6109-6501</th>\n",
       "      <td>884</td>\n",
       "      <td>1147.692308</td>\n",
       "      <td>0</td>\n",
       "    </tr>\n",
       "    <tr>\n",
       "      <th>7103-7105</th>\n",
       "      <td>854</td>\n",
       "      <td>1261.225995</td>\n",
       "      <td>0</td>\n",
       "    </tr>\n",
       "    <tr>\n",
       "      <th>6052-6406</th>\n",
       "      <td>848</td>\n",
       "      <td>1237.279481</td>\n",
       "      <td>0</td>\n",
       "    </tr>\n",
       "    <tr>\n",
       "      <th>6136-6165</th>\n",
       "      <td>841</td>\n",
       "      <td>268.017836</td>\n",
       "      <td>0</td>\n",
       "    </tr>\n",
       "    <tr>\n",
       "      <th>6052-6026</th>\n",
       "      <td>812</td>\n",
       "      <td>1063.266010</td>\n",
       "      <td>0</td>\n",
       "    </tr>\n",
       "    <tr>\n",
       "      <th>6387-6391</th>\n",
       "      <td>789</td>\n",
       "      <td>259.097592</td>\n",
       "      <td>0</td>\n",
       "    </tr>\n",
       "  </tbody>\n",
       "</table>\n",
       "</div>"
      ],
      "text/plain": [
       "           count  duration_sec  round_trip\n",
       "route                                     \n",
       "6036-6026    994   1622.658954           0\n",
       "6501-6109    965   1202.513990           0\n",
       "6406-6036    948   1371.289030           0\n",
       "6036-6406    926   1410.187905           0\n",
       "6109-6501    884   1147.692308           0\n",
       "7103-7105    854   1261.225995           0\n",
       "6052-6406    848   1237.279481           0\n",
       "6136-6165    841    268.017836           0\n",
       "6052-6026    812   1063.266010           0\n",
       "6387-6391    789    259.097592           0"
      ]
     },
     "execution_count": 51,
     "metadata": {},
     "output_type": "execute_result"
    }
   ],
   "source": [
    "top10_trips"
   ]
  },
  {
   "cell_type": "markdown",
   "metadata": {},
   "source": [
    "# Getting the geographic data"
   ]
  },
  {
   "cell_type": "code",
   "execution_count": 35,
   "metadata": {},
   "outputs": [],
   "source": [
    "df_stations = pd.read_csv('data/stations.csv')"
   ]
  },
  {
   "cell_type": "code",
   "execution_count": 36,
   "metadata": {},
   "outputs": [
    {
     "data": {
      "text/html": [
       "<div>\n",
       "<style scoped>\n",
       "    .dataframe tbody tr th:only-of-type {\n",
       "        vertical-align: middle;\n",
       "    }\n",
       "\n",
       "    .dataframe tbody tr th {\n",
       "        vertical-align: top;\n",
       "    }\n",
       "\n",
       "    .dataframe thead th {\n",
       "        text-align: right;\n",
       "    }\n",
       "</style>\n",
       "<table border=\"1\" class=\"dataframe\">\n",
       "  <thead>\n",
       "    <tr style=\"text-align: right;\">\n",
       "      <th></th>\n",
       "      <th>code</th>\n",
       "      <th>name</th>\n",
       "      <th>latitude</th>\n",
       "      <th>longitude</th>\n",
       "    </tr>\n",
       "  </thead>\n",
       "  <tbody>\n",
       "    <tr>\n",
       "      <th>0</th>\n",
       "      <td>6001</td>\n",
       "      <td>Métro Champ-de-Mars (Viger / Sanguinet)</td>\n",
       "      <td>45.510163</td>\n",
       "      <td>-73.556637</td>\n",
       "    </tr>\n",
       "    <tr>\n",
       "      <th>1</th>\n",
       "      <td>6002</td>\n",
       "      <td>Ste-Catherine / Dezery</td>\n",
       "      <td>45.539385</td>\n",
       "      <td>-73.541000</td>\n",
       "    </tr>\n",
       "    <tr>\n",
       "      <th>2</th>\n",
       "      <td>6003</td>\n",
       "      <td>Clark / Ontario</td>\n",
       "      <td>45.510824</td>\n",
       "      <td>-73.567172</td>\n",
       "    </tr>\n",
       "    <tr>\n",
       "      <th>3</th>\n",
       "      <td>6004</td>\n",
       "      <td>du Champ-de-Mars / Gosford</td>\n",
       "      <td>45.509655</td>\n",
       "      <td>-73.554009</td>\n",
       "    </tr>\n",
       "    <tr>\n",
       "      <th>4</th>\n",
       "      <td>6005</td>\n",
       "      <td>Metcalfe / du Square-Dorchester</td>\n",
       "      <td>45.500208</td>\n",
       "      <td>-73.571138</td>\n",
       "    </tr>\n",
       "  </tbody>\n",
       "</table>\n",
       "</div>"
      ],
      "text/plain": [
       "   code                                     name   latitude  longitude\n",
       "0  6001  Métro Champ-de-Mars (Viger / Sanguinet)  45.510163 -73.556637\n",
       "1  6002                   Ste-Catherine / Dezery  45.539385 -73.541000\n",
       "2  6003                          Clark / Ontario  45.510824 -73.567172\n",
       "3  6004               du Champ-de-Mars / Gosford  45.509655 -73.554009\n",
       "4  6005          Metcalfe / du Square-Dorchester  45.500208 -73.571138"
      ]
     },
     "execution_count": 36,
     "metadata": {},
     "output_type": "execute_result"
    }
   ],
   "source": [
    "df_stations.head()"
   ]
  },
  {
   "cell_type": "markdown",
   "metadata": {},
   "source": [
    "Testing grabbing info from one station"
   ]
  },
  {
   "cell_type": "code",
   "execution_count": 53,
   "metadata": {},
   "outputs": [
    {
     "data": {
      "text/html": [
       "<div>\n",
       "<style scoped>\n",
       "    .dataframe tbody tr th:only-of-type {\n",
       "        vertical-align: middle;\n",
       "    }\n",
       "\n",
       "    .dataframe tbody tr th {\n",
       "        vertical-align: top;\n",
       "    }\n",
       "\n",
       "    .dataframe thead th {\n",
       "        text-align: right;\n",
       "    }\n",
       "</style>\n",
       "<table border=\"1\" class=\"dataframe\">\n",
       "  <thead>\n",
       "    <tr style=\"text-align: right;\">\n",
       "      <th></th>\n",
       "      <th>code</th>\n",
       "      <th>name</th>\n",
       "      <th>latitude</th>\n",
       "      <th>longitude</th>\n",
       "    </tr>\n",
       "  </thead>\n",
       "  <tbody>\n",
       "    <tr>\n",
       "      <th>304</th>\n",
       "      <td>6391</td>\n",
       "      <td>Aylwin / Ontario</td>\n",
       "      <td>45.544303</td>\n",
       "      <td>-73.545473</td>\n",
       "    </tr>\n",
       "  </tbody>\n",
       "</table>\n",
       "</div>"
      ],
      "text/plain": [
       "     code              name   latitude  longitude\n",
       "304  6391  Aylwin / Ontario  45.544303 -73.545473"
      ]
     },
     "execution_count": 53,
     "metadata": {},
     "output_type": "execute_result"
    }
   ],
   "source": [
    "df_stations[df_stations['code']==6391]"
   ]
  },
  {
   "cell_type": "markdown",
   "metadata": {},
   "source": [
    "## Getting coordinates of stations"
   ]
  },
  {
   "cell_type": "code",
   "execution_count": 140,
   "metadata": {},
   "outputs": [],
   "source": [
    "def getCoordinates(trip):\n",
    "    stations = trip.split('-')\n",
    "    coord_from = df_stations[df_stations['code']==int(stations[0])][['latitude','longitude']]#The departing station\n",
    "    coord_to =df_stations[df_stations['code']==int(stations[1])][['latitude','longitude']]#The departing station\n",
    "    coord = pd.concat([coord_from.reset_index(),coord_to.reset_index()],axis=1)\n",
    "    coord = coord.drop('index',axis=1)\n",
    "    return coord.iloc[0]"
   ]
  },
  {
   "cell_type": "markdown",
   "metadata": {},
   "source": [
    "A test on a station to see if function works"
   ]
  },
  {
   "cell_type": "code",
   "execution_count": 141,
   "metadata": {},
   "outputs": [
    {
     "name": "stdout",
     "output_type": "stream",
     "text": [
      "latitude     45.546907\n",
      "longitude   -73.551557\n",
      "latitude     45.544303\n",
      "longitude   -73.545473\n",
      "Name: 0, dtype: float64\n"
     ]
    }
   ],
   "source": [
    "print(getCoordinates('6387-6391'))"
   ]
  },
  {
   "cell_type": "code",
   "execution_count": 142,
   "metadata": {},
   "outputs": [],
   "source": [
    "top10_trips['from_lat'],top10_trips['from_long'],top10_trips['to_lat'],top10_trips['to_long'] =zip(*top10_trips.index.map(getCoordinates))"
   ]
  },
  {
   "cell_type": "code",
   "execution_count": 114,
   "metadata": {},
   "outputs": [],
   "source": [
    "top10_trips = top10_trips.drop('round_trip',axis=1)"
   ]
  },
  {
   "cell_type": "markdown",
   "metadata": {},
   "source": [
    "## Getting names of stations"
   ]
  },
  {
   "cell_type": "code",
   "execution_count": 145,
   "metadata": {},
   "outputs": [],
   "source": [
    "def getNames(trip):\n",
    "    stations = trip.split('-')\n",
    "    name_from = df_stations[df_stations['code']==int(stations[0])][['name']]#The departing station\n",
    "    name_to =df_stations[df_stations['code']==int(stations[1])][['name']]#The departing station\n",
    "    names = pd.concat([name_from.reset_index(),name_to.reset_index()],axis=1)\n",
    "    names = names.drop('index',axis=1)\n",
    "    return names.iloc[0]"
   ]
  },
  {
   "cell_type": "markdown",
   "metadata": {},
   "source": [
    "A test on a station to see if function works"
   ]
  },
  {
   "cell_type": "code",
   "execution_count": 146,
   "metadata": {
    "scrolled": true
   },
   "outputs": [
    {
     "name": "stdout",
     "output_type": "stream",
     "text": [
      "name    Métro Joliette  (Joliette / Hochelaga)\n",
      "name                          Aylwin / Ontario\n",
      "Name: 0, dtype: object\n"
     ]
    }
   ],
   "source": [
    "print(getNames('6387-6391'))"
   ]
  },
  {
   "cell_type": "code",
   "execution_count": 147,
   "metadata": {},
   "outputs": [],
   "source": [
    "top10_trips['name_from'],top10_trips['name_to'] =zip(*top10_trips.index.map(getNames))"
   ]
  },
  {
   "cell_type": "markdown",
   "metadata": {},
   "source": [
    "## Calculating mean of coordinates to center the maps"
   ]
  },
  {
   "cell_type": "code",
   "execution_count": 110,
   "metadata": {},
   "outputs": [],
   "source": [
    "top10_trips['mean_lat'] = top10_trips[['from_lat','to_lat']].mean(axis=1)"
   ]
  },
  {
   "cell_type": "code",
   "execution_count": 112,
   "metadata": {},
   "outputs": [],
   "source": [
    "top10_trips['mean_long'] = top10_trips[['from_long','to_long']].mean(axis=1)"
   ]
  },
  {
   "cell_type": "code",
   "execution_count": 148,
   "metadata": {},
   "outputs": [
    {
     "data": {
      "text/html": [
       "<div>\n",
       "<style scoped>\n",
       "    .dataframe tbody tr th:only-of-type {\n",
       "        vertical-align: middle;\n",
       "    }\n",
       "\n",
       "    .dataframe tbody tr th {\n",
       "        vertical-align: top;\n",
       "    }\n",
       "\n",
       "    .dataframe thead th {\n",
       "        text-align: right;\n",
       "    }\n",
       "</style>\n",
       "<table border=\"1\" class=\"dataframe\">\n",
       "  <thead>\n",
       "    <tr style=\"text-align: right;\">\n",
       "      <th></th>\n",
       "      <th>count</th>\n",
       "      <th>duration_sec</th>\n",
       "      <th>from_lat</th>\n",
       "      <th>from_long</th>\n",
       "      <th>to_lat</th>\n",
       "      <th>to_long</th>\n",
       "      <th>mean_lat</th>\n",
       "      <th>mean_long</th>\n",
       "      <th>name_from</th>\n",
       "      <th>name_to</th>\n",
       "    </tr>\n",
       "    <tr>\n",
       "      <th>route</th>\n",
       "      <th></th>\n",
       "      <th></th>\n",
       "      <th></th>\n",
       "      <th></th>\n",
       "      <th></th>\n",
       "      <th></th>\n",
       "      <th></th>\n",
       "      <th></th>\n",
       "      <th></th>\n",
       "      <th></th>\n",
       "    </tr>\n",
       "  </thead>\n",
       "  <tbody>\n",
       "    <tr>\n",
       "      <th>6036-6026</th>\n",
       "      <td>994</td>\n",
       "      <td>1622.658954</td>\n",
       "      <td>45.504242</td>\n",
       "      <td>-73.553469</td>\n",
       "      <td>45.507610</td>\n",
       "      <td>-73.551836</td>\n",
       "      <td>45.505926</td>\n",
       "      <td>-73.552653</td>\n",
       "      <td>de la Commune / St-Sulpice</td>\n",
       "      <td>de la Commune / Place Jacques-Cartier</td>\n",
       "    </tr>\n",
       "    <tr>\n",
       "      <th>6501-6109</th>\n",
       "      <td>965</td>\n",
       "      <td>1202.513990</td>\n",
       "      <td>45.512801</td>\n",
       "      <td>-73.531116</td>\n",
       "      <td>45.502659</td>\n",
       "      <td>-73.527535</td>\n",
       "      <td>45.507730</td>\n",
       "      <td>-73.529326</td>\n",
       "      <td>Parc Jean-Drapeau (Chemin Macdonald)</td>\n",
       "      <td>Parc Plage</td>\n",
       "    </tr>\n",
       "    <tr>\n",
       "      <th>6406-6036</th>\n",
       "      <td>948</td>\n",
       "      <td>1371.289030</td>\n",
       "      <td>45.480208</td>\n",
       "      <td>-73.577599</td>\n",
       "      <td>45.504242</td>\n",
       "      <td>-73.553469</td>\n",
       "      <td>45.492225</td>\n",
       "      <td>-73.565534</td>\n",
       "      <td>Marché Atwater</td>\n",
       "      <td>de la Commune / St-Sulpice</td>\n",
       "    </tr>\n",
       "    <tr>\n",
       "      <th>6036-6406</th>\n",
       "      <td>926</td>\n",
       "      <td>1410.187905</td>\n",
       "      <td>45.504242</td>\n",
       "      <td>-73.553469</td>\n",
       "      <td>45.480208</td>\n",
       "      <td>-73.577599</td>\n",
       "      <td>45.492225</td>\n",
       "      <td>-73.565534</td>\n",
       "      <td>de la Commune / St-Sulpice</td>\n",
       "      <td>Marché Atwater</td>\n",
       "    </tr>\n",
       "    <tr>\n",
       "      <th>6109-6501</th>\n",
       "      <td>884</td>\n",
       "      <td>1147.692308</td>\n",
       "      <td>45.502659</td>\n",
       "      <td>-73.527535</td>\n",
       "      <td>45.512801</td>\n",
       "      <td>-73.531116</td>\n",
       "      <td>45.507730</td>\n",
       "      <td>-73.529326</td>\n",
       "      <td>Parc Plage</td>\n",
       "      <td>Parc Jean-Drapeau (Chemin Macdonald)</td>\n",
       "    </tr>\n",
       "  </tbody>\n",
       "</table>\n",
       "</div>"
      ],
      "text/plain": [
       "           count  duration_sec   from_lat  from_long     to_lat    to_long  \\\n",
       "route                                                                        \n",
       "6036-6026    994   1622.658954  45.504242 -73.553469  45.507610 -73.551836   \n",
       "6501-6109    965   1202.513990  45.512801 -73.531116  45.502659 -73.527535   \n",
       "6406-6036    948   1371.289030  45.480208 -73.577599  45.504242 -73.553469   \n",
       "6036-6406    926   1410.187905  45.504242 -73.553469  45.480208 -73.577599   \n",
       "6109-6501    884   1147.692308  45.502659 -73.527535  45.512801 -73.531116   \n",
       "\n",
       "            mean_lat  mean_long                             name_from  \\\n",
       "route                                                                   \n",
       "6036-6026  45.505926 -73.552653            de la Commune / St-Sulpice   \n",
       "6501-6109  45.507730 -73.529326  Parc Jean-Drapeau (Chemin Macdonald)   \n",
       "6406-6036  45.492225 -73.565534                        Marché Atwater   \n",
       "6036-6406  45.492225 -73.565534            de la Commune / St-Sulpice   \n",
       "6109-6501  45.507730 -73.529326                            Parc Plage   \n",
       "\n",
       "                                         name_to  \n",
       "route                                             \n",
       "6036-6026  de la Commune / Place Jacques-Cartier  \n",
       "6501-6109                             Parc Plage  \n",
       "6406-6036             de la Commune / St-Sulpice  \n",
       "6036-6406                         Marché Atwater  \n",
       "6109-6501   Parc Jean-Drapeau (Chemin Macdonald)  "
      ]
     },
     "execution_count": 148,
     "metadata": {},
     "output_type": "execute_result"
    }
   ],
   "source": [
    "top10_trips.head()"
   ]
  },
  {
   "cell_type": "code",
   "execution_count": 119,
   "metadata": {},
   "outputs": [],
   "source": [
    "top10_trips.to_pickle('top_10.pkl')"
   ]
  },
  {
   "cell_type": "markdown",
   "metadata": {},
   "source": [
    "# Displaying stations (Folium)"
   ]
  },
  {
   "cell_type": "code",
   "execution_count": 116,
   "metadata": {},
   "outputs": [],
   "source": [
    "import folium"
   ]
  },
  {
   "cell_type": "markdown",
   "metadata": {},
   "source": [
    "## test on one station"
   ]
  },
  {
   "cell_type": "code",
   "execution_count": 156,
   "metadata": {},
   "outputs": [
    {
     "data": {
      "text/plain": [
       "'de la Commune / St-Sulpice'"
      ]
     },
     "execution_count": 156,
     "metadata": {},
     "output_type": "execute_result"
    }
   ],
   "source": [
    "top10_trips.loc['6036-6026','name_from']"
   ]
  },
  {
   "cell_type": "code",
   "execution_count": 195,
   "metadata": {},
   "outputs": [
    {
     "data": {
      "text/plain": [
       "<folium.map.Marker at 0x14872bcd0>"
      ]
     },
     "execution_count": 195,
     "metadata": {},
     "output_type": "execute_result"
    }
   ],
   "source": [
    "m = folium.Map(location=[top10_trips.loc['6036-6026','mean_lat'], top10_trips.loc['6036-6026','mean_long']], zoom_start=15)\n",
    "\n",
    "folium.Marker(\n",
    "    [top10_trips.loc['6036-6026','from_lat'],top10_trips.loc['6036-6026','from_long']], popup=top10_trips.loc['6036-6026','name_from'], tooltip=\"Origin\",\n",
    "icon=folium.Icon(color='blue', icon='bicycle', prefix='fa')).add_to(m)\n",
    "folium.Marker(\n",
    "    [top10_trips.loc['6036-6026','to_lat'],top10_trips.loc['6036-6026','to_long']], popup=top10_trips.loc['6036-6026','name_to'], tooltip=\"Destination\",\n",
    "icon=folium.Icon(color='lightred', icon='star')).add_to(m)"
   ]
  },
  {
   "cell_type": "code",
   "execution_count": 200,
   "metadata": {},
   "outputs": [
    {
     "data": {
      "text/html": [
       "<div style=\"width:100%;\"><div style=\"position:relative;width:100%;height:0;padding-bottom:60%;\"><span style=\"color:#565656\">Make this Notebook Trusted to load map: File -> Trust Notebook</span><iframe src=\"about:blank\" style=\"position:absolute;width:100%;height:100%;left:0;top:0;border:none !important;\" data-html=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 onload=\"this.contentDocument.open();this.contentDocument.write(atob(this.getAttribute('data-html')));this.contentDocument.close();\" allowfullscreen webkitallowfullscreen mozallowfullscreen></iframe></div></div>"
      ],
      "text/plain": [
       "<folium.folium.Map at 0x14872b190>"
      ]
     },
     "metadata": {},
     "output_type": "display_data"
    }
   ],
   "source": [
    "display(m)"
   ]
  },
  {
   "cell_type": "markdown",
   "metadata": {},
   "source": [
    "## Displaying all 10"
   ]
  },
  {
   "cell_type": "code",
   "execution_count": 203,
   "metadata": {
    "scrolled": false
   },
   "outputs": [
    {
     "data": {
      "text/html": [
       "<div style=\"width:100%;\"><div style=\"position:relative;width:100%;height:0;padding-bottom:60%;\"><span style=\"color:#565656\">Make this Notebook Trusted to load map: File -> Trust Notebook</span><iframe src=\"about:blank\" style=\"position:absolute;width:100%;height:100%;left:0;top:0;border:none !important;\" data-html=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 onload=\"this.contentDocument.open();this.contentDocument.write(atob(this.getAttribute('data-html')));this.contentDocument.close();\" allowfullscreen webkitallowfullscreen mozallowfullscreen></iframe></div></div>"
      ],
      "text/plain": [
       "<folium.folium.Map at 0x14c511250>"
      ]
     },
     "metadata": {},
     "output_type": "display_data"
    },
    {
     "data": {
      "text/html": [
       "<div style=\"width:100%;\"><div style=\"position:relative;width:100%;height:0;padding-bottom:60%;\"><span style=\"color:#565656\">Make this Notebook Trusted to load map: File -> Trust Notebook</span><iframe src=\"about:blank\" style=\"position:absolute;width:100%;height:100%;left:0;top:0;border:none !important;\" data-html=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 onload=\"this.contentDocument.open();this.contentDocument.write(atob(this.getAttribute('data-html')));this.contentDocument.close();\" allowfullscreen webkitallowfullscreen mozallowfullscreen></iframe></div></div>"
      ],
      "text/plain": [
       "<folium.folium.Map at 0x1486b9550>"
      ]
     },
     "metadata": {},
     "output_type": "display_data"
    },
    {
     "data": {
      "text/html": [
       "<div style=\"width:100%;\"><div style=\"position:relative;width:100%;height:0;padding-bottom:60%;\"><span style=\"color:#565656\">Make this Notebook Trusted to load map: File -> Trust Notebook</span><iframe src=\"about:blank\" style=\"position:absolute;width:100%;height:100%;left:0;top:0;border:none !important;\" data-html=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 onload=\"this.contentDocument.open();this.contentDocument.write(atob(this.getAttribute('data-html')));this.contentDocument.close();\" allowfullscreen webkitallowfullscreen mozallowfullscreen></iframe></div></div>"
      ],
      "text/plain": [
       "<folium.folium.Map at 0x148c9e850>"
      ]
     },
     "metadata": {},
     "output_type": "display_data"
    },
    {
     "data": {
      "text/html": [
       "<div style=\"width:100%;\"><div style=\"position:relative;width:100%;height:0;padding-bottom:60%;\"><span style=\"color:#565656\">Make this Notebook Trusted to load map: File -> Trust Notebook</span><iframe src=\"about:blank\" style=\"position:absolute;width:100%;height:100%;left:0;top:0;border:none !important;\" data-html=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 onload=\"this.contentDocument.open();this.contentDocument.write(atob(this.getAttribute('data-html')));this.contentDocument.close();\" allowfullscreen webkitallowfullscreen mozallowfullscreen></iframe></div></div>"
      ],
      "text/plain": [
       "<folium.folium.Map at 0x14c5b90d0>"
      ]
     },
     "metadata": {},
     "output_type": "display_data"
    },
    {
     "data": {
      "text/html": [
       "<div style=\"width:100%;\"><div style=\"position:relative;width:100%;height:0;padding-bottom:60%;\"><span style=\"color:#565656\">Make this Notebook Trusted to load map: File -> Trust Notebook</span><iframe src=\"about:blank\" style=\"position:absolute;width:100%;height:100%;left:0;top:0;border:none !important;\" data-html=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 onload=\"this.contentDocument.open();this.contentDocument.write(atob(this.getAttribute('data-html')));this.contentDocument.close();\" allowfullscreen webkitallowfullscreen mozallowfullscreen></iframe></div></div>"
      ],
      "text/plain": [
       "<folium.folium.Map at 0x14c5b9790>"
      ]
     },
     "metadata": {},
     "output_type": "display_data"
    },
    {
     "data": {
      "text/html": [
       "<div style=\"width:100%;\"><div style=\"position:relative;width:100%;height:0;padding-bottom:60%;\"><span style=\"color:#565656\">Make this Notebook Trusted to load map: File -> Trust Notebook</span><iframe src=\"about:blank\" style=\"position:absolute;width:100%;height:100%;left:0;top:0;border:none !important;\" data-html=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 onload=\"this.contentDocument.open();this.contentDocument.write(atob(this.getAttribute('data-html')));this.contentDocument.close();\" allowfullscreen webkitallowfullscreen mozallowfullscreen></iframe></div></div>"
      ],
      "text/plain": [
       "<folium.folium.Map at 0x14c6285d0>"
      ]
     },
     "metadata": {},
     "output_type": "display_data"
    },
    {
     "data": {
      "text/html": [
       "<div style=\"width:100%;\"><div style=\"position:relative;width:100%;height:0;padding-bottom:60%;\"><span style=\"color:#565656\">Make this Notebook Trusted to load map: File -> Trust Notebook</span><iframe src=\"about:blank\" style=\"position:absolute;width:100%;height:100%;left:0;top:0;border:none !important;\" data-html=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 onload=\"this.contentDocument.open();this.contentDocument.write(atob(this.getAttribute('data-html')));this.contentDocument.close();\" allowfullscreen webkitallowfullscreen mozallowfullscreen></iframe></div></div>"
      ],
      "text/plain": [
       "<folium.folium.Map at 0x14c811650>"
      ]
     },
     "metadata": {},
     "output_type": "display_data"
    },
    {
     "data": {
      "text/html": [
       "<div style=\"width:100%;\"><div style=\"position:relative;width:100%;height:0;padding-bottom:60%;\"><span style=\"color:#565656\">Make this Notebook Trusted to load map: File -> Trust Notebook</span><iframe src=\"about:blank\" style=\"position:absolute;width:100%;height:100%;left:0;top:0;border:none !important;\" data-html=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 onload=\"this.contentDocument.open();this.contentDocument.write(atob(this.getAttribute('data-html')));this.contentDocument.close();\" allowfullscreen webkitallowfullscreen mozallowfullscreen></iframe></div></div>"
      ],
      "text/plain": [
       "<folium.folium.Map at 0x14cd15510>"
      ]
     },
     "metadata": {},
     "output_type": "display_data"
    },
    {
     "data": {
      "text/html": [
       "<div style=\"width:100%;\"><div style=\"position:relative;width:100%;height:0;padding-bottom:60%;\"><span style=\"color:#565656\">Make this Notebook Trusted to load map: File -> Trust Notebook</span><iframe src=\"about:blank\" style=\"position:absolute;width:100%;height:100%;left:0;top:0;border:none !important;\" data-html=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 onload=\"this.contentDocument.open();this.contentDocument.write(atob(this.getAttribute('data-html')));this.contentDocument.close();\" allowfullscreen webkitallowfullscreen mozallowfullscreen></iframe></div></div>"
      ],
      "text/plain": [
       "<folium.folium.Map at 0x14cdc3dd0>"
      ]
     },
     "metadata": {},
     "output_type": "display_data"
    },
    {
     "data": {
      "text/html": [
       "<div style=\"width:100%;\"><div style=\"position:relative;width:100%;height:0;padding-bottom:60%;\"><span style=\"color:#565656\">Make this Notebook Trusted to load map: File -> Trust Notebook</span><iframe src=\"about:blank\" style=\"position:absolute;width:100%;height:100%;left:0;top:0;border:none !important;\" data-html=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 onload=\"this.contentDocument.open();this.contentDocument.write(atob(this.getAttribute('data-html')));this.contentDocument.close();\" allowfullscreen webkitallowfullscreen mozallowfullscreen></iframe></div></div>"
      ],
      "text/plain": [
       "<folium.folium.Map at 0x14cde72d0>"
      ]
     },
     "metadata": {},
     "output_type": "display_data"
    }
   ],
   "source": [
    "for index, row in top10_trips.iterrows():\n",
    "    m = folium.Map(location=[row['mean_lat'], row['mean_long']], zoom_start=14)\n",
    "    folium.Marker(\n",
    "    [row['from_lat'],row['from_long']], popup=row['name_from'], tooltip=\"Origin\",\n",
    "icon=folium.Icon(color='blue', icon='bicycle', prefix='fa')).add_to(m)\n",
    "    folium.Marker(\n",
    "    [row['to_lat'],row['to_long']], popup=row['name_to'], tooltip=\"Destination\",\n",
    "icon=folium.Icon(color='lightred', icon='star')).add_to(m)\n",
    "    display(m)"
   ]
  },
  {
   "cell_type": "code",
   "execution_count": null,
   "metadata": {},
   "outputs": [],
   "source": []
  }
 ],
 "metadata": {
  "kernelspec": {
   "display_name": "Python 3",
   "language": "python",
   "name": "python3"
  },
  "language_info": {
   "codemirror_mode": {
    "name": "ipython",
    "version": 3
   },
   "file_extension": ".py",
   "mimetype": "text/x-python",
   "name": "python",
   "nbconvert_exporter": "python",
   "pygments_lexer": "ipython3",
   "version": "3.7.7"
  },
  "toc": {
   "base_numbering": 1,
   "nav_menu": {},
   "number_sections": true,
   "sideBar": true,
   "skip_h1_title": false,
   "title_cell": "Table of Contents",
   "title_sidebar": "Contents",
   "toc_cell": true,
   "toc_position": {
    "height": "calc(100% - 180px)",
    "left": "10px",
    "top": "150px",
    "width": "288px"
   },
   "toc_section_display": true,
   "toc_window_display": true
  }
 },
 "nbformat": 4,
 "nbformat_minor": 4
}
