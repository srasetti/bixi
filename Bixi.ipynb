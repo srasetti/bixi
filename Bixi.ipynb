{
 "cells": [
  {
   "cell_type": "markdown",
   "metadata": {
    "toc": true
   },
   "source": [
    "<h1>Table of Contents<span class=\"tocSkip\"></span></h1>\n",
    "<div class=\"toc\"><ul class=\"toc-item\"><li><span><a href=\"#Getting-most-used-routes\" data-toc-modified-id=\"Getting-most-used-routes-1\"><span class=\"toc-item-num\">1&nbsp;&nbsp;</span>Getting most used routes</a></span><ul class=\"toc-item\"><li><span><a href=\"#Exploration-of-dataset\" data-toc-modified-id=\"Exploration-of-dataset-1.1\"><span class=\"toc-item-num\">1.1&nbsp;&nbsp;</span>Exploration of dataset</a></span></li><li><span><a href=\"#creating-the-routes-column\" data-toc-modified-id=\"creating-the-routes-column-1.2\"><span class=\"toc-item-num\">1.2&nbsp;&nbsp;</span>creating the routes column</a></span></li><li><span><a href=\"#Adding-the-column-to-detect-single-station-trips\" data-toc-modified-id=\"Adding-the-column-to-detect-single-station-trips-1.3\"><span class=\"toc-item-num\">1.3&nbsp;&nbsp;</span>Adding the column to detect single station trips</a></span></li><li><span><a href=\"#Selecting-non-round-trips\" data-toc-modified-id=\"Selecting-non-round-trips-1.4\"><span class=\"toc-item-num\">1.4&nbsp;&nbsp;</span>Selecting non round trips</a></span></li></ul></li><li><span><a href=\"#Getting-the-geographic-data\" data-toc-modified-id=\"Getting-the-geographic-data-2\"><span class=\"toc-item-num\">2&nbsp;&nbsp;</span>Getting the geographic data</a></span><ul class=\"toc-item\"><li><span><a href=\"#Getting-coordinates-of-stations\" data-toc-modified-id=\"Getting-coordinates-of-stations-2.1\"><span class=\"toc-item-num\">2.1&nbsp;&nbsp;</span>Getting coordinates of stations</a></span></li><li><span><a href=\"#Getting-names-of-stations\" data-toc-modified-id=\"Getting-names-of-stations-2.2\"><span class=\"toc-item-num\">2.2&nbsp;&nbsp;</span>Getting names of stations</a></span></li><li><span><a href=\"#Calculating-mean-of-coordinates-to-center-the-maps\" data-toc-modified-id=\"Calculating-mean-of-coordinates-to-center-the-maps-2.3\"><span class=\"toc-item-num\">2.3&nbsp;&nbsp;</span>Calculating mean of coordinates to center the maps</a></span></li></ul></li><li><span><a href=\"#Displaying-stations-(Folium)\" data-toc-modified-id=\"Displaying-stations-(Folium)-3\"><span class=\"toc-item-num\">3&nbsp;&nbsp;</span>Displaying stations (Folium)</a></span><ul class=\"toc-item\"><li><span><a href=\"#test-on-one-station\" data-toc-modified-id=\"test-on-one-station-3.1\"><span class=\"toc-item-num\">3.1&nbsp;&nbsp;</span>test on one station</a></span></li><li><span><a href=\"#Displaying-all-10\" data-toc-modified-id=\"Displaying-all-10-3.2\"><span class=\"toc-item-num\">3.2&nbsp;&nbsp;</span>Displaying all 10</a></span></li></ul></li><li><span><a href=\"#Round-trips-analyse\" data-toc-modified-id=\"Round-trips-analyse-4\"><span class=\"toc-item-num\">4&nbsp;&nbsp;</span>Round trips analyse</a></span><ul class=\"toc-item\"><li><span><a href=\"#Selecting-round-trips\" data-toc-modified-id=\"Selecting-round-trips-4.1\"><span class=\"toc-item-num\">4.1&nbsp;&nbsp;</span>Selecting round trips</a></span></li><li><span><a href=\"#displaying-the-stations\" data-toc-modified-id=\"displaying-the-stations-4.2\"><span class=\"toc-item-num\">4.2&nbsp;&nbsp;</span>displaying the stations</a></span></li></ul></li><li><span><a href=\"#Displaying-a-path-between-2-stations\" data-toc-modified-id=\"Displaying-a-path-between-2-stations-5\"><span class=\"toc-item-num\">5&nbsp;&nbsp;</span>Displaying a path between 2 stations</a></span><ul class=\"toc-item\"><li><span><a href=\"#Test-on-6036-6406-route\" data-toc-modified-id=\"Test-on-6036-6406-route-5.1\"><span class=\"toc-item-num\">5.1&nbsp;&nbsp;</span>Test on 6036-6406 route</a></span></li></ul></li><li><span><a href=\"#Comparison-between-subscribers-and-non-subscribers\" data-toc-modified-id=\"Comparison-between-subscribers-and-non-subscribers-6\"><span class=\"toc-item-num\">6&nbsp;&nbsp;</span>Comparison between subscribers and non subscribers</a></span><ul class=\"toc-item\"><li><span><a href=\"#Preparing-the-DataFrame\" data-toc-modified-id=\"Preparing-the-DataFrame-6.1\"><span class=\"toc-item-num\">6.1&nbsp;&nbsp;</span>Preparing the DataFrame</a></span></li><li><span><a href=\"#Comparisons\" data-toc-modified-id=\"Comparisons-6.2\"><span class=\"toc-item-num\">6.2&nbsp;&nbsp;</span>Comparisons</a></span><ul class=\"toc-item\"><li><span><a href=\"#Members-versus-non-members-trips\" data-toc-modified-id=\"Members-versus-non-members-trips-6.2.1\"><span class=\"toc-item-num\">6.2.1&nbsp;&nbsp;</span>Members versus non members trips</a></span></li><li><span><a href=\"#Round-trips-proportion\" data-toc-modified-id=\"Round-trips-proportion-6.2.2\"><span class=\"toc-item-num\">6.2.2&nbsp;&nbsp;</span>Round trips proportion</a></span></li></ul></li></ul></li><li><span><a href=\"#Graphical-comparisons\" data-toc-modified-id=\"Graphical-comparisons-7\"><span class=\"toc-item-num\">7&nbsp;&nbsp;</span>Graphical comparisons</a></span><ul class=\"toc-item\"><li><span><a href=\"#A-visual-analyze-of-the-routes\" data-toc-modified-id=\"A-visual-analyze-of-the-routes-7.1\"><span class=\"toc-item-num\">7.1&nbsp;&nbsp;</span>A visual analyze of the routes</a></span></li><li><span><a href=\"#How-many-trips-per-week-(total,-by-members-and-non-members)\" data-toc-modified-id=\"How-many-trips-per-week-(total,-by-members-and-non-members)-7.2\"><span class=\"toc-item-num\">7.2&nbsp;&nbsp;</span>How many trips per week (total, by members and non members)</a></span></li></ul></li><li><span><a href=\"#Other-request\" data-toc-modified-id=\"Other-request-8\"><span class=\"toc-item-num\">8&nbsp;&nbsp;</span>Other request</a></span><ul class=\"toc-item\"><li><span><a href=\"#Request-from-Thib\" data-toc-modified-id=\"Request-from-Thib-8.1\"><span class=\"toc-item-num\">8.1&nbsp;&nbsp;</span>Request from Thib</a></span></li></ul></li><li><span><a href=\"#Loading-dataframes\" data-toc-modified-id=\"Loading-dataframes-9\"><span class=\"toc-item-num\">9&nbsp;&nbsp;</span>Loading dataframes</a></span><ul class=\"toc-item\"><li><span><a href=\"#Main-DF\" data-toc-modified-id=\"Main-DF-9.1\"><span class=\"toc-item-num\">9.1&nbsp;&nbsp;</span>Main DF</a></span></li><li><span><a href=\"#Top-DF\" data-toc-modified-id=\"Top-DF-9.2\"><span class=\"toc-item-num\">9.2&nbsp;&nbsp;</span>Top DF</a></span></li><li><span><a href=\"#Top-10-trips\" data-toc-modified-id=\"Top-10-trips-9.3\"><span class=\"toc-item-num\">9.3&nbsp;&nbsp;</span>Top 10 trips</a></span></li></ul></li></ul></div>"
   ]
  },
  {
   "cell_type": "markdown",
   "metadata": {},
   "source": [
    "What are bixis most used routes? \n",
    "\n",
    "Using the open data from Bixi with each rental and the list of stations"
   ]
  },
  {
   "cell_type": "markdown",
   "metadata": {},
   "source": [
    "# Getting most used routes"
   ]
  },
  {
   "cell_type": "markdown",
   "metadata": {},
   "source": [
    "Defining the most used paths by bixi users"
   ]
  },
  {
   "cell_type": "code",
   "execution_count": 64,
   "metadata": {},
   "outputs": [],
   "source": [
    "import pandas as pd\n",
    "import folium\n",
    "from math import radians, cos, sin, asin, sqrt\n",
    "import requests\n",
    "\n",
    "import matplotlib.pyplot as plt\n",
    "import seaborn as sns\n",
    "\n",
    "from credentials import *#module with key for API"
   ]
  },
  {
   "cell_type": "code",
   "execution_count": 2,
   "metadata": {},
   "outputs": [],
   "source": [
    "df = pd.read_csv('data/OD_2020.csv')"
   ]
  },
  {
   "cell_type": "markdown",
   "metadata": {},
   "source": [
    "## Exploration of dataset"
   ]
  },
  {
   "cell_type": "code",
   "execution_count": 3,
   "metadata": {
    "scrolled": true
   },
   "outputs": [
    {
     "data": {
      "text/html": [
       "<div>\n",
       "<style scoped>\n",
       "    .dataframe tbody tr th:only-of-type {\n",
       "        vertical-align: middle;\n",
       "    }\n",
       "\n",
       "    .dataframe tbody tr th {\n",
       "        vertical-align: top;\n",
       "    }\n",
       "\n",
       "    .dataframe thead th {\n",
       "        text-align: right;\n",
       "    }\n",
       "</style>\n",
       "<table border=\"1\" class=\"dataframe\">\n",
       "  <thead>\n",
       "    <tr style=\"text-align: right;\">\n",
       "      <th></th>\n",
       "      <th>start_date</th>\n",
       "      <th>start_station_code</th>\n",
       "      <th>end_date</th>\n",
       "      <th>end_station_code</th>\n",
       "      <th>duration_sec</th>\n",
       "      <th>is_member</th>\n",
       "    </tr>\n",
       "  </thead>\n",
       "  <tbody>\n",
       "    <tr>\n",
       "      <th>0</th>\n",
       "      <td>2020-04-15 06:00:04</td>\n",
       "      <td>6212</td>\n",
       "      <td>2020-04-15 06:20:54</td>\n",
       "      <td>6250</td>\n",
       "      <td>1250</td>\n",
       "      <td>1</td>\n",
       "    </tr>\n",
       "    <tr>\n",
       "      <th>1</th>\n",
       "      <td>2020-04-15 06:05:41</td>\n",
       "      <td>6369</td>\n",
       "      <td>2020-04-15 06:32:47</td>\n",
       "      <td>6072</td>\n",
       "      <td>1626</td>\n",
       "      <td>1</td>\n",
       "    </tr>\n",
       "    <tr>\n",
       "      <th>2</th>\n",
       "      <td>2020-04-15 06:07:27</td>\n",
       "      <td>6207</td>\n",
       "      <td>2020-04-15 06:19:32</td>\n",
       "      <td>7038</td>\n",
       "      <td>724</td>\n",
       "      <td>1</td>\n",
       "    </tr>\n",
       "    <tr>\n",
       "      <th>3</th>\n",
       "      <td>2020-04-15 06:09:16</td>\n",
       "      <td>6202</td>\n",
       "      <td>2020-04-15 06:18:49</td>\n",
       "      <td>6212</td>\n",
       "      <td>572</td>\n",
       "      <td>1</td>\n",
       "    </tr>\n",
       "    <tr>\n",
       "      <th>4</th>\n",
       "      <td>2020-04-15 06:09:38</td>\n",
       "      <td>6159</td>\n",
       "      <td>2020-04-15 06:24:23</td>\n",
       "      <td>7067</td>\n",
       "      <td>885</td>\n",
       "      <td>1</td>\n",
       "    </tr>\n",
       "  </tbody>\n",
       "</table>\n",
       "</div>"
      ],
      "text/plain": [
       "            start_date  start_station_code             end_date  \\\n",
       "0  2020-04-15 06:00:04                6212  2020-04-15 06:20:54   \n",
       "1  2020-04-15 06:05:41                6369  2020-04-15 06:32:47   \n",
       "2  2020-04-15 06:07:27                6207  2020-04-15 06:19:32   \n",
       "3  2020-04-15 06:09:16                6202  2020-04-15 06:18:49   \n",
       "4  2020-04-15 06:09:38                6159  2020-04-15 06:24:23   \n",
       "\n",
       "   end_station_code  duration_sec  is_member  \n",
       "0              6250          1250          1  \n",
       "1              6072          1626          1  \n",
       "2              7038           724          1  \n",
       "3              6212           572          1  \n",
       "4              7067           885          1  "
      ]
     },
     "execution_count": 3,
     "metadata": {},
     "output_type": "execute_result"
    }
   ],
   "source": [
    "df.head()"
   ]
  },
  {
   "cell_type": "code",
   "execution_count": 9,
   "metadata": {
    "scrolled": true
   },
   "outputs": [
    {
     "data": {
      "text/plain": [
       "start_date            object\n",
       "start_station_code     int64\n",
       "end_date              object\n",
       "end_station_code       int64\n",
       "duration_sec           int64\n",
       "is_member              int64\n",
       "dtype: object"
      ]
     },
     "execution_count": 9,
     "metadata": {},
     "output_type": "execute_result"
    }
   ],
   "source": [
    "df.dtypes"
   ]
  },
  {
   "cell_type": "code",
   "execution_count": 19,
   "metadata": {},
   "outputs": [
    {
     "data": {
      "text/plain": [
       "(3264741, 7)"
      ]
     },
     "execution_count": 19,
     "metadata": {},
     "output_type": "execute_result"
    }
   ],
   "source": [
    "df.shape"
   ]
  },
  {
   "cell_type": "code",
   "execution_count": 24,
   "metadata": {},
   "outputs": [
    {
     "data": {
      "text/html": [
       "<div>\n",
       "<style scoped>\n",
       "    .dataframe tbody tr th:only-of-type {\n",
       "        vertical-align: middle;\n",
       "    }\n",
       "\n",
       "    .dataframe tbody tr th {\n",
       "        vertical-align: top;\n",
       "    }\n",
       "\n",
       "    .dataframe thead th {\n",
       "        text-align: right;\n",
       "    }\n",
       "</style>\n",
       "<table border=\"1\" class=\"dataframe\">\n",
       "  <thead>\n",
       "    <tr style=\"text-align: right;\">\n",
       "      <th></th>\n",
       "      <th>start_station_code</th>\n",
       "      <th>end_station_code</th>\n",
       "      <th>duration_sec</th>\n",
       "      <th>is_member</th>\n",
       "    </tr>\n",
       "  </thead>\n",
       "  <tbody>\n",
       "    <tr>\n",
       "      <th>count</th>\n",
       "      <td>3.264741e+06</td>\n",
       "      <td>3.264741e+06</td>\n",
       "      <td>3.264741e+06</td>\n",
       "      <td>3.264741e+06</td>\n",
       "    </tr>\n",
       "    <tr>\n",
       "      <th>mean</th>\n",
       "      <td>6.399046e+03</td>\n",
       "      <td>6.399199e+03</td>\n",
       "      <td>9.363313e+02</td>\n",
       "      <td>7.966846e-01</td>\n",
       "    </tr>\n",
       "    <tr>\n",
       "      <th>std</th>\n",
       "      <td>4.269501e+02</td>\n",
       "      <td>4.399925e+02</td>\n",
       "      <td>7.234184e+02</td>\n",
       "      <td>4.024652e-01</td>\n",
       "    </tr>\n",
       "    <tr>\n",
       "      <th>min</th>\n",
       "      <td>4.000000e+03</td>\n",
       "      <td>4.000000e+03</td>\n",
       "      <td>6.100000e+01</td>\n",
       "      <td>0.000000e+00</td>\n",
       "    </tr>\n",
       "    <tr>\n",
       "      <th>25%</th>\n",
       "      <td>6.142000e+03</td>\n",
       "      <td>6.134000e+03</td>\n",
       "      <td>4.210000e+02</td>\n",
       "      <td>1.000000e+00</td>\n",
       "    </tr>\n",
       "    <tr>\n",
       "      <th>50%</th>\n",
       "      <td>6.237000e+03</td>\n",
       "      <td>6.240000e+03</td>\n",
       "      <td>7.530000e+02</td>\n",
       "      <td>1.000000e+00</td>\n",
       "    </tr>\n",
       "    <tr>\n",
       "      <th>75%</th>\n",
       "      <td>6.708000e+03</td>\n",
       "      <td>6.712000e+03</td>\n",
       "      <td>1.264000e+03</td>\n",
       "      <td>1.000000e+00</td>\n",
       "    </tr>\n",
       "    <tr>\n",
       "      <th>max</th>\n",
       "      <td>1.000200e+04</td>\n",
       "      <td>1.000200e+04</td>\n",
       "      <td>7.199000e+03</td>\n",
       "      <td>1.000000e+00</td>\n",
       "    </tr>\n",
       "  </tbody>\n",
       "</table>\n",
       "</div>"
      ],
      "text/plain": [
       "       start_station_code  end_station_code  duration_sec     is_member\n",
       "count        3.264741e+06      3.264741e+06  3.264741e+06  3.264741e+06\n",
       "mean         6.399046e+03      6.399199e+03  9.363313e+02  7.966846e-01\n",
       "std          4.269501e+02      4.399925e+02  7.234184e+02  4.024652e-01\n",
       "min          4.000000e+03      4.000000e+03  6.100000e+01  0.000000e+00\n",
       "25%          6.142000e+03      6.134000e+03  4.210000e+02  1.000000e+00\n",
       "50%          6.237000e+03      6.240000e+03  7.530000e+02  1.000000e+00\n",
       "75%          6.708000e+03      6.712000e+03  1.264000e+03  1.000000e+00\n",
       "max          1.000200e+04      1.000200e+04  7.199000e+03  1.000000e+00"
      ]
     },
     "execution_count": 24,
     "metadata": {},
     "output_type": "execute_result"
    }
   ],
   "source": [
    "df.describe()"
   ]
  },
  {
   "cell_type": "markdown",
   "metadata": {},
   "source": [
    "## creating the routes column"
   ]
  },
  {
   "cell_type": "code",
   "execution_count": 11,
   "metadata": {},
   "outputs": [],
   "source": [
    "df['route'] = df[['start_station_code', 'end_station_code']].astype(str).agg('-'.join, axis=1)"
   ]
  },
  {
   "cell_type": "code",
   "execution_count": 12,
   "metadata": {},
   "outputs": [
    {
     "data": {
      "text/html": [
       "<div>\n",
       "<style scoped>\n",
       "    .dataframe tbody tr th:only-of-type {\n",
       "        vertical-align: middle;\n",
       "    }\n",
       "\n",
       "    .dataframe tbody tr th {\n",
       "        vertical-align: top;\n",
       "    }\n",
       "\n",
       "    .dataframe thead th {\n",
       "        text-align: right;\n",
       "    }\n",
       "</style>\n",
       "<table border=\"1\" class=\"dataframe\">\n",
       "  <thead>\n",
       "    <tr style=\"text-align: right;\">\n",
       "      <th></th>\n",
       "      <th>start_date</th>\n",
       "      <th>start_station_code</th>\n",
       "      <th>end_date</th>\n",
       "      <th>end_station_code</th>\n",
       "      <th>duration_sec</th>\n",
       "      <th>is_member</th>\n",
       "      <th>route</th>\n",
       "    </tr>\n",
       "  </thead>\n",
       "  <tbody>\n",
       "    <tr>\n",
       "      <th>0</th>\n",
       "      <td>2020-04-15 06:00:04</td>\n",
       "      <td>6212</td>\n",
       "      <td>2020-04-15 06:20:54</td>\n",
       "      <td>6250</td>\n",
       "      <td>1250</td>\n",
       "      <td>1</td>\n",
       "      <td>6212-6250</td>\n",
       "    </tr>\n",
       "    <tr>\n",
       "      <th>1</th>\n",
       "      <td>2020-04-15 06:05:41</td>\n",
       "      <td>6369</td>\n",
       "      <td>2020-04-15 06:32:47</td>\n",
       "      <td>6072</td>\n",
       "      <td>1626</td>\n",
       "      <td>1</td>\n",
       "      <td>6369-6072</td>\n",
       "    </tr>\n",
       "    <tr>\n",
       "      <th>2</th>\n",
       "      <td>2020-04-15 06:07:27</td>\n",
       "      <td>6207</td>\n",
       "      <td>2020-04-15 06:19:32</td>\n",
       "      <td>7038</td>\n",
       "      <td>724</td>\n",
       "      <td>1</td>\n",
       "      <td>6207-7038</td>\n",
       "    </tr>\n",
       "    <tr>\n",
       "      <th>3</th>\n",
       "      <td>2020-04-15 06:09:16</td>\n",
       "      <td>6202</td>\n",
       "      <td>2020-04-15 06:18:49</td>\n",
       "      <td>6212</td>\n",
       "      <td>572</td>\n",
       "      <td>1</td>\n",
       "      <td>6202-6212</td>\n",
       "    </tr>\n",
       "    <tr>\n",
       "      <th>4</th>\n",
       "      <td>2020-04-15 06:09:38</td>\n",
       "      <td>6159</td>\n",
       "      <td>2020-04-15 06:24:23</td>\n",
       "      <td>7067</td>\n",
       "      <td>885</td>\n",
       "      <td>1</td>\n",
       "      <td>6159-7067</td>\n",
       "    </tr>\n",
       "  </tbody>\n",
       "</table>\n",
       "</div>"
      ],
      "text/plain": [
       "            start_date  start_station_code             end_date  \\\n",
       "0  2020-04-15 06:00:04                6212  2020-04-15 06:20:54   \n",
       "1  2020-04-15 06:05:41                6369  2020-04-15 06:32:47   \n",
       "2  2020-04-15 06:07:27                6207  2020-04-15 06:19:32   \n",
       "3  2020-04-15 06:09:16                6202  2020-04-15 06:18:49   \n",
       "4  2020-04-15 06:09:38                6159  2020-04-15 06:24:23   \n",
       "\n",
       "   end_station_code  duration_sec  is_member      route  \n",
       "0              6250          1250          1  6212-6250  \n",
       "1              6072          1626          1  6369-6072  \n",
       "2              7038           724          1  6207-7038  \n",
       "3              6212           572          1  6202-6212  \n",
       "4              7067           885          1  6159-7067  "
      ]
     },
     "execution_count": 12,
     "metadata": {},
     "output_type": "execute_result"
    }
   ],
   "source": [
    "df.head()"
   ]
  },
  {
   "cell_type": "code",
   "execution_count": 33,
   "metadata": {},
   "outputs": [],
   "source": [
    "top_df = df.groupby('route').agg({'is_member':'count','duration_sec':'mean'})"
   ]
  },
  {
   "cell_type": "code",
   "execution_count": 34,
   "metadata": {},
   "outputs": [
    {
     "data": {
      "text/html": [
       "<div>\n",
       "<style scoped>\n",
       "    .dataframe tbody tr th:only-of-type {\n",
       "        vertical-align: middle;\n",
       "    }\n",
       "\n",
       "    .dataframe tbody tr th {\n",
       "        vertical-align: top;\n",
       "    }\n",
       "\n",
       "    .dataframe thead th {\n",
       "        text-align: right;\n",
       "    }\n",
       "</style>\n",
       "<table border=\"1\" class=\"dataframe\">\n",
       "  <thead>\n",
       "    <tr style=\"text-align: right;\">\n",
       "      <th></th>\n",
       "      <th>is_member</th>\n",
       "      <th>duration_sec</th>\n",
       "    </tr>\n",
       "    <tr>\n",
       "      <th>route</th>\n",
       "      <th></th>\n",
       "      <th></th>\n",
       "    </tr>\n",
       "  </thead>\n",
       "  <tbody>\n",
       "    <tr>\n",
       "      <th>6501-6501</th>\n",
       "      <td>2651</td>\n",
       "      <td>1842.659374</td>\n",
       "    </tr>\n",
       "    <tr>\n",
       "      <th>6026-6026</th>\n",
       "      <td>2505</td>\n",
       "      <td>1854.134531</td>\n",
       "    </tr>\n",
       "    <tr>\n",
       "      <th>6036-6036</th>\n",
       "      <td>2239</td>\n",
       "      <td>2103.002680</td>\n",
       "    </tr>\n",
       "    <tr>\n",
       "      <th>7125-7125</th>\n",
       "      <td>1804</td>\n",
       "      <td>1707.531596</td>\n",
       "    </tr>\n",
       "    <tr>\n",
       "      <th>6023-6023</th>\n",
       "      <td>1627</td>\n",
       "      <td>1924.244622</td>\n",
       "    </tr>\n",
       "    <tr>\n",
       "      <th>7007-7007</th>\n",
       "      <td>1271</td>\n",
       "      <td>1524.715972</td>\n",
       "    </tr>\n",
       "    <tr>\n",
       "      <th>7105-7105</th>\n",
       "      <td>1193</td>\n",
       "      <td>1961.806370</td>\n",
       "    </tr>\n",
       "    <tr>\n",
       "      <th>7103-7103</th>\n",
       "      <td>1168</td>\n",
       "      <td>2177.036815</td>\n",
       "    </tr>\n",
       "    <tr>\n",
       "      <th>6009-6009</th>\n",
       "      <td>1132</td>\n",
       "      <td>1061.644876</td>\n",
       "    </tr>\n",
       "    <tr>\n",
       "      <th>6036-6026</th>\n",
       "      <td>994</td>\n",
       "      <td>1622.658954</td>\n",
       "    </tr>\n",
       "    <tr>\n",
       "      <th>6232-6232</th>\n",
       "      <td>978</td>\n",
       "      <td>1117.543967</td>\n",
       "    </tr>\n",
       "    <tr>\n",
       "      <th>6501-6109</th>\n",
       "      <td>965</td>\n",
       "      <td>1202.513990</td>\n",
       "    </tr>\n",
       "    <tr>\n",
       "      <th>6184-6184</th>\n",
       "      <td>950</td>\n",
       "      <td>1195.248421</td>\n",
       "    </tr>\n",
       "    <tr>\n",
       "      <th>6406-6036</th>\n",
       "      <td>948</td>\n",
       "      <td>1371.289030</td>\n",
       "    </tr>\n",
       "    <tr>\n",
       "      <th>6724-6724</th>\n",
       "      <td>941</td>\n",
       "      <td>1783.087141</td>\n",
       "    </tr>\n",
       "    <tr>\n",
       "      <th>6036-6406</th>\n",
       "      <td>926</td>\n",
       "      <td>1410.187905</td>\n",
       "    </tr>\n",
       "    <tr>\n",
       "      <th>7119-7119</th>\n",
       "      <td>915</td>\n",
       "      <td>1937.499454</td>\n",
       "    </tr>\n",
       "    <tr>\n",
       "      <th>6109-6501</th>\n",
       "      <td>884</td>\n",
       "      <td>1147.692308</td>\n",
       "    </tr>\n",
       "    <tr>\n",
       "      <th>6081-6081</th>\n",
       "      <td>863</td>\n",
       "      <td>1079.008111</td>\n",
       "    </tr>\n",
       "    <tr>\n",
       "      <th>6216-6216</th>\n",
       "      <td>862</td>\n",
       "      <td>1991.812065</td>\n",
       "    </tr>\n",
       "  </tbody>\n",
       "</table>\n",
       "</div>"
      ],
      "text/plain": [
       "           is_member  duration_sec\n",
       "route                             \n",
       "6501-6501       2651   1842.659374\n",
       "6026-6026       2505   1854.134531\n",
       "6036-6036       2239   2103.002680\n",
       "7125-7125       1804   1707.531596\n",
       "6023-6023       1627   1924.244622\n",
       "7007-7007       1271   1524.715972\n",
       "7105-7105       1193   1961.806370\n",
       "7103-7103       1168   2177.036815\n",
       "6009-6009       1132   1061.644876\n",
       "6036-6026        994   1622.658954\n",
       "6232-6232        978   1117.543967\n",
       "6501-6109        965   1202.513990\n",
       "6184-6184        950   1195.248421\n",
       "6406-6036        948   1371.289030\n",
       "6724-6724        941   1783.087141\n",
       "6036-6406        926   1410.187905\n",
       "7119-7119        915   1937.499454\n",
       "6109-6501        884   1147.692308\n",
       "6081-6081        863   1079.008111\n",
       "6216-6216        862   1991.812065"
      ]
     },
     "execution_count": 34,
     "metadata": {},
     "output_type": "execute_result"
    }
   ],
   "source": [
    "top_df.sort_values(by='is_member',ascending=False).head(20)"
   ]
  },
  {
   "cell_type": "code",
   "execution_count": 21,
   "metadata": {},
   "outputs": [],
   "source": [
    "top_df = top_df.sort_values(by='is_member',ascending=False)"
   ]
  },
  {
   "cell_type": "code",
   "execution_count": 32,
   "metadata": {},
   "outputs": [
    {
     "data": {
      "text/html": [
       "<div>\n",
       "<style scoped>\n",
       "    .dataframe tbody tr th:only-of-type {\n",
       "        vertical-align: middle;\n",
       "    }\n",
       "\n",
       "    .dataframe tbody tr th {\n",
       "        vertical-align: top;\n",
       "    }\n",
       "\n",
       "    .dataframe thead th {\n",
       "        text-align: right;\n",
       "    }\n",
       "</style>\n",
       "<table border=\"1\" class=\"dataframe\">\n",
       "  <thead>\n",
       "    <tr style=\"text-align: right;\">\n",
       "      <th></th>\n",
       "      <th>count</th>\n",
       "    </tr>\n",
       "    <tr>\n",
       "      <th>route</th>\n",
       "      <th></th>\n",
       "    </tr>\n",
       "  </thead>\n",
       "  <tbody>\n",
       "    <tr>\n",
       "      <th>6501-6501</th>\n",
       "      <td>2651</td>\n",
       "    </tr>\n",
       "    <tr>\n",
       "      <th>6026-6026</th>\n",
       "      <td>2505</td>\n",
       "    </tr>\n",
       "    <tr>\n",
       "      <th>6036-6036</th>\n",
       "      <td>2239</td>\n",
       "    </tr>\n",
       "    <tr>\n",
       "      <th>7125-7125</th>\n",
       "      <td>1804</td>\n",
       "    </tr>\n",
       "    <tr>\n",
       "      <th>6023-6023</th>\n",
       "      <td>1627</td>\n",
       "    </tr>\n",
       "    <tr>\n",
       "      <th>...</th>\n",
       "      <td>...</td>\n",
       "    </tr>\n",
       "    <tr>\n",
       "      <th>6118-6114</th>\n",
       "      <td>534</td>\n",
       "    </tr>\n",
       "    <tr>\n",
       "      <th>6154-6154</th>\n",
       "      <td>531</td>\n",
       "    </tr>\n",
       "    <tr>\n",
       "      <th>6391-6387</th>\n",
       "      <td>530</td>\n",
       "    </tr>\n",
       "    <tr>\n",
       "      <th>6148-6154</th>\n",
       "      <td>529</td>\n",
       "    </tr>\n",
       "    <tr>\n",
       "      <th>6052-6023</th>\n",
       "      <td>522</td>\n",
       "    </tr>\n",
       "  </tbody>\n",
       "</table>\n",
       "<p>100 rows × 1 columns</p>\n",
       "</div>"
      ],
      "text/plain": [
       "           count\n",
       "route           \n",
       "6501-6501   2651\n",
       "6026-6026   2505\n",
       "6036-6036   2239\n",
       "7125-7125   1804\n",
       "6023-6023   1627\n",
       "...          ...\n",
       "6118-6114    534\n",
       "6154-6154    531\n",
       "6391-6387    530\n",
       "6148-6154    529\n",
       "6052-6023    522\n",
       "\n",
       "[100 rows x 1 columns]"
      ]
     },
     "execution_count": 32,
     "metadata": {},
     "output_type": "execute_result"
    }
   ],
   "source": [
    "top_df.head(100)"
   ]
  },
  {
   "cell_type": "markdown",
   "metadata": {},
   "source": [
    "Saving stop of the dataframes"
   ]
  },
  {
   "cell_type": "code",
   "execution_count": 197,
   "metadata": {},
   "outputs": [],
   "source": [
    "df.to_pickle('df.pkl')"
   ]
  },
  {
   "cell_type": "markdown",
   "metadata": {},
   "source": [
    "## Adding the column to detect single station trips"
   ]
  },
  {
   "cell_type": "markdown",
   "metadata": {},
   "source": [
    "> So to my surprise, many users rent thir bixi from and to the same station. My hypothesis is for sightseeing, as first station coming up is the one on Jean Drapeau Island.\n",
    "\n",
    "For this reason, deciding to separate the trips starting and ending at the same station"
   ]
  },
  {
   "cell_type": "code",
   "execution_count": 136,
   "metadata": {},
   "outputs": [],
   "source": [
    "def singleTrip(trip):\n",
    "    stations = trip.split('-')\n",
    "    if stations[0] == stations[1]:\n",
    "        return 1\n",
    "    else:\n",
    "        return 0\n",
    "    \n",
    "    "
   ]
  },
  {
   "cell_type": "code",
   "execution_count": 43,
   "metadata": {},
   "outputs": [],
   "source": [
    "top_df['round_trip'] = top_df.index.map(singleTrip)"
   ]
  },
  {
   "cell_type": "code",
   "execution_count": 46,
   "metadata": {},
   "outputs": [],
   "source": [
    "top_df.columns = ['count','duration_sec','round_trip']"
   ]
  },
  {
   "cell_type": "code",
   "execution_count": 44,
   "metadata": {},
   "outputs": [
    {
     "data": {
      "text/html": [
       "<div>\n",
       "<style scoped>\n",
       "    .dataframe tbody tr th:only-of-type {\n",
       "        vertical-align: middle;\n",
       "    }\n",
       "\n",
       "    .dataframe tbody tr th {\n",
       "        vertical-align: top;\n",
       "    }\n",
       "\n",
       "    .dataframe thead th {\n",
       "        text-align: right;\n",
       "    }\n",
       "</style>\n",
       "<table border=\"1\" class=\"dataframe\">\n",
       "  <thead>\n",
       "    <tr style=\"text-align: right;\">\n",
       "      <th></th>\n",
       "      <th>is_member</th>\n",
       "      <th>duration_sec</th>\n",
       "      <th>round_trip</th>\n",
       "    </tr>\n",
       "    <tr>\n",
       "      <th>route</th>\n",
       "      <th></th>\n",
       "      <th></th>\n",
       "      <th></th>\n",
       "    </tr>\n",
       "  </thead>\n",
       "  <tbody>\n",
       "    <tr>\n",
       "      <th>10002-10002</th>\n",
       "      <td>325</td>\n",
       "      <td>1604.636923</td>\n",
       "      <td>1</td>\n",
       "    </tr>\n",
       "    <tr>\n",
       "      <th>10002-4000</th>\n",
       "      <td>1</td>\n",
       "      <td>2335.000000</td>\n",
       "      <td>0</td>\n",
       "    </tr>\n",
       "    <tr>\n",
       "      <th>10002-6001</th>\n",
       "      <td>4</td>\n",
       "      <td>1320.500000</td>\n",
       "      <td>0</td>\n",
       "    </tr>\n",
       "    <tr>\n",
       "      <th>10002-6002</th>\n",
       "      <td>3</td>\n",
       "      <td>1814.000000</td>\n",
       "      <td>0</td>\n",
       "    </tr>\n",
       "    <tr>\n",
       "      <th>10002-6003</th>\n",
       "      <td>1</td>\n",
       "      <td>1858.000000</td>\n",
       "      <td>0</td>\n",
       "    </tr>\n",
       "  </tbody>\n",
       "</table>\n",
       "</div>"
      ],
      "text/plain": [
       "             is_member  duration_sec  round_trip\n",
       "route                                           \n",
       "10002-10002        325   1604.636923           1\n",
       "10002-4000           1   2335.000000           0\n",
       "10002-6001           4   1320.500000           0\n",
       "10002-6002           3   1814.000000           0\n",
       "10002-6003           1   1858.000000           0"
      ]
     },
     "execution_count": 44,
     "metadata": {},
     "output_type": "execute_result"
    }
   ],
   "source": [
    "top_df.head()"
   ]
  },
  {
   "cell_type": "code",
   "execution_count": 47,
   "metadata": {},
   "outputs": [],
   "source": [
    "top_df = top_df.sort_values(by='count',ascending=False)"
   ]
  },
  {
   "cell_type": "code",
   "execution_count": 198,
   "metadata": {},
   "outputs": [],
   "source": [
    "top_df.to_pickle('top_df.pkl')"
   ]
  },
  {
   "cell_type": "markdown",
   "metadata": {},
   "source": [
    "## Selecting non round trips"
   ]
  },
  {
   "cell_type": "code",
   "execution_count": 49,
   "metadata": {
    "scrolled": true
   },
   "outputs": [
    {
     "data": {
      "text/html": [
       "<div>\n",
       "<style scoped>\n",
       "    .dataframe tbody tr th:only-of-type {\n",
       "        vertical-align: middle;\n",
       "    }\n",
       "\n",
       "    .dataframe tbody tr th {\n",
       "        vertical-align: top;\n",
       "    }\n",
       "\n",
       "    .dataframe thead th {\n",
       "        text-align: right;\n",
       "    }\n",
       "</style>\n",
       "<table border=\"1\" class=\"dataframe\">\n",
       "  <thead>\n",
       "    <tr style=\"text-align: right;\">\n",
       "      <th></th>\n",
       "      <th>count</th>\n",
       "      <th>duration_sec</th>\n",
       "      <th>round_trip</th>\n",
       "    </tr>\n",
       "    <tr>\n",
       "      <th>route</th>\n",
       "      <th></th>\n",
       "      <th></th>\n",
       "      <th></th>\n",
       "    </tr>\n",
       "  </thead>\n",
       "  <tbody>\n",
       "    <tr>\n",
       "      <th>6036-6026</th>\n",
       "      <td>994</td>\n",
       "      <td>1622.658954</td>\n",
       "      <td>0</td>\n",
       "    </tr>\n",
       "    <tr>\n",
       "      <th>6501-6109</th>\n",
       "      <td>965</td>\n",
       "      <td>1202.513990</td>\n",
       "      <td>0</td>\n",
       "    </tr>\n",
       "    <tr>\n",
       "      <th>6406-6036</th>\n",
       "      <td>948</td>\n",
       "      <td>1371.289030</td>\n",
       "      <td>0</td>\n",
       "    </tr>\n",
       "    <tr>\n",
       "      <th>6036-6406</th>\n",
       "      <td>926</td>\n",
       "      <td>1410.187905</td>\n",
       "      <td>0</td>\n",
       "    </tr>\n",
       "    <tr>\n",
       "      <th>6109-6501</th>\n",
       "      <td>884</td>\n",
       "      <td>1147.692308</td>\n",
       "      <td>0</td>\n",
       "    </tr>\n",
       "    <tr>\n",
       "      <th>...</th>\n",
       "      <td>...</td>\n",
       "      <td>...</td>\n",
       "      <td>...</td>\n",
       "    </tr>\n",
       "    <tr>\n",
       "      <th>6383-4001</th>\n",
       "      <td>1</td>\n",
       "      <td>2056.000000</td>\n",
       "      <td>0</td>\n",
       "    </tr>\n",
       "    <tr>\n",
       "      <th>6214-6082</th>\n",
       "      <td>1</td>\n",
       "      <td>1173.000000</td>\n",
       "      <td>0</td>\n",
       "    </tr>\n",
       "    <tr>\n",
       "      <th>6114-6254</th>\n",
       "      <td>1</td>\n",
       "      <td>1677.000000</td>\n",
       "      <td>0</td>\n",
       "    </tr>\n",
       "    <tr>\n",
       "      <th>6381-8011</th>\n",
       "      <td>1</td>\n",
       "      <td>4834.000000</td>\n",
       "      <td>0</td>\n",
       "    </tr>\n",
       "    <tr>\n",
       "      <th>6108-7126</th>\n",
       "      <td>1</td>\n",
       "      <td>3869.000000</td>\n",
       "      <td>0</td>\n",
       "    </tr>\n",
       "  </tbody>\n",
       "</table>\n",
       "<p>219616 rows × 3 columns</p>\n",
       "</div>"
      ],
      "text/plain": [
       "           count  duration_sec  round_trip\n",
       "route                                     \n",
       "6036-6026    994   1622.658954           0\n",
       "6501-6109    965   1202.513990           0\n",
       "6406-6036    948   1371.289030           0\n",
       "6036-6406    926   1410.187905           0\n",
       "6109-6501    884   1147.692308           0\n",
       "...          ...           ...         ...\n",
       "6383-4001      1   2056.000000           0\n",
       "6214-6082      1   1173.000000           0\n",
       "6114-6254      1   1677.000000           0\n",
       "6381-8011      1   4834.000000           0\n",
       "6108-7126      1   3869.000000           0\n",
       "\n",
       "[219616 rows x 3 columns]"
      ]
     },
     "execution_count": 49,
     "metadata": {},
     "output_type": "execute_result"
    }
   ],
   "source": [
    "top_df[top_df['round_trip']==0]"
   ]
  },
  {
   "cell_type": "code",
   "execution_count": 50,
   "metadata": {},
   "outputs": [],
   "source": [
    "top10_trips = top_df[top_df['round_trip']==0].head(10)"
   ]
  },
  {
   "cell_type": "code",
   "execution_count": 51,
   "metadata": {},
   "outputs": [
    {
     "data": {
      "text/html": [
       "<div>\n",
       "<style scoped>\n",
       "    .dataframe tbody tr th:only-of-type {\n",
       "        vertical-align: middle;\n",
       "    }\n",
       "\n",
       "    .dataframe tbody tr th {\n",
       "        vertical-align: top;\n",
       "    }\n",
       "\n",
       "    .dataframe thead th {\n",
       "        text-align: right;\n",
       "    }\n",
       "</style>\n",
       "<table border=\"1\" class=\"dataframe\">\n",
       "  <thead>\n",
       "    <tr style=\"text-align: right;\">\n",
       "      <th></th>\n",
       "      <th>count</th>\n",
       "      <th>duration_sec</th>\n",
       "      <th>round_trip</th>\n",
       "    </tr>\n",
       "    <tr>\n",
       "      <th>route</th>\n",
       "      <th></th>\n",
       "      <th></th>\n",
       "      <th></th>\n",
       "    </tr>\n",
       "  </thead>\n",
       "  <tbody>\n",
       "    <tr>\n",
       "      <th>6036-6026</th>\n",
       "      <td>994</td>\n",
       "      <td>1622.658954</td>\n",
       "      <td>0</td>\n",
       "    </tr>\n",
       "    <tr>\n",
       "      <th>6501-6109</th>\n",
       "      <td>965</td>\n",
       "      <td>1202.513990</td>\n",
       "      <td>0</td>\n",
       "    </tr>\n",
       "    <tr>\n",
       "      <th>6406-6036</th>\n",
       "      <td>948</td>\n",
       "      <td>1371.289030</td>\n",
       "      <td>0</td>\n",
       "    </tr>\n",
       "    <tr>\n",
       "      <th>6036-6406</th>\n",
       "      <td>926</td>\n",
       "      <td>1410.187905</td>\n",
       "      <td>0</td>\n",
       "    </tr>\n",
       "    <tr>\n",
       "      <th>6109-6501</th>\n",
       "      <td>884</td>\n",
       "      <td>1147.692308</td>\n",
       "      <td>0</td>\n",
       "    </tr>\n",
       "    <tr>\n",
       "      <th>7103-7105</th>\n",
       "      <td>854</td>\n",
       "      <td>1261.225995</td>\n",
       "      <td>0</td>\n",
       "    </tr>\n",
       "    <tr>\n",
       "      <th>6052-6406</th>\n",
       "      <td>848</td>\n",
       "      <td>1237.279481</td>\n",
       "      <td>0</td>\n",
       "    </tr>\n",
       "    <tr>\n",
       "      <th>6136-6165</th>\n",
       "      <td>841</td>\n",
       "      <td>268.017836</td>\n",
       "      <td>0</td>\n",
       "    </tr>\n",
       "    <tr>\n",
       "      <th>6052-6026</th>\n",
       "      <td>812</td>\n",
       "      <td>1063.266010</td>\n",
       "      <td>0</td>\n",
       "    </tr>\n",
       "    <tr>\n",
       "      <th>6387-6391</th>\n",
       "      <td>789</td>\n",
       "      <td>259.097592</td>\n",
       "      <td>0</td>\n",
       "    </tr>\n",
       "  </tbody>\n",
       "</table>\n",
       "</div>"
      ],
      "text/plain": [
       "           count  duration_sec  round_trip\n",
       "route                                     \n",
       "6036-6026    994   1622.658954           0\n",
       "6501-6109    965   1202.513990           0\n",
       "6406-6036    948   1371.289030           0\n",
       "6036-6406    926   1410.187905           0\n",
       "6109-6501    884   1147.692308           0\n",
       "7103-7105    854   1261.225995           0\n",
       "6052-6406    848   1237.279481           0\n",
       "6136-6165    841    268.017836           0\n",
       "6052-6026    812   1063.266010           0\n",
       "6387-6391    789    259.097592           0"
      ]
     },
     "execution_count": 51,
     "metadata": {},
     "output_type": "execute_result"
    }
   ],
   "source": [
    "top10_trips"
   ]
  },
  {
   "cell_type": "markdown",
   "metadata": {},
   "source": [
    "# Getting the geographic data"
   ]
  },
  {
   "cell_type": "code",
   "execution_count": 5,
   "metadata": {},
   "outputs": [],
   "source": [
    "df_stations = pd.read_csv('data/stations.csv')"
   ]
  },
  {
   "cell_type": "code",
   "execution_count": 6,
   "metadata": {},
   "outputs": [
    {
     "data": {
      "text/html": [
       "<div>\n",
       "<style scoped>\n",
       "    .dataframe tbody tr th:only-of-type {\n",
       "        vertical-align: middle;\n",
       "    }\n",
       "\n",
       "    .dataframe tbody tr th {\n",
       "        vertical-align: top;\n",
       "    }\n",
       "\n",
       "    .dataframe thead th {\n",
       "        text-align: right;\n",
       "    }\n",
       "</style>\n",
       "<table border=\"1\" class=\"dataframe\">\n",
       "  <thead>\n",
       "    <tr style=\"text-align: right;\">\n",
       "      <th></th>\n",
       "      <th>code</th>\n",
       "      <th>name</th>\n",
       "      <th>latitude</th>\n",
       "      <th>longitude</th>\n",
       "    </tr>\n",
       "  </thead>\n",
       "  <tbody>\n",
       "    <tr>\n",
       "      <th>0</th>\n",
       "      <td>6001</td>\n",
       "      <td>Métro Champ-de-Mars (Viger / Sanguinet)</td>\n",
       "      <td>45.510163</td>\n",
       "      <td>-73.556637</td>\n",
       "    </tr>\n",
       "    <tr>\n",
       "      <th>1</th>\n",
       "      <td>6002</td>\n",
       "      <td>Ste-Catherine / Dezery</td>\n",
       "      <td>45.539385</td>\n",
       "      <td>-73.541000</td>\n",
       "    </tr>\n",
       "    <tr>\n",
       "      <th>2</th>\n",
       "      <td>6003</td>\n",
       "      <td>Clark / Ontario</td>\n",
       "      <td>45.510824</td>\n",
       "      <td>-73.567172</td>\n",
       "    </tr>\n",
       "    <tr>\n",
       "      <th>3</th>\n",
       "      <td>6004</td>\n",
       "      <td>du Champ-de-Mars / Gosford</td>\n",
       "      <td>45.509655</td>\n",
       "      <td>-73.554009</td>\n",
       "    </tr>\n",
       "    <tr>\n",
       "      <th>4</th>\n",
       "      <td>6005</td>\n",
       "      <td>Metcalfe / du Square-Dorchester</td>\n",
       "      <td>45.500208</td>\n",
       "      <td>-73.571138</td>\n",
       "    </tr>\n",
       "  </tbody>\n",
       "</table>\n",
       "</div>"
      ],
      "text/plain": [
       "   code                                     name   latitude  longitude\n",
       "0  6001  Métro Champ-de-Mars (Viger / Sanguinet)  45.510163 -73.556637\n",
       "1  6002                   Ste-Catherine / Dezery  45.539385 -73.541000\n",
       "2  6003                          Clark / Ontario  45.510824 -73.567172\n",
       "3  6004               du Champ-de-Mars / Gosford  45.509655 -73.554009\n",
       "4  6005          Metcalfe / du Square-Dorchester  45.500208 -73.571138"
      ]
     },
     "execution_count": 6,
     "metadata": {},
     "output_type": "execute_result"
    }
   ],
   "source": [
    "df_stations.head()"
   ]
  },
  {
   "cell_type": "markdown",
   "metadata": {},
   "source": [
    "Testing grabbing info from one station"
   ]
  },
  {
   "cell_type": "code",
   "execution_count": 53,
   "metadata": {},
   "outputs": [
    {
     "data": {
      "text/html": [
       "<div>\n",
       "<style scoped>\n",
       "    .dataframe tbody tr th:only-of-type {\n",
       "        vertical-align: middle;\n",
       "    }\n",
       "\n",
       "    .dataframe tbody tr th {\n",
       "        vertical-align: top;\n",
       "    }\n",
       "\n",
       "    .dataframe thead th {\n",
       "        text-align: right;\n",
       "    }\n",
       "</style>\n",
       "<table border=\"1\" class=\"dataframe\">\n",
       "  <thead>\n",
       "    <tr style=\"text-align: right;\">\n",
       "      <th></th>\n",
       "      <th>code</th>\n",
       "      <th>name</th>\n",
       "      <th>latitude</th>\n",
       "      <th>longitude</th>\n",
       "    </tr>\n",
       "  </thead>\n",
       "  <tbody>\n",
       "    <tr>\n",
       "      <th>304</th>\n",
       "      <td>6391</td>\n",
       "      <td>Aylwin / Ontario</td>\n",
       "      <td>45.544303</td>\n",
       "      <td>-73.545473</td>\n",
       "    </tr>\n",
       "  </tbody>\n",
       "</table>\n",
       "</div>"
      ],
      "text/plain": [
       "     code              name   latitude  longitude\n",
       "304  6391  Aylwin / Ontario  45.544303 -73.545473"
      ]
     },
     "execution_count": 53,
     "metadata": {},
     "output_type": "execute_result"
    }
   ],
   "source": [
    "df_stations[df_stations['code']==6391]"
   ]
  },
  {
   "cell_type": "markdown",
   "metadata": {},
   "source": [
    "## Getting coordinates of stations"
   ]
  },
  {
   "cell_type": "code",
   "execution_count": 140,
   "metadata": {},
   "outputs": [],
   "source": [
    "def getCoordinates(trip):\n",
    "    stations = trip.split('-')\n",
    "    coord_from = df_stations[df_stations['code']==int(stations[0])][['latitude','longitude']]#The departing station\n",
    "    coord_to =df_stations[df_stations['code']==int(stations[1])][['latitude','longitude']]#The departing station\n",
    "    coord = pd.concat([coord_from.reset_index(),coord_to.reset_index()],axis=1)\n",
    "    coord = coord.drop('index',axis=1)\n",
    "    return coord.iloc[0]"
   ]
  },
  {
   "cell_type": "markdown",
   "metadata": {},
   "source": [
    "A test on a station to see if function works"
   ]
  },
  {
   "cell_type": "code",
   "execution_count": 141,
   "metadata": {},
   "outputs": [
    {
     "name": "stdout",
     "output_type": "stream",
     "text": [
      "latitude     45.546907\n",
      "longitude   -73.551557\n",
      "latitude     45.544303\n",
      "longitude   -73.545473\n",
      "Name: 0, dtype: float64\n"
     ]
    }
   ],
   "source": [
    "print(getCoordinates('6387-6391'))"
   ]
  },
  {
   "cell_type": "code",
   "execution_count": 142,
   "metadata": {},
   "outputs": [],
   "source": [
    "top10_trips['from_lat'],top10_trips['from_long'],top10_trips['to_lat'],top10_trips['to_long'] =zip(*top10_trips.index.map(getCoordinates))"
   ]
  },
  {
   "cell_type": "code",
   "execution_count": 114,
   "metadata": {},
   "outputs": [],
   "source": [
    "top10_trips = top10_trips.drop('round_trip',axis=1)"
   ]
  },
  {
   "cell_type": "markdown",
   "metadata": {},
   "source": [
    "## Getting names of stations"
   ]
  },
  {
   "cell_type": "code",
   "execution_count": 130,
   "metadata": {},
   "outputs": [],
   "source": [
    "def getNames(trip):\n",
    "    stations = trip.split('-')\n",
    "    name_from = df_stations[df_stations['code']==int(stations[0])][['name']]#The departing station\n",
    "    name_to =df_stations[df_stations['code']==int(stations[1])][['name']]#The destination station\n",
    "    names = pd.concat([name_from.reset_index(),name_to.reset_index()],axis=1)\n",
    "    names = names.drop('index',axis=1)\n",
    "    return names.iloc[0]"
   ]
  },
  {
   "cell_type": "markdown",
   "metadata": {},
   "source": [
    "A test on a station to see if function works"
   ]
  },
  {
   "cell_type": "code",
   "execution_count": 146,
   "metadata": {
    "scrolled": true
   },
   "outputs": [
    {
     "name": "stdout",
     "output_type": "stream",
     "text": [
      "name    Métro Joliette  (Joliette / Hochelaga)\n",
      "name                          Aylwin / Ontario\n",
      "Name: 0, dtype: object\n"
     ]
    }
   ],
   "source": [
    "print(getNames('6387-6391'))"
   ]
  },
  {
   "cell_type": "code",
   "execution_count": 131,
   "metadata": {},
   "outputs": [],
   "source": [
    "top10_trips['name_from'],top10_trips['name_to'] =zip(*top10_trips.index.map(getNames))"
   ]
  },
  {
   "cell_type": "markdown",
   "metadata": {},
   "source": [
    "## Calculating mean of coordinates to center the maps"
   ]
  },
  {
   "cell_type": "code",
   "execution_count": 110,
   "metadata": {},
   "outputs": [],
   "source": [
    "top10_trips['mean_lat'] = top10_trips[['from_lat','to_lat']].mean(axis=1)"
   ]
  },
  {
   "cell_type": "code",
   "execution_count": 112,
   "metadata": {},
   "outputs": [],
   "source": [
    "top10_trips['mean_long'] = top10_trips[['from_long','to_long']].mean(axis=1)"
   ]
  },
  {
   "cell_type": "code",
   "execution_count": 148,
   "metadata": {},
   "outputs": [
    {
     "data": {
      "text/html": [
       "<div>\n",
       "<style scoped>\n",
       "    .dataframe tbody tr th:only-of-type {\n",
       "        vertical-align: middle;\n",
       "    }\n",
       "\n",
       "    .dataframe tbody tr th {\n",
       "        vertical-align: top;\n",
       "    }\n",
       "\n",
       "    .dataframe thead th {\n",
       "        text-align: right;\n",
       "    }\n",
       "</style>\n",
       "<table border=\"1\" class=\"dataframe\">\n",
       "  <thead>\n",
       "    <tr style=\"text-align: right;\">\n",
       "      <th></th>\n",
       "      <th>count</th>\n",
       "      <th>duration_sec</th>\n",
       "      <th>from_lat</th>\n",
       "      <th>from_long</th>\n",
       "      <th>to_lat</th>\n",
       "      <th>to_long</th>\n",
       "      <th>mean_lat</th>\n",
       "      <th>mean_long</th>\n",
       "      <th>name_from</th>\n",
       "      <th>name_to</th>\n",
       "    </tr>\n",
       "    <tr>\n",
       "      <th>route</th>\n",
       "      <th></th>\n",
       "      <th></th>\n",
       "      <th></th>\n",
       "      <th></th>\n",
       "      <th></th>\n",
       "      <th></th>\n",
       "      <th></th>\n",
       "      <th></th>\n",
       "      <th></th>\n",
       "      <th></th>\n",
       "    </tr>\n",
       "  </thead>\n",
       "  <tbody>\n",
       "    <tr>\n",
       "      <th>6036-6026</th>\n",
       "      <td>994</td>\n",
       "      <td>1622.658954</td>\n",
       "      <td>45.504242</td>\n",
       "      <td>-73.553469</td>\n",
       "      <td>45.507610</td>\n",
       "      <td>-73.551836</td>\n",
       "      <td>45.505926</td>\n",
       "      <td>-73.552653</td>\n",
       "      <td>de la Commune / St-Sulpice</td>\n",
       "      <td>de la Commune / Place Jacques-Cartier</td>\n",
       "    </tr>\n",
       "    <tr>\n",
       "      <th>6501-6109</th>\n",
       "      <td>965</td>\n",
       "      <td>1202.513990</td>\n",
       "      <td>45.512801</td>\n",
       "      <td>-73.531116</td>\n",
       "      <td>45.502659</td>\n",
       "      <td>-73.527535</td>\n",
       "      <td>45.507730</td>\n",
       "      <td>-73.529326</td>\n",
       "      <td>Parc Jean-Drapeau (Chemin Macdonald)</td>\n",
       "      <td>Parc Plage</td>\n",
       "    </tr>\n",
       "    <tr>\n",
       "      <th>6406-6036</th>\n",
       "      <td>948</td>\n",
       "      <td>1371.289030</td>\n",
       "      <td>45.480208</td>\n",
       "      <td>-73.577599</td>\n",
       "      <td>45.504242</td>\n",
       "      <td>-73.553469</td>\n",
       "      <td>45.492225</td>\n",
       "      <td>-73.565534</td>\n",
       "      <td>Marché Atwater</td>\n",
       "      <td>de la Commune / St-Sulpice</td>\n",
       "    </tr>\n",
       "    <tr>\n",
       "      <th>6036-6406</th>\n",
       "      <td>926</td>\n",
       "      <td>1410.187905</td>\n",
       "      <td>45.504242</td>\n",
       "      <td>-73.553469</td>\n",
       "      <td>45.480208</td>\n",
       "      <td>-73.577599</td>\n",
       "      <td>45.492225</td>\n",
       "      <td>-73.565534</td>\n",
       "      <td>de la Commune / St-Sulpice</td>\n",
       "      <td>Marché Atwater</td>\n",
       "    </tr>\n",
       "    <tr>\n",
       "      <th>6109-6501</th>\n",
       "      <td>884</td>\n",
       "      <td>1147.692308</td>\n",
       "      <td>45.502659</td>\n",
       "      <td>-73.527535</td>\n",
       "      <td>45.512801</td>\n",
       "      <td>-73.531116</td>\n",
       "      <td>45.507730</td>\n",
       "      <td>-73.529326</td>\n",
       "      <td>Parc Plage</td>\n",
       "      <td>Parc Jean-Drapeau (Chemin Macdonald)</td>\n",
       "    </tr>\n",
       "  </tbody>\n",
       "</table>\n",
       "</div>"
      ],
      "text/plain": [
       "           count  duration_sec   from_lat  from_long     to_lat    to_long  \\\n",
       "route                                                                        \n",
       "6036-6026    994   1622.658954  45.504242 -73.553469  45.507610 -73.551836   \n",
       "6501-6109    965   1202.513990  45.512801 -73.531116  45.502659 -73.527535   \n",
       "6406-6036    948   1371.289030  45.480208 -73.577599  45.504242 -73.553469   \n",
       "6036-6406    926   1410.187905  45.504242 -73.553469  45.480208 -73.577599   \n",
       "6109-6501    884   1147.692308  45.502659 -73.527535  45.512801 -73.531116   \n",
       "\n",
       "            mean_lat  mean_long                             name_from  \\\n",
       "route                                                                   \n",
       "6036-6026  45.505926 -73.552653            de la Commune / St-Sulpice   \n",
       "6501-6109  45.507730 -73.529326  Parc Jean-Drapeau (Chemin Macdonald)   \n",
       "6406-6036  45.492225 -73.565534                        Marché Atwater   \n",
       "6036-6406  45.492225 -73.565534            de la Commune / St-Sulpice   \n",
       "6109-6501  45.507730 -73.529326                            Parc Plage   \n",
       "\n",
       "                                         name_to  \n",
       "route                                             \n",
       "6036-6026  de la Commune / Place Jacques-Cartier  \n",
       "6501-6109                             Parc Plage  \n",
       "6406-6036             de la Commune / St-Sulpice  \n",
       "6036-6406                         Marché Atwater  \n",
       "6109-6501   Parc Jean-Drapeau (Chemin Macdonald)  "
      ]
     },
     "execution_count": 148,
     "metadata": {},
     "output_type": "execute_result"
    }
   ],
   "source": [
    "top10_trips.head()"
   ]
  },
  {
   "cell_type": "code",
   "execution_count": 156,
   "metadata": {},
   "outputs": [],
   "source": [
    "top10_trips.to_pickle('pickles/top_10.pkl')"
   ]
  },
  {
   "cell_type": "markdown",
   "metadata": {},
   "source": [
    "# Displaying stations (Folium)"
   ]
  },
  {
   "cell_type": "markdown",
   "metadata": {},
   "source": [
    "## test on one station"
   ]
  },
  {
   "cell_type": "code",
   "execution_count": 156,
   "metadata": {},
   "outputs": [
    {
     "data": {
      "text/plain": [
       "'de la Commune / St-Sulpice'"
      ]
     },
     "execution_count": 156,
     "metadata": {},
     "output_type": "execute_result"
    }
   ],
   "source": [
    "top10_trips.loc['6036-6026','name_from']"
   ]
  },
  {
   "cell_type": "code",
   "execution_count": 195,
   "metadata": {},
   "outputs": [
    {
     "data": {
      "text/plain": [
       "<folium.map.Marker at 0x14872bcd0>"
      ]
     },
     "execution_count": 195,
     "metadata": {},
     "output_type": "execute_result"
    }
   ],
   "source": [
    "m = folium.Map(location=[top10_trips.loc['6036-6026','mean_lat'], top10_trips.loc['6036-6026','mean_long']], zoom_start=15)\n",
    "\n",
    "folium.Marker(\n",
    "    [top10_trips.loc['6036-6026','from_lat'],top10_trips.loc['6036-6026','from_long']], popup=top10_trips.loc['6036-6026','name_from'], tooltip=\"Origin\",\n",
    "icon=folium.Icon(color='blue', icon='bicycle', prefix='fa')).add_to(m)\n",
    "folium.Marker(\n",
    "    [top10_trips.loc['6036-6026','to_lat'],top10_trips.loc['6036-6026','to_long']], popup=top10_trips.loc['6036-6026','name_to'], tooltip=\"Destination\",\n",
    "icon=folium.Icon(color='lightred', icon='star')).add_to(m)"
   ]
  },
  {
   "cell_type": "code",
   "execution_count": 200,
   "metadata": {},
   "outputs": [
    {
     "data": {
      "text/html": [
       "<div style=\"width:100%;\"><div style=\"position:relative;width:100%;height:0;padding-bottom:60%;\"><span style=\"color:#565656\">Make this Notebook Trusted to load map: File -> Trust Notebook</span><iframe src=\"about:blank\" style=\"position:absolute;width:100%;height:100%;left:0;top:0;border:none !important;\" data-html=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 onload=\"this.contentDocument.open();this.contentDocument.write(atob(this.getAttribute('data-html')));this.contentDocument.close();\" allowfullscreen webkitallowfullscreen mozallowfullscreen></iframe></div></div>"
      ],
      "text/plain": [
       "<folium.folium.Map at 0x14872b190>"
      ]
     },
     "metadata": {},
     "output_type": "display_data"
    }
   ],
   "source": [
    "display(m)"
   ]
  },
  {
   "cell_type": "markdown",
   "metadata": {},
   "source": [
    "## Displaying all 10"
   ]
  },
  {
   "cell_type": "code",
   "execution_count": 135,
   "metadata": {
    "scrolled": false
   },
   "outputs": [
    {
     "data": {
      "text/html": [
       "<div style=\"width:100%;\"><div style=\"position:relative;width:100%;height:0;padding-bottom:60%;\"><span style=\"color:#565656\">Make this Notebook Trusted to load map: File -> Trust Notebook</span><iframe src=\"about:blank\" style=\"position:absolute;width:100%;height:100%;left:0;top:0;border:none !important;\" data-html=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 onload=\"this.contentDocument.open();this.contentDocument.write(atob(this.getAttribute('data-html')));this.contentDocument.close();\" allowfullscreen webkitallowfullscreen mozallowfullscreen></iframe></div></div>"
      ],
      "text/plain": [
       "<folium.folium.Map at 0x11655abd0>"
      ]
     },
     "metadata": {},
     "output_type": "display_data"
    },
    {
     "data": {
      "text/html": [
       "<div style=\"width:100%;\"><div style=\"position:relative;width:100%;height:0;padding-bottom:60%;\"><span style=\"color:#565656\">Make this Notebook Trusted to load map: File -> Trust Notebook</span><iframe src=\"about:blank\" style=\"position:absolute;width:100%;height:100%;left:0;top:0;border:none !important;\" data-html=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 onload=\"this.contentDocument.open();this.contentDocument.write(atob(this.getAttribute('data-html')));this.contentDocument.close();\" allowfullscreen webkitallowfullscreen mozallowfullscreen></iframe></div></div>"
      ],
      "text/plain": [
       "<folium.folium.Map at 0x116511350>"
      ]
     },
     "metadata": {},
     "output_type": "display_data"
    },
    {
     "data": {
      "text/html": [
       "<div style=\"width:100%;\"><div style=\"position:relative;width:100%;height:0;padding-bottom:60%;\"><span style=\"color:#565656\">Make this Notebook Trusted to load map: File -> Trust Notebook</span><iframe src=\"about:blank\" style=\"position:absolute;width:100%;height:100%;left:0;top:0;border:none !important;\" data-html=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 onload=\"this.contentDocument.open();this.contentDocument.write(atob(this.getAttribute('data-html')));this.contentDocument.close();\" allowfullscreen webkitallowfullscreen mozallowfullscreen></iframe></div></div>"
      ],
      "text/plain": [
       "<folium.folium.Map at 0x116511b10>"
      ]
     },
     "metadata": {},
     "output_type": "display_data"
    },
    {
     "data": {
      "text/html": [
       "<div style=\"width:100%;\"><div style=\"position:relative;width:100%;height:0;padding-bottom:60%;\"><span style=\"color:#565656\">Make this Notebook Trusted to load map: File -> Trust Notebook</span><iframe src=\"about:blank\" style=\"position:absolute;width:100%;height:100%;left:0;top:0;border:none !important;\" data-html=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 onload=\"this.contentDocument.open();this.contentDocument.write(atob(this.getAttribute('data-html')));this.contentDocument.close();\" allowfullscreen webkitallowfullscreen mozallowfullscreen></iframe></div></div>"
      ],
      "text/plain": [
       "<folium.folium.Map at 0x116511890>"
      ]
     },
     "metadata": {},
     "output_type": "display_data"
    },
    {
     "data": {
      "text/html": [
       "<div style=\"width:100%;\"><div style=\"position:relative;width:100%;height:0;padding-bottom:60%;\"><span style=\"color:#565656\">Make this Notebook Trusted to load map: File -> Trust Notebook</span><iframe src=\"about:blank\" style=\"position:absolute;width:100%;height:100%;left:0;top:0;border:none !important;\" data-html=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 onload=\"this.contentDocument.open();this.contentDocument.write(atob(this.getAttribute('data-html')));this.contentDocument.close();\" allowfullscreen webkitallowfullscreen mozallowfullscreen></iframe></div></div>"
      ],
      "text/plain": [
       "<folium.folium.Map at 0x1164e5dd0>"
      ]
     },
     "metadata": {},
     "output_type": "display_data"
    },
    {
     "data": {
      "text/html": [
       "<div style=\"width:100%;\"><div style=\"position:relative;width:100%;height:0;padding-bottom:60%;\"><span style=\"color:#565656\">Make this Notebook Trusted to load map: File -> Trust Notebook</span><iframe src=\"about:blank\" style=\"position:absolute;width:100%;height:100%;left:0;top:0;border:none !important;\" data-html=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 onload=\"this.contentDocument.open();this.contentDocument.write(atob(this.getAttribute('data-html')));this.contentDocument.close();\" allowfullscreen webkitallowfullscreen mozallowfullscreen></iframe></div></div>"
      ],
      "text/plain": [
       "<folium.folium.Map at 0x116550550>"
      ]
     },
     "metadata": {},
     "output_type": "display_data"
    },
    {
     "data": {
      "text/html": [
       "<div style=\"width:100%;\"><div style=\"position:relative;width:100%;height:0;padding-bottom:60%;\"><span style=\"color:#565656\">Make this Notebook Trusted to load map: File -> Trust Notebook</span><iframe src=\"about:blank\" style=\"position:absolute;width:100%;height:100%;left:0;top:0;border:none !important;\" data-html=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 onload=\"this.contentDocument.open();this.contentDocument.write(atob(this.getAttribute('data-html')));this.contentDocument.close();\" allowfullscreen webkitallowfullscreen mozallowfullscreen></iframe></div></div>"
      ],
      "text/plain": [
       "<folium.folium.Map at 0x116550b90>"
      ]
     },
     "metadata": {},
     "output_type": "display_data"
    },
    {
     "data": {
      "text/html": [
       "<div style=\"width:100%;\"><div style=\"position:relative;width:100%;height:0;padding-bottom:60%;\"><span style=\"color:#565656\">Make this Notebook Trusted to load map: File -> Trust Notebook</span><iframe src=\"about:blank\" style=\"position:absolute;width:100%;height:100%;left:0;top:0;border:none !important;\" data-html=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 onload=\"this.contentDocument.open();this.contentDocument.write(atob(this.getAttribute('data-html')));this.contentDocument.close();\" allowfullscreen webkitallowfullscreen mozallowfullscreen></iframe></div></div>"
      ],
      "text/plain": [
       "<folium.folium.Map at 0x1164b6a90>"
      ]
     },
     "metadata": {},
     "output_type": "display_data"
    },
    {
     "data": {
      "text/html": [
       "<div style=\"width:100%;\"><div style=\"position:relative;width:100%;height:0;padding-bottom:60%;\"><span style=\"color:#565656\">Make this Notebook Trusted to load map: File -> Trust Notebook</span><iframe src=\"about:blank\" style=\"position:absolute;width:100%;height:100%;left:0;top:0;border:none !important;\" data-html=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 onload=\"this.contentDocument.open();this.contentDocument.write(atob(this.getAttribute('data-html')));this.contentDocument.close();\" allowfullscreen webkitallowfullscreen mozallowfullscreen></iframe></div></div>"
      ],
      "text/plain": [
       "<folium.folium.Map at 0x1164b66d0>"
      ]
     },
     "metadata": {},
     "output_type": "display_data"
    },
    {
     "data": {
      "text/html": [
       "<div style=\"width:100%;\"><div style=\"position:relative;width:100%;height:0;padding-bottom:60%;\"><span style=\"color:#565656\">Make this Notebook Trusted to load map: File -> Trust Notebook</span><iframe src=\"about:blank\" style=\"position:absolute;width:100%;height:100%;left:0;top:0;border:none !important;\" data-html=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 onload=\"this.contentDocument.open();this.contentDocument.write(atob(this.getAttribute('data-html')));this.contentDocument.close();\" allowfullscreen webkitallowfullscreen mozallowfullscreen></iframe></div></div>"
      ],
      "text/plain": [
       "<folium.folium.Map at 0x1164b6490>"
      ]
     },
     "metadata": {},
     "output_type": "display_data"
    }
   ],
   "source": [
    "#Issue with the names with accents, having to encode then in raw then converting to string to parse and remove an extra character\n",
    "for index, row in top10_trips.iterrows():\n",
    "    m = folium.Map(location=[row['mean_lat'], row['mean_long']], zoom_start=14)\n",
    "    folium.Marker(\n",
    "    [row['from_lat'],row['from_long']], popup=str(row['name_from'].encode('raw_unicode_escape'))[2:-1], tooltip=\"Origin\",\n",
    "icon=folium.Icon(color='blue', icon='bicycle', prefix='fa')).add_to(m)\n",
    "    folium.Marker(\n",
    "    [row['to_lat'],row['to_long']], popup=str(row['name_to'].encode('raw_unicode_escape'))[2:-1], tooltip=\"Destination\",\n",
    "icon=folium.Icon(color='lightred', icon='star')).add_to(m)\n",
    "    display(m)"
   ]
  },
  {
   "cell_type": "markdown",
   "metadata": {},
   "source": [
    "# Round trips analyse"
   ]
  },
  {
   "cell_type": "markdown",
   "metadata": {},
   "source": [
    "## Selecting round trips"
   ]
  },
  {
   "cell_type": "code",
   "execution_count": 15,
   "metadata": {},
   "outputs": [],
   "source": [
    "top20_round_trips = top_df[top_df['round_trip']==1].head(20)"
   ]
  },
  {
   "cell_type": "code",
   "execution_count": 16,
   "metadata": {},
   "outputs": [
    {
     "data": {
      "text/html": [
       "<div>\n",
       "<style scoped>\n",
       "    .dataframe tbody tr th:only-of-type {\n",
       "        vertical-align: middle;\n",
       "    }\n",
       "\n",
       "    .dataframe tbody tr th {\n",
       "        vertical-align: top;\n",
       "    }\n",
       "\n",
       "    .dataframe thead th {\n",
       "        text-align: right;\n",
       "    }\n",
       "</style>\n",
       "<table border=\"1\" class=\"dataframe\">\n",
       "  <thead>\n",
       "    <tr style=\"text-align: right;\">\n",
       "      <th></th>\n",
       "      <th>count</th>\n",
       "      <th>duration_sec</th>\n",
       "      <th>round_trip</th>\n",
       "    </tr>\n",
       "    <tr>\n",
       "      <th>route</th>\n",
       "      <th></th>\n",
       "      <th></th>\n",
       "      <th></th>\n",
       "    </tr>\n",
       "  </thead>\n",
       "  <tbody>\n",
       "    <tr>\n",
       "      <th>6501-6501</th>\n",
       "      <td>2651</td>\n",
       "      <td>1842.659374</td>\n",
       "      <td>1</td>\n",
       "    </tr>\n",
       "    <tr>\n",
       "      <th>6026-6026</th>\n",
       "      <td>2505</td>\n",
       "      <td>1854.134531</td>\n",
       "      <td>1</td>\n",
       "    </tr>\n",
       "    <tr>\n",
       "      <th>6036-6036</th>\n",
       "      <td>2239</td>\n",
       "      <td>2103.002680</td>\n",
       "      <td>1</td>\n",
       "    </tr>\n",
       "    <tr>\n",
       "      <th>7125-7125</th>\n",
       "      <td>1804</td>\n",
       "      <td>1707.531596</td>\n",
       "      <td>1</td>\n",
       "    </tr>\n",
       "    <tr>\n",
       "      <th>6023-6023</th>\n",
       "      <td>1627</td>\n",
       "      <td>1924.244622</td>\n",
       "      <td>1</td>\n",
       "    </tr>\n",
       "    <tr>\n",
       "      <th>7007-7007</th>\n",
       "      <td>1271</td>\n",
       "      <td>1524.715972</td>\n",
       "      <td>1</td>\n",
       "    </tr>\n",
       "    <tr>\n",
       "      <th>7105-7105</th>\n",
       "      <td>1193</td>\n",
       "      <td>1961.806370</td>\n",
       "      <td>1</td>\n",
       "    </tr>\n",
       "    <tr>\n",
       "      <th>7103-7103</th>\n",
       "      <td>1168</td>\n",
       "      <td>2177.036815</td>\n",
       "      <td>1</td>\n",
       "    </tr>\n",
       "    <tr>\n",
       "      <th>6009-6009</th>\n",
       "      <td>1132</td>\n",
       "      <td>1061.644876</td>\n",
       "      <td>1</td>\n",
       "    </tr>\n",
       "    <tr>\n",
       "      <th>6232-6232</th>\n",
       "      <td>978</td>\n",
       "      <td>1117.543967</td>\n",
       "      <td>1</td>\n",
       "    </tr>\n",
       "    <tr>\n",
       "      <th>6184-6184</th>\n",
       "      <td>950</td>\n",
       "      <td>1195.248421</td>\n",
       "      <td>1</td>\n",
       "    </tr>\n",
       "    <tr>\n",
       "      <th>6724-6724</th>\n",
       "      <td>941</td>\n",
       "      <td>1783.087141</td>\n",
       "      <td>1</td>\n",
       "    </tr>\n",
       "    <tr>\n",
       "      <th>7119-7119</th>\n",
       "      <td>915</td>\n",
       "      <td>1937.499454</td>\n",
       "      <td>1</td>\n",
       "    </tr>\n",
       "    <tr>\n",
       "      <th>6081-6081</th>\n",
       "      <td>863</td>\n",
       "      <td>1079.008111</td>\n",
       "      <td>1</td>\n",
       "    </tr>\n",
       "    <tr>\n",
       "      <th>6216-6216</th>\n",
       "      <td>862</td>\n",
       "      <td>1991.812065</td>\n",
       "      <td>1</td>\n",
       "    </tr>\n",
       "    <tr>\n",
       "      <th>6052-6052</th>\n",
       "      <td>842</td>\n",
       "      <td>1996.231591</td>\n",
       "      <td>1</td>\n",
       "    </tr>\n",
       "    <tr>\n",
       "      <th>6086-6086</th>\n",
       "      <td>807</td>\n",
       "      <td>1743.234201</td>\n",
       "      <td>1</td>\n",
       "    </tr>\n",
       "    <tr>\n",
       "      <th>6316-6316</th>\n",
       "      <td>768</td>\n",
       "      <td>1675.480469</td>\n",
       "      <td>1</td>\n",
       "    </tr>\n",
       "    <tr>\n",
       "      <th>6321-6321</th>\n",
       "      <td>678</td>\n",
       "      <td>1654.415929</td>\n",
       "      <td>1</td>\n",
       "    </tr>\n",
       "    <tr>\n",
       "      <th>6748-6748</th>\n",
       "      <td>635</td>\n",
       "      <td>1627.373228</td>\n",
       "      <td>1</td>\n",
       "    </tr>\n",
       "  </tbody>\n",
       "</table>\n",
       "</div>"
      ],
      "text/plain": [
       "           count  duration_sec  round_trip\n",
       "route                                     \n",
       "6501-6501   2651   1842.659374           1\n",
       "6026-6026   2505   1854.134531           1\n",
       "6036-6036   2239   2103.002680           1\n",
       "7125-7125   1804   1707.531596           1\n",
       "6023-6023   1627   1924.244622           1\n",
       "7007-7007   1271   1524.715972           1\n",
       "7105-7105   1193   1961.806370           1\n",
       "7103-7103   1168   2177.036815           1\n",
       "6009-6009   1132   1061.644876           1\n",
       "6232-6232    978   1117.543967           1\n",
       "6184-6184    950   1195.248421           1\n",
       "6724-6724    941   1783.087141           1\n",
       "7119-7119    915   1937.499454           1\n",
       "6081-6081    863   1079.008111           1\n",
       "6216-6216    862   1991.812065           1\n",
       "6052-6052    842   1996.231591           1\n",
       "6086-6086    807   1743.234201           1\n",
       "6316-6316    768   1675.480469           1\n",
       "6321-6321    678   1654.415929           1\n",
       "6748-6748    635   1627.373228           1"
      ]
     },
     "execution_count": 16,
     "metadata": {},
     "output_type": "execute_result"
    }
   ],
   "source": [
    "top20_round_trips"
   ]
  },
  {
   "cell_type": "markdown",
   "metadata": {},
   "source": [
    "Naming the station"
   ]
  },
  {
   "cell_type": "code",
   "execution_count": 64,
   "metadata": {
    "scrolled": false
   },
   "outputs": [],
   "source": [
    "top20_round_trips['name_station'],top20_round_trips['name_to'] =zip(*top20_round_trips.index.map(getNames))"
   ]
  },
  {
   "cell_type": "code",
   "execution_count": 65,
   "metadata": {},
   "outputs": [],
   "source": [
    "top20_round_trips = top20_round_trips.drop(['name_to','round_trip'],axis=1)"
   ]
  },
  {
   "cell_type": "markdown",
   "metadata": {},
   "source": [
    "Getting coordinates of the station"
   ]
  },
  {
   "cell_type": "code",
   "execution_count": 55,
   "metadata": {},
   "outputs": [],
   "source": [
    "def getCoordinatesSingleStation(trip):\n",
    "    stations = trip.split('-')\n",
    "    coord = df_stations[df_stations['code']==int(stations[0])][['latitude','longitude']]#The departing station\n",
    "    return coord.iloc[0]"
   ]
  },
  {
   "cell_type": "code",
   "execution_count": 56,
   "metadata": {
    "scrolled": true
   },
   "outputs": [
    {
     "data": {
      "text/plain": [
       "latitude     45.512801\n",
       "longitude   -73.531116\n",
       "Name: 373, dtype: float64"
      ]
     },
     "execution_count": 56,
     "metadata": {},
     "output_type": "execute_result"
    }
   ],
   "source": [
    "getCoordinatesSingleStation('6501-6501')"
   ]
  },
  {
   "cell_type": "code",
   "execution_count": 58,
   "metadata": {},
   "outputs": [],
   "source": [
    "top20_round_trips['lat'],top20_round_trips['long'] =zip(*top20_round_trips.index.map(getCoordinatesSingleStation))"
   ]
  },
  {
   "cell_type": "code",
   "execution_count": 66,
   "metadata": {
    "scrolled": false
   },
   "outputs": [
    {
     "data": {
      "text/html": [
       "<div>\n",
       "<style scoped>\n",
       "    .dataframe tbody tr th:only-of-type {\n",
       "        vertical-align: middle;\n",
       "    }\n",
       "\n",
       "    .dataframe tbody tr th {\n",
       "        vertical-align: top;\n",
       "    }\n",
       "\n",
       "    .dataframe thead th {\n",
       "        text-align: right;\n",
       "    }\n",
       "</style>\n",
       "<table border=\"1\" class=\"dataframe\">\n",
       "  <thead>\n",
       "    <tr style=\"text-align: right;\">\n",
       "      <th></th>\n",
       "      <th>count</th>\n",
       "      <th>duration_sec</th>\n",
       "      <th>name_station</th>\n",
       "      <th>lat</th>\n",
       "      <th>long</th>\n",
       "    </tr>\n",
       "    <tr>\n",
       "      <th>route</th>\n",
       "      <th></th>\n",
       "      <th></th>\n",
       "      <th></th>\n",
       "      <th></th>\n",
       "      <th></th>\n",
       "    </tr>\n",
       "  </thead>\n",
       "  <tbody>\n",
       "    <tr>\n",
       "      <th>6501-6501</th>\n",
       "      <td>2651</td>\n",
       "      <td>1842.659374</td>\n",
       "      <td>Parc Jean-Drapeau (Chemin Macdonald)</td>\n",
       "      <td>45.512801</td>\n",
       "      <td>-73.531116</td>\n",
       "    </tr>\n",
       "    <tr>\n",
       "      <th>6026-6026</th>\n",
       "      <td>2505</td>\n",
       "      <td>1854.134531</td>\n",
       "      <td>de la Commune / Place Jacques-Cartier</td>\n",
       "      <td>45.507610</td>\n",
       "      <td>-73.551836</td>\n",
       "    </tr>\n",
       "    <tr>\n",
       "      <th>6036-6036</th>\n",
       "      <td>2239</td>\n",
       "      <td>2103.002680</td>\n",
       "      <td>de la Commune / St-Sulpice</td>\n",
       "      <td>45.504242</td>\n",
       "      <td>-73.553469</td>\n",
       "    </tr>\n",
       "    <tr>\n",
       "      <th>7125-7125</th>\n",
       "      <td>1804</td>\n",
       "      <td>1707.531596</td>\n",
       "      <td>Rosemont / Viau</td>\n",
       "      <td>45.568330</td>\n",
       "      <td>-73.566663</td>\n",
       "    </tr>\n",
       "    <tr>\n",
       "      <th>6023-6023</th>\n",
       "      <td>1627</td>\n",
       "      <td>1924.244622</td>\n",
       "      <td>de la Commune / Berri</td>\n",
       "      <td>45.510860</td>\n",
       "      <td>-73.549830</td>\n",
       "    </tr>\n",
       "    <tr>\n",
       "      <th>7007-7007</th>\n",
       "      <td>1271</td>\n",
       "      <td>1524.715972</td>\n",
       "      <td>Kirkfield / de Chambois</td>\n",
       "      <td>45.512933</td>\n",
       "      <td>-73.633890</td>\n",
       "    </tr>\n",
       "    <tr>\n",
       "      <th>7105-7105</th>\n",
       "      <td>1193</td>\n",
       "      <td>1961.806370</td>\n",
       "      <td>St-Joseph / 34e avenue Lachine</td>\n",
       "      <td>45.432840</td>\n",
       "      <td>-73.693492</td>\n",
       "    </tr>\n",
       "    <tr>\n",
       "      <th>7103-7103</th>\n",
       "      <td>1168</td>\n",
       "      <td>2177.036815</td>\n",
       "      <td>St-Joseph / 8e avenue Lachine</td>\n",
       "      <td>45.431471</td>\n",
       "      <td>-73.671205</td>\n",
       "    </tr>\n",
       "    <tr>\n",
       "      <th>6009-6009</th>\n",
       "      <td>1132</td>\n",
       "      <td>1061.644876</td>\n",
       "      <td>Crescent / de Maisonneuve</td>\n",
       "      <td>45.498112</td>\n",
       "      <td>-73.577615</td>\n",
       "    </tr>\n",
       "    <tr>\n",
       "      <th>6232-6232</th>\n",
       "      <td>978</td>\n",
       "      <td>1117.543967</td>\n",
       "      <td>Hutchison / Van Horne</td>\n",
       "      <td>45.524942</td>\n",
       "      <td>-73.610606</td>\n",
       "    </tr>\n",
       "    <tr>\n",
       "      <th>6184-6184</th>\n",
       "      <td>950</td>\n",
       "      <td>1195.248421</td>\n",
       "      <td>Métro Mont-Royal (Rivard / du Mont-Royal)</td>\n",
       "      <td>45.524673</td>\n",
       "      <td>-73.582550</td>\n",
       "    </tr>\n",
       "    <tr>\n",
       "      <th>6724-6724</th>\n",
       "      <td>941</td>\n",
       "      <td>1783.087141</td>\n",
       "      <td>Léa-Roback / Sir-Georges-Etienne-Cartier</td>\n",
       "      <td>45.471669</td>\n",
       "      <td>-73.582644</td>\n",
       "    </tr>\n",
       "    <tr>\n",
       "      <th>7119-7119</th>\n",
       "      <td>915</td>\n",
       "      <td>1937.499454</td>\n",
       "      <td>Notre-Dame / Liébert</td>\n",
       "      <td>45.592803</td>\n",
       "      <td>-73.510466</td>\n",
       "    </tr>\n",
       "    <tr>\n",
       "      <th>6081-6081</th>\n",
       "      <td>863</td>\n",
       "      <td>1079.008111</td>\n",
       "      <td>Mackay / René-Lévesque</td>\n",
       "      <td>45.494435</td>\n",
       "      <td>-73.574098</td>\n",
       "    </tr>\n",
       "    <tr>\n",
       "      <th>6216-6216</th>\n",
       "      <td>862</td>\n",
       "      <td>1991.812065</td>\n",
       "      <td>Parc Jeanne Mance (monument sir George-Etienne...</td>\n",
       "      <td>45.514840</td>\n",
       "      <td>-73.584779</td>\n",
       "    </tr>\n",
       "    <tr>\n",
       "      <th>6052-6052</th>\n",
       "      <td>842</td>\n",
       "      <td>1996.231591</td>\n",
       "      <td>Normand / Marguerite-d’Youville</td>\n",
       "      <td>45.499777</td>\n",
       "      <td>-73.554105</td>\n",
       "    </tr>\n",
       "    <tr>\n",
       "      <th>6086-6086</th>\n",
       "      <td>807</td>\n",
       "      <td>1743.234201</td>\n",
       "      <td>des Bassins / du Séminaire</td>\n",
       "      <td>45.490565</td>\n",
       "      <td>-73.560333</td>\n",
       "    </tr>\n",
       "    <tr>\n",
       "      <th>6316-6316</th>\n",
       "      <td>768</td>\n",
       "      <td>1675.480469</td>\n",
       "      <td>McLynn / Plamondon</td>\n",
       "      <td>45.489113</td>\n",
       "      <td>-73.647013</td>\n",
       "    </tr>\n",
       "    <tr>\n",
       "      <th>6321-6321</th>\n",
       "      <td>678</td>\n",
       "      <td>1654.415929</td>\n",
       "      <td>Gary-Carter / St-Laurent</td>\n",
       "      <td>45.535900</td>\n",
       "      <td>-73.622443</td>\n",
       "    </tr>\n",
       "    <tr>\n",
       "      <th>6748-6748</th>\n",
       "      <td>635</td>\n",
       "      <td>1627.373228</td>\n",
       "      <td>Young / Wellington</td>\n",
       "      <td>45.492825</td>\n",
       "      <td>-73.557978</td>\n",
       "    </tr>\n",
       "  </tbody>\n",
       "</table>\n",
       "</div>"
      ],
      "text/plain": [
       "           count  duration_sec  \\\n",
       "route                            \n",
       "6501-6501   2651   1842.659374   \n",
       "6026-6026   2505   1854.134531   \n",
       "6036-6036   2239   2103.002680   \n",
       "7125-7125   1804   1707.531596   \n",
       "6023-6023   1627   1924.244622   \n",
       "7007-7007   1271   1524.715972   \n",
       "7105-7105   1193   1961.806370   \n",
       "7103-7103   1168   2177.036815   \n",
       "6009-6009   1132   1061.644876   \n",
       "6232-6232    978   1117.543967   \n",
       "6184-6184    950   1195.248421   \n",
       "6724-6724    941   1783.087141   \n",
       "7119-7119    915   1937.499454   \n",
       "6081-6081    863   1079.008111   \n",
       "6216-6216    862   1991.812065   \n",
       "6052-6052    842   1996.231591   \n",
       "6086-6086    807   1743.234201   \n",
       "6316-6316    768   1675.480469   \n",
       "6321-6321    678   1654.415929   \n",
       "6748-6748    635   1627.373228   \n",
       "\n",
       "                                                name_station        lat  \\\n",
       "route                                                                     \n",
       "6501-6501               Parc Jean-Drapeau (Chemin Macdonald)  45.512801   \n",
       "6026-6026              de la Commune / Place Jacques-Cartier  45.507610   \n",
       "6036-6036                         de la Commune / St-Sulpice  45.504242   \n",
       "7125-7125                                    Rosemont / Viau  45.568330   \n",
       "6023-6023                              de la Commune / Berri  45.510860   \n",
       "7007-7007                            Kirkfield / de Chambois  45.512933   \n",
       "7105-7105                     St-Joseph / 34e avenue Lachine  45.432840   \n",
       "7103-7103                      St-Joseph / 8e avenue Lachine  45.431471   \n",
       "6009-6009                          Crescent / de Maisonneuve  45.498112   \n",
       "6232-6232                              Hutchison / Van Horne  45.524942   \n",
       "6184-6184          Métro Mont-Royal (Rivard / du Mont-Royal)  45.524673   \n",
       "6724-6724           Léa-Roback / Sir-Georges-Etienne-Cartier  45.471669   \n",
       "7119-7119                               Notre-Dame / Liébert  45.592803   \n",
       "6081-6081                             Mackay / René-Lévesque  45.494435   \n",
       "6216-6216  Parc Jeanne Mance (monument sir George-Etienne...  45.514840   \n",
       "6052-6052                    Normand / Marguerite-d’Youville  45.499777   \n",
       "6086-6086                         des Bassins / du Séminaire  45.490565   \n",
       "6316-6316                                 McLynn / Plamondon  45.489113   \n",
       "6321-6321                           Gary-Carter / St-Laurent  45.535900   \n",
       "6748-6748                                 Young / Wellington  45.492825   \n",
       "\n",
       "                long  \n",
       "route                 \n",
       "6501-6501 -73.531116  \n",
       "6026-6026 -73.551836  \n",
       "6036-6036 -73.553469  \n",
       "7125-7125 -73.566663  \n",
       "6023-6023 -73.549830  \n",
       "7007-7007 -73.633890  \n",
       "7105-7105 -73.693492  \n",
       "7103-7103 -73.671205  \n",
       "6009-6009 -73.577615  \n",
       "6232-6232 -73.610606  \n",
       "6184-6184 -73.582550  \n",
       "6724-6724 -73.582644  \n",
       "7119-7119 -73.510466  \n",
       "6081-6081 -73.574098  \n",
       "6216-6216 -73.584779  \n",
       "6052-6052 -73.554105  \n",
       "6086-6086 -73.560333  \n",
       "6316-6316 -73.647013  \n",
       "6321-6321 -73.622443  \n",
       "6748-6748 -73.557978  "
      ]
     },
     "execution_count": 66,
     "metadata": {},
     "output_type": "execute_result"
    }
   ],
   "source": [
    "top20_round_trips"
   ]
  },
  {
   "cell_type": "markdown",
   "metadata": {},
   "source": [
    "## displaying the stations"
   ]
  },
  {
   "cell_type": "markdown",
   "metadata": {},
   "source": [
    "Getting coordinates to center map"
   ]
  },
  {
   "cell_type": "code",
   "execution_count": 69,
   "metadata": {},
   "outputs": [],
   "source": [
    "mean20_lat = top20_round_trips['lat'].mean()\n",
    "mean20_long = top20_round_trips['long'].mean()"
   ]
  },
  {
   "cell_type": "code",
   "execution_count": 152,
   "metadata": {},
   "outputs": [],
   "source": [
    "m20 = folium.Map(location=[mean20_lat, mean20_long], zoom_start=12)\n",
    "for index, row in top20_round_trips.iterrows():\n",
    "    folium.Circle(\n",
    "    radius=row['count']**0.9,\n",
    "    location=[row['lat'], row['long']],\n",
    "    popup=str(row['count'])+\" trips</br><strong>\"+str(row['name_station'].replace(u\"\\u2019\", \"'\").encode('raw_unicode_escape'))[2:-1]+\"</strong>\",#Issues with accents, encoding raw unicode then removing extra character\n",
    "    color=\"crimson\",\n",
    "    fill=True,\n",
    ").add_to(m20)"
   ]
  },
  {
   "cell_type": "code",
   "execution_count": 155,
   "metadata": {},
   "outputs": [
    {
     "data": {
      "text/html": [
       "<div style=\"width:100%;\"><div style=\"position:relative;width:100%;height:0;padding-bottom:60%;\"><span style=\"color:#565656\">Make this Notebook Trusted to load map: File -> Trust Notebook</span><iframe src=\"about:blank\" style=\"position:absolute;width:100%;height:100%;left:0;top:0;border:none !important;\" data-html=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 onload=\"this.contentDocument.open();this.contentDocument.write(atob(this.getAttribute('data-html')));this.contentDocument.close();\" allowfullscreen webkitallowfullscreen mozallowfullscreen></iframe></div></div>"
      ],
      "text/plain": [
       "<folium.folium.Map at 0x116672210>"
      ]
     },
     "execution_count": 155,
     "metadata": {},
     "output_type": "execute_result"
    }
   ],
   "source": [
    "m20"
   ]
  },
  {
   "cell_type": "markdown",
   "metadata": {},
   "source": [
    "# Displaying a path between 2 stations"
   ]
  },
  {
   "cell_type": "markdown",
   "metadata": {},
   "source": [
    "Using <a href=\"https://graphhopper.com/\">Grasshopper API</a> to get the path points"
   ]
  },
  {
   "cell_type": "markdown",
   "metadata": {},
   "source": [
    "## Test on 6036-6406 route"
   ]
  },
  {
   "cell_type": "code",
   "execution_count": 34,
   "metadata": {},
   "outputs": [],
   "source": [
    "#URL construction\n",
    "coords = top10_trips.loc['6036-6406',['from_lat','from_long','to_lat','to_long']].values\n",
    "\n",
    "gh_url=f\"https://graphhopper.com/api/1/route?point={coords[0]},{coords[1]}&point={coords[2]},{coords[3]}&vehicle=bike&debug=true&key={GRASSHOPPERKEY}&type=json&points_encoded=false\""
   ]
  },
  {
   "cell_type": "code",
   "execution_count": 35,
   "metadata": {},
   "outputs": [],
   "source": [
    "r = requests.get(gh_url).json()"
   ]
  },
  {
   "cell_type": "markdown",
   "metadata": {},
   "source": [
    "Getting the distance, estimated time and points from the API request"
   ]
  },
  {
   "cell_type": "code",
   "execution_count": 114,
   "metadata": {},
   "outputs": [],
   "source": [
    "path_distance = r['paths'][0]['distance']"
   ]
  },
  {
   "cell_type": "code",
   "execution_count": 121,
   "metadata": {},
   "outputs": [],
   "source": [
    "path_time = r['paths'][0]['time']/1000 #Time form API given in milliseconds, dividing to be coherent with Bixi data"
   ]
  },
  {
   "cell_type": "code",
   "execution_count": 104,
   "metadata": {},
   "outputs": [],
   "source": [
    "result_points =r['paths'][0]['points']['coordinates']"
   ]
  },
  {
   "cell_type": "markdown",
   "metadata": {},
   "source": [
    "Lattitude and longitude are inverted in my json, putting them in the correct order for folium"
   ]
  },
  {
   "cell_type": "code",
   "execution_count": 109,
   "metadata": {},
   "outputs": [],
   "source": [
    "path_points = []\n",
    "for point in result_points:\n",
    "    path_points.append((point[1],point[0]))\n"
   ]
  },
  {
   "cell_type": "markdown",
   "metadata": {},
   "source": [
    "Calculating the expected speed and the mesured speed"
   ]
  },
  {
   "cell_type": "code",
   "execution_count": 131,
   "metadata": {},
   "outputs": [],
   "source": [
    "expected_speed = round((path_distance/1000)/(path_time/3600),1)\n",
    "measured_speed = round((path_distance/1000)/(top10_trips.loc['6036-6406','duration_sec']/3600),1)\n",
    "text_popup = f\"Expected {expected_speed} km/h, on average measured {measured_speed} km/h\""
   ]
  },
  {
   "cell_type": "markdown",
   "metadata": {},
   "source": [
    "Displaying map"
   ]
  },
  {
   "cell_type": "code",
   "execution_count": 132,
   "metadata": {
    "scrolled": false
   },
   "outputs": [
    {
     "data": {
      "text/html": [
       "<div style=\"width:100%;\"><div style=\"position:relative;width:100%;height:0;padding-bottom:60%;\"><span style=\"color:#565656\">Make this Notebook Trusted to load map: File -> Trust Notebook</span><iframe src=\"about:blank\" style=\"position:absolute;width:100%;height:100%;left:0;top:0;border:none !important;\" data-html=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 onload=\"this.contentDocument.open();this.contentDocument.write(atob(this.getAttribute('data-html')));this.contentDocument.close();\" allowfullscreen webkitallowfullscreen mozallowfullscreen></iframe></div></div>"
      ],
      "text/plain": [
       "<folium.folium.Map at 0x110f40450>"
      ]
     },
     "metadata": {},
     "output_type": "display_data"
    }
   ],
   "source": [
    "m_line = folium.Map(location=[top10_trips.loc['6036-6406','mean_lat'], top10_trips.loc['6036-6406','mean_long']], zoom_start=14)\n",
    "\n",
    "folium.Marker(\n",
    "    [top10_trips.loc['6036-6406','from_lat'],top10_trips.loc['6036-6406','from_long']], popup=str(top10_trips.loc['6036-6406','name_from'].replace(u\"\\u2019\", \"'\").encode('raw_unicode_escape'))[2:-1], tooltip=\"Origin\",\n",
    "icon=folium.Icon(color='blue', icon='bicycle', prefix='fa')).add_to(m_line)\n",
    "folium.Marker(\n",
    "    [top10_trips.loc['6036-6406','to_lat'],top10_trips.loc['6036-6406','to_long']], popup=str(top10_trips.loc['6036-6406','name_to'].replace(u\"\\u2019\", \"'\").encode('raw_unicode_escape'))[2:-1], tooltip=\"Destination\",\n",
    "icon=folium.Icon(color='lightred', icon='star')).add_to(m_line)\n",
    "\n",
    "my_PolyLine = folium.PolyLine(locations=path_points, color=\"blue\", weight=5,opacity=10,popup=text_popup).add_to(m_line)\n",
    "\n",
    "m_line.add_child(my_PolyLine)\n",
    "\n",
    "display(m_line)"
   ]
  },
  {
   "cell_type": "markdown",
   "metadata": {},
   "source": [
    "# Comparison between subscribers and non subscribers"
   ]
  },
  {
   "cell_type": "markdown",
   "metadata": {},
   "source": [
    "## Preparing the DataFrame"
   ]
  },
  {
   "cell_type": "code",
   "execution_count": 134,
   "metadata": {},
   "outputs": [],
   "source": [
    "df_grouped = df.groupby(['is_member','route']).agg({'is_member':'count','duration_sec':'mean'})"
   ]
  },
  {
   "cell_type": "code",
   "execution_count": 139,
   "metadata": {
    "scrolled": true
   },
   "outputs": [
    {
     "data": {
      "text/html": [
       "<div>\n",
       "<style scoped>\n",
       "    .dataframe tbody tr th:only-of-type {\n",
       "        vertical-align: middle;\n",
       "    }\n",
       "\n",
       "    .dataframe tbody tr th {\n",
       "        vertical-align: top;\n",
       "    }\n",
       "\n",
       "    .dataframe thead th {\n",
       "        text-align: right;\n",
       "    }\n",
       "</style>\n",
       "<table border=\"1\" class=\"dataframe\">\n",
       "  <thead>\n",
       "    <tr style=\"text-align: right;\">\n",
       "      <th></th>\n",
       "      <th></th>\n",
       "      <th>is_member</th>\n",
       "      <th>duration_sec</th>\n",
       "    </tr>\n",
       "    <tr>\n",
       "      <th>is_member</th>\n",
       "      <th>route</th>\n",
       "      <th></th>\n",
       "      <th></th>\n",
       "    </tr>\n",
       "  </thead>\n",
       "  <tbody>\n",
       "    <tr>\n",
       "      <th rowspan=\"5\" valign=\"top\">0</th>\n",
       "      <th>10002-10002</th>\n",
       "      <td>76</td>\n",
       "      <td>2123.907895</td>\n",
       "    </tr>\n",
       "    <tr>\n",
       "      <th>10002-6002</th>\n",
       "      <td>1</td>\n",
       "      <td>1901.000000</td>\n",
       "    </tr>\n",
       "    <tr>\n",
       "      <th>10002-6003</th>\n",
       "      <td>1</td>\n",
       "      <td>1858.000000</td>\n",
       "    </tr>\n",
       "    <tr>\n",
       "      <th>10002-6009</th>\n",
       "      <td>4</td>\n",
       "      <td>1444.500000</td>\n",
       "    </tr>\n",
       "    <tr>\n",
       "      <th>10002-6011</th>\n",
       "      <td>1</td>\n",
       "      <td>1310.000000</td>\n",
       "    </tr>\n",
       "  </tbody>\n",
       "</table>\n",
       "</div>"
      ],
      "text/plain": [
       "                       is_member  duration_sec\n",
       "is_member route                               \n",
       "0         10002-10002         76   2123.907895\n",
       "          10002-6002           1   1901.000000\n",
       "          10002-6003           1   1858.000000\n",
       "          10002-6009           4   1444.500000\n",
       "          10002-6011           1   1310.000000"
      ]
     },
     "execution_count": 139,
     "metadata": {},
     "output_type": "execute_result"
    }
   ],
   "source": [
    "df_grouped.head()"
   ]
  },
  {
   "cell_type": "markdown",
   "metadata": {},
   "source": [
    "Applying the function to detect the round trips"
   ]
  },
  {
   "cell_type": "code",
   "execution_count": 157,
   "metadata": {},
   "outputs": [],
   "source": [
    "df_grouped['round_trip'] = df_grouped.index.get_level_values(1).map(singleTrip)"
   ]
  },
  {
   "cell_type": "code",
   "execution_count": 170,
   "metadata": {
    "scrolled": true
   },
   "outputs": [
    {
     "data": {
      "text/html": [
       "<div>\n",
       "<style scoped>\n",
       "    .dataframe tbody tr th:only-of-type {\n",
       "        vertical-align: middle;\n",
       "    }\n",
       "\n",
       "    .dataframe tbody tr th {\n",
       "        vertical-align: top;\n",
       "    }\n",
       "\n",
       "    .dataframe thead th {\n",
       "        text-align: right;\n",
       "    }\n",
       "</style>\n",
       "<table border=\"1\" class=\"dataframe\">\n",
       "  <thead>\n",
       "    <tr style=\"text-align: right;\">\n",
       "      <th></th>\n",
       "      <th></th>\n",
       "      <th>count</th>\n",
       "      <th>duration_sec</th>\n",
       "      <th>round_trip</th>\n",
       "    </tr>\n",
       "    <tr>\n",
       "      <th>is_member</th>\n",
       "      <th>route</th>\n",
       "      <th></th>\n",
       "      <th></th>\n",
       "      <th></th>\n",
       "    </tr>\n",
       "  </thead>\n",
       "  <tbody>\n",
       "    <tr>\n",
       "      <th rowspan=\"5\" valign=\"top\">0</th>\n",
       "      <th>10002-10002</th>\n",
       "      <td>76</td>\n",
       "      <td>2123.907895</td>\n",
       "      <td>1</td>\n",
       "    </tr>\n",
       "    <tr>\n",
       "      <th>10002-6002</th>\n",
       "      <td>1</td>\n",
       "      <td>1901.000000</td>\n",
       "      <td>0</td>\n",
       "    </tr>\n",
       "    <tr>\n",
       "      <th>10002-6003</th>\n",
       "      <td>1</td>\n",
       "      <td>1858.000000</td>\n",
       "      <td>0</td>\n",
       "    </tr>\n",
       "    <tr>\n",
       "      <th>10002-6009</th>\n",
       "      <td>4</td>\n",
       "      <td>1444.500000</td>\n",
       "      <td>0</td>\n",
       "    </tr>\n",
       "    <tr>\n",
       "      <th>10002-6011</th>\n",
       "      <td>1</td>\n",
       "      <td>1310.000000</td>\n",
       "      <td>0</td>\n",
       "    </tr>\n",
       "  </tbody>\n",
       "</table>\n",
       "</div>"
      ],
      "text/plain": [
       "                       count  duration_sec  round_trip\n",
       "is_member route                                       \n",
       "0         10002-10002     76   2123.907895           1\n",
       "          10002-6002       1   1901.000000           0\n",
       "          10002-6003       1   1858.000000           0\n",
       "          10002-6009       4   1444.500000           0\n",
       "          10002-6011       1   1310.000000           0"
      ]
     },
     "execution_count": 170,
     "metadata": {},
     "output_type": "execute_result"
    }
   ],
   "source": [
    "df_grouped.columns =['count','duration_sec','round_trip']\n",
    "df_grouped.head()"
   ]
  },
  {
   "cell_type": "markdown",
   "metadata": {},
   "source": [
    "## Comparisons"
   ]
  },
  {
   "cell_type": "markdown",
   "metadata": {},
   "source": [
    "### Members versus non members trips"
   ]
  },
  {
   "cell_type": "code",
   "execution_count": 165,
   "metadata": {},
   "outputs": [],
   "source": [
    "total_routes_non_members = df_grouped.loc[0].count()[0]\n",
    "total_routes_members = df_grouped.loc[1].count()[0]"
   ]
  },
  {
   "cell_type": "markdown",
   "metadata": {},
   "source": [
    "Checking if I separated well the two counts"
   ]
  },
  {
   "cell_type": "code",
   "execution_count": 172,
   "metadata": {},
   "outputs": [
    {
     "data": {
      "text/plain": [
       "True"
      ]
     },
     "execution_count": 172,
     "metadata": {},
     "output_type": "execute_result"
    }
   ],
   "source": [
    "df_grouped.shape[0] == total_routes_non_members+total_routes_members"
   ]
  },
  {
   "cell_type": "code",
   "execution_count": 191,
   "metadata": {},
   "outputs": [],
   "source": [
    "total_nonmember_trips = df_grouped.loc[0]['count'].sum()\n",
    "total_member_trips = df_grouped.loc[1]['count'].sum()\n",
    "total_trips = total_nonmember_trips+total_member_trips"
   ]
  },
  {
   "cell_type": "code",
   "execution_count": 195,
   "metadata": {},
   "outputs": [
    {
     "name": "stdout",
     "output_type": "stream",
     "text": [
      "The number of trips by non members reprensent 20.33% of all trips \n",
      "while the members have done 79.67% of them\n"
     ]
    }
   ],
   "source": [
    "pc_nm_trips = round(total_nonmember_trips/total_trips*100,2)\n",
    "pc_m_trips = round(total_member_trips/total_trips*100,2) \n",
    "\n",
    "print(f\"The number of trips by non members reprensent {pc_nm_trips}% of all trips \\nwhile the members have done {pc_m_trips}% of them\")"
   ]
  },
  {
   "cell_type": "markdown",
   "metadata": {},
   "source": [
    "### Round trips proportion"
   ]
  },
  {
   "cell_type": "code",
   "execution_count": 203,
   "metadata": {},
   "outputs": [],
   "source": [
    "rt_nonmember = df_grouped.loc[0][df_grouped.loc[0]['round_trip']==1]['count'].sum()\n",
    "rt_member = df_grouped.loc[1][df_grouped.loc[1]['round_trip']==1]['count'].sum()\n",
    "rt_total =rt_nonmember+rt_member"
   ]
  },
  {
   "cell_type": "code",
   "execution_count": 209,
   "metadata": {},
   "outputs": [
    {
     "name": "stdout",
     "output_type": "stream",
     "text": [
      "Non members reprensent 36.7% of all round trips \n",
      "and 7.31% of their trip where round ones \n",
      "while members represent 63.3% of them \n",
      "and 3.22% of their trip where round ones\n"
     ]
    }
   ],
   "source": [
    "pc_nm_roundtrips = round(rt_nonmember/rt_total*100,2)\n",
    "pc_m_roundtrips = round(rt_member/rt_total*100,2)\n",
    "\n",
    "pc_nm_rt_trips = round(rt_nonmember/total_nonmember_trips*100,2)\n",
    "pc_m_rt_trips = round(rt_member/total_member_trips*100,2)\n",
    "\n",
    "print(f\"Non members reprensent {pc_nm_roundtrips}% of all round trips \\n\\\n",
    "and {pc_nm_rt_trips}% of their trip where round ones \\n\\\n",
    "while members represent {pc_m_roundtrips}% of them \\n\\\n",
    "and {pc_m_rt_trips}% of their trip where round ones\")"
   ]
  },
  {
   "cell_type": "markdown",
   "metadata": {},
   "source": [
    "# Graphical comparisons"
   ]
  },
  {
   "cell_type": "markdown",
   "metadata": {},
   "source": [
    "## A visual analyze of the routes"
   ]
  },
  {
   "cell_type": "code",
   "execution_count": 80,
   "metadata": {
    "scrolled": false
   },
   "outputs": [
    {
     "data": {
      "image/png": "[encoded data removed]",
      "text/plain": [
       "<Figure size 1080x720 with 1 Axes>"
      ]
     },
     "metadata": {
      "needs_background": "light"
     },
     "output_type": "display_data"
    }
   ],
   "source": [
    "plt.figure(figsize=(15,10))\n",
    "g = sns.scatterplot(data=top_df,x=\"count\", y=\"duration_sec\", hue=\"round_trip\");\n",
    "g.set(xlabel=\"Number of trips\", ylabel=\"Duration of trip (sec)\");\n",
    "plt.legend(title='Type of trip', loc='upper center', labels=['Round trip','One way'],title_fontsize=\"large\");"
   ]
  },
  {
   "cell_type": "markdown",
   "metadata": {},
   "source": [
    "> Round trips have a similar duration but some of them are by far more popular than one way trips"
   ]
  },
  {
   "cell_type": "markdown",
   "metadata": {},
   "source": [
    "## How many trips per week (total, by members and non members)"
   ]
  },
  {
   "cell_type": "code",
   "execution_count": 82,
   "metadata": {},
   "outputs": [],
   "source": [
    "df['start_date']= pd.to_datetime(df['start_date'])"
   ]
  },
  {
   "cell_type": "code",
   "execution_count": 110,
   "metadata": {},
   "outputs": [
    {
     "name": "stderr",
     "output_type": "stream",
     "text": [
      "/Users/samuelrasetti/.pyenv/versions/3.7.7/envs/lewagon/lib/python3.7/site-packages/ipykernel_launcher.py:3: FutureWarning: 'loffset' in .resample() and in Grouper() is deprecated.\n",
      "\n",
      ">>> df.resample(freq=\"3s\", loffset=\"8H\")\n",
      "\n",
      "becomes:\n",
      "\n",
      ">>> from pandas.tseries.frequencies import to_offset\n",
      ">>> df = df.resample(freq=\"3s\").mean()\n",
      ">>> df.index = df.index.to_timestamp() + to_offset(\"8H\")\n",
      "\n",
      "  This is separate from the ipykernel package so we can avoid doing imports until\n"
     ]
    }
   ],
   "source": [
    "resampled_df = df.set_index('start_date') #Moving the datatime column as an index to be able to resample\n",
    "resampled_df['trip'] = 1 #Adding this to be able to track the total number of trips\n",
    "resampled_df = resampled_df.resample('W',loffset=pd.DateOffset(days=1)).sum()\n",
    "resampled_df['non_members'] = resampled_df['trip']- resampled_df['is_member'] # calculating the trips from non members"
   ]
  },
  {
   "cell_type": "code",
   "execution_count": 111,
   "metadata": {
    "scrolled": true
   },
   "outputs": [
    {
     "data": {
      "text/html": [
       "<div>\n",
       "<style scoped>\n",
       "    .dataframe tbody tr th:only-of-type {\n",
       "        vertical-align: middle;\n",
       "    }\n",
       "\n",
       "    .dataframe tbody tr th {\n",
       "        vertical-align: top;\n",
       "    }\n",
       "\n",
       "    .dataframe thead th {\n",
       "        text-align: right;\n",
       "    }\n",
       "</style>\n",
       "<table border=\"1\" class=\"dataframe\">\n",
       "  <thead>\n",
       "    <tr style=\"text-align: right;\">\n",
       "      <th></th>\n",
       "      <th>start_station_code</th>\n",
       "      <th>end_station_code</th>\n",
       "      <th>duration_sec</th>\n",
       "      <th>is_member</th>\n",
       "      <th>trip</th>\n",
       "      <th>non_members</th>\n",
       "    </tr>\n",
       "    <tr>\n",
       "      <th>start_date</th>\n",
       "      <th></th>\n",
       "      <th></th>\n",
       "      <th></th>\n",
       "      <th></th>\n",
       "      <th></th>\n",
       "      <th></th>\n",
       "    </tr>\n",
       "  </thead>\n",
       "  <tbody>\n",
       "    <tr>\n",
       "      <th>2020-04-20</th>\n",
       "      <td>102046085</td>\n",
       "      <td>102078320</td>\n",
       "      <td>16574080</td>\n",
       "      <td>13128</td>\n",
       "      <td>15944</td>\n",
       "      <td>2816</td>\n",
       "    </tr>\n",
       "    <tr>\n",
       "      <th>2020-04-27</th>\n",
       "      <td>208034846</td>\n",
       "      <td>208181799</td>\n",
       "      <td>35298530</td>\n",
       "      <td>25228</td>\n",
       "      <td>32475</td>\n",
       "      <td>7247</td>\n",
       "    </tr>\n",
       "    <tr>\n",
       "      <th>2020-05-04</th>\n",
       "      <td>346096879</td>\n",
       "      <td>346123666</td>\n",
       "      <td>61886388</td>\n",
       "      <td>38952</td>\n",
       "      <td>53894</td>\n",
       "      <td>14942</td>\n",
       "    </tr>\n",
       "    <tr>\n",
       "      <th>2020-05-11</th>\n",
       "      <td>288438270</td>\n",
       "      <td>288511677</td>\n",
       "      <td>44496131</td>\n",
       "      <td>36217</td>\n",
       "      <td>45049</td>\n",
       "      <td>8832</td>\n",
       "    </tr>\n",
       "    <tr>\n",
       "      <th>2020-05-18</th>\n",
       "      <td>478045244</td>\n",
       "      <td>477921004</td>\n",
       "      <td>84550616</td>\n",
       "      <td>53295</td>\n",
       "      <td>74550</td>\n",
       "      <td>21255</td>\n",
       "    </tr>\n",
       "  </tbody>\n",
       "</table>\n",
       "</div>"
      ],
      "text/plain": [
       "            start_station_code  end_station_code  duration_sec  is_member  \\\n",
       "start_date                                                                  \n",
       "2020-04-20           102046085         102078320      16574080      13128   \n",
       "2020-04-27           208034846         208181799      35298530      25228   \n",
       "2020-05-04           346096879         346123666      61886388      38952   \n",
       "2020-05-11           288438270         288511677      44496131      36217   \n",
       "2020-05-18           478045244         477921004      84550616      53295   \n",
       "\n",
       "             trip  non_members  \n",
       "start_date                      \n",
       "2020-04-20  15944         2816  \n",
       "2020-04-27  32475         7247  \n",
       "2020-05-04  53894        14942  \n",
       "2020-05-11  45049         8832  \n",
       "2020-05-18  74550        21255  "
      ]
     },
     "execution_count": 111,
     "metadata": {},
     "output_type": "execute_result"
    }
   ],
   "source": [
    "resampled_df.head()"
   ]
  },
  {
   "cell_type": "code",
   "execution_count": 131,
   "metadata": {},
   "outputs": [
    {
     "data": {
      "image/png": "[encoded data removed]",
      "text/plain": [
       "<Figure size 864x504 with 1 Axes>"
      ]
     },
     "metadata": {
      "needs_background": "light"
     },
     "output_type": "display_data"
    }
   ],
   "source": [
    "plt.figure(figsize=(12,7))\n",
    "g = sns.lineplot(data=resampled_df.loc[:,['is_member','non_members','trip']], dashes = False)\n",
    "g.lines[2].set_linestyle(\"--\")\n",
    "plt.legend( labels=['Members','Non members','Total'],title_fontsize=\"large\");\n",
    "g.set(xlabel=\"Date\", ylabel=\"Number of trips\", title=\"Total of trips per week\");"
   ]
  },
  {
   "cell_type": "markdown",
   "metadata": {},
   "source": [
    "# Other request"
   ]
  },
  {
   "cell_type": "markdown",
   "metadata": {},
   "source": [
    "## Request from Thib"
   ]
  },
  {
   "cell_type": "markdown",
   "metadata": {},
   "source": [
    "Request from a friend asking the shortest time between our previous locations. We both moved since but used to live really close by and riding a bike was a clear example of lazin... time optimisation."
   ]
  },
  {
   "cell_type": "code",
   "execution_count": 22,
   "metadata": {},
   "outputs": [],
   "source": [
    "query1 = df_stations.name.str.contains('Faillon')\n",
    "\n",
    "code1 = df_stations[query1].code.values[0]"
   ]
  },
  {
   "cell_type": "code",
   "execution_count": 44,
   "metadata": {},
   "outputs": [],
   "source": [
    "query2 = df_stations.name.str.contains('Guizot / St-Denis')\n",
    "\n",
    "code2 = df_stations[query2].code.values[0]"
   ]
  },
  {
   "cell_type": "markdown",
   "metadata": {},
   "source": [
    "Generating the 2 possible routes"
   ]
  },
  {
   "cell_type": "code",
   "execution_count": 48,
   "metadata": {
    "scrolled": true
   },
   "outputs": [
    {
     "name": "stdout",
     "output_type": "stream",
     "text": [
      "6327-6331 6331-6327\n"
     ]
    }
   ],
   "source": [
    "route1 = str(code1) + \"-\" + str(code2)\n",
    "route2 = str(code2) + \"-\" + str(code1)\n",
    "print(route1,route2)"
   ]
  },
  {
   "cell_type": "code",
   "execution_count": 59,
   "metadata": {},
   "outputs": [],
   "source": [
    "shortest_time = df.loc[df['route'].isin([route1,route2])].sort_values(by='duration_sec').duration_sec.values[0]"
   ]
  },
  {
   "cell_type": "code",
   "execution_count": 62,
   "metadata": {},
   "outputs": [
    {
     "name": "stdout",
     "output_type": "stream",
     "text": [
      "The shortest trip duration between the two stations was 190 seconds, whish is 3.17 minutes\n"
     ]
    }
   ],
   "source": [
    "print(f\"The shortest trip duration between the two stations was {shortest_time} seconds, whish is {round(shortest_time/60,2)} minutes\")"
   ]
  },
  {
   "cell_type": "markdown",
   "metadata": {},
   "source": [
    "# Loading dataframes"
   ]
  },
  {
   "cell_type": "markdown",
   "metadata": {},
   "source": [
    "As I close and reopen this Notebook, I frequently have to reload the dataframes in the Notebook, this section is dedicated to this."
   ]
  },
  {
   "cell_type": "markdown",
   "metadata": {},
   "source": [
    "## Main DF"
   ]
  },
  {
   "cell_type": "code",
   "execution_count": 2,
   "metadata": {},
   "outputs": [
    {
     "data": {
      "text/html": [
       "<div>\n",
       "<style scoped>\n",
       "    .dataframe tbody tr th:only-of-type {\n",
       "        vertical-align: middle;\n",
       "    }\n",
       "\n",
       "    .dataframe tbody tr th {\n",
       "        vertical-align: top;\n",
       "    }\n",
       "\n",
       "    .dataframe thead th {\n",
       "        text-align: right;\n",
       "    }\n",
       "</style>\n",
       "<table border=\"1\" class=\"dataframe\">\n",
       "  <thead>\n",
       "    <tr style=\"text-align: right;\">\n",
       "      <th></th>\n",
       "      <th>start_date</th>\n",
       "      <th>start_station_code</th>\n",
       "      <th>end_date</th>\n",
       "      <th>end_station_code</th>\n",
       "      <th>duration_sec</th>\n",
       "      <th>is_member</th>\n",
       "      <th>route</th>\n",
       "    </tr>\n",
       "  </thead>\n",
       "  <tbody>\n",
       "    <tr>\n",
       "      <th>0</th>\n",
       "      <td>2020-04-15 06:00:04</td>\n",
       "      <td>6212</td>\n",
       "      <td>2020-04-15 06:20:54</td>\n",
       "      <td>6250</td>\n",
       "      <td>1250</td>\n",
       "      <td>1</td>\n",
       "      <td>6212-6250</td>\n",
       "    </tr>\n",
       "    <tr>\n",
       "      <th>1</th>\n",
       "      <td>2020-04-15 06:05:41</td>\n",
       "      <td>6369</td>\n",
       "      <td>2020-04-15 06:32:47</td>\n",
       "      <td>6072</td>\n",
       "      <td>1626</td>\n",
       "      <td>1</td>\n",
       "      <td>6369-6072</td>\n",
       "    </tr>\n",
       "    <tr>\n",
       "      <th>2</th>\n",
       "      <td>2020-04-15 06:07:27</td>\n",
       "      <td>6207</td>\n",
       "      <td>2020-04-15 06:19:32</td>\n",
       "      <td>7038</td>\n",
       "      <td>724</td>\n",
       "      <td>1</td>\n",
       "      <td>6207-7038</td>\n",
       "    </tr>\n",
       "    <tr>\n",
       "      <th>3</th>\n",
       "      <td>2020-04-15 06:09:16</td>\n",
       "      <td>6202</td>\n",
       "      <td>2020-04-15 06:18:49</td>\n",
       "      <td>6212</td>\n",
       "      <td>572</td>\n",
       "      <td>1</td>\n",
       "      <td>6202-6212</td>\n",
       "    </tr>\n",
       "    <tr>\n",
       "      <th>4</th>\n",
       "      <td>2020-04-15 06:09:38</td>\n",
       "      <td>6159</td>\n",
       "      <td>2020-04-15 06:24:23</td>\n",
       "      <td>7067</td>\n",
       "      <td>885</td>\n",
       "      <td>1</td>\n",
       "      <td>6159-7067</td>\n",
       "    </tr>\n",
       "  </tbody>\n",
       "</table>\n",
       "</div>"
      ],
      "text/plain": [
       "            start_date  start_station_code             end_date  \\\n",
       "0  2020-04-15 06:00:04                6212  2020-04-15 06:20:54   \n",
       "1  2020-04-15 06:05:41                6369  2020-04-15 06:32:47   \n",
       "2  2020-04-15 06:07:27                6207  2020-04-15 06:19:32   \n",
       "3  2020-04-15 06:09:16                6202  2020-04-15 06:18:49   \n",
       "4  2020-04-15 06:09:38                6159  2020-04-15 06:24:23   \n",
       "\n",
       "   end_station_code  duration_sec  is_member      route  \n",
       "0              6250          1250          1  6212-6250  \n",
       "1              6072          1626          1  6369-6072  \n",
       "2              7038           724          1  6207-7038  \n",
       "3              6212           572          1  6202-6212  \n",
       "4              7067           885          1  6159-7067  "
      ]
     },
     "execution_count": 2,
     "metadata": {},
     "output_type": "execute_result"
    }
   ],
   "source": [
    "df = pd.read_pickle('pickles/df.pkl')\n",
    "df.head()"
   ]
  },
  {
   "cell_type": "markdown",
   "metadata": {},
   "source": [
    "## Top DF"
   ]
  },
  {
   "cell_type": "code",
   "execution_count": 3,
   "metadata": {},
   "outputs": [
    {
     "data": {
      "text/html": [
       "<div>\n",
       "<style scoped>\n",
       "    .dataframe tbody tr th:only-of-type {\n",
       "        vertical-align: middle;\n",
       "    }\n",
       "\n",
       "    .dataframe tbody tr th {\n",
       "        vertical-align: top;\n",
       "    }\n",
       "\n",
       "    .dataframe thead th {\n",
       "        text-align: right;\n",
       "    }\n",
       "</style>\n",
       "<table border=\"1\" class=\"dataframe\">\n",
       "  <thead>\n",
       "    <tr style=\"text-align: right;\">\n",
       "      <th></th>\n",
       "      <th>count</th>\n",
       "      <th>duration_sec</th>\n",
       "      <th>round_trip</th>\n",
       "    </tr>\n",
       "    <tr>\n",
       "      <th>route</th>\n",
       "      <th></th>\n",
       "      <th></th>\n",
       "      <th></th>\n",
       "    </tr>\n",
       "  </thead>\n",
       "  <tbody>\n",
       "    <tr>\n",
       "      <th>6501-6501</th>\n",
       "      <td>2651</td>\n",
       "      <td>1842.659374</td>\n",
       "      <td>1</td>\n",
       "    </tr>\n",
       "    <tr>\n",
       "      <th>6026-6026</th>\n",
       "      <td>2505</td>\n",
       "      <td>1854.134531</td>\n",
       "      <td>1</td>\n",
       "    </tr>\n",
       "    <tr>\n",
       "      <th>6036-6036</th>\n",
       "      <td>2239</td>\n",
       "      <td>2103.002680</td>\n",
       "      <td>1</td>\n",
       "    </tr>\n",
       "    <tr>\n",
       "      <th>7125-7125</th>\n",
       "      <td>1804</td>\n",
       "      <td>1707.531596</td>\n",
       "      <td>1</td>\n",
       "    </tr>\n",
       "    <tr>\n",
       "      <th>6023-6023</th>\n",
       "      <td>1627</td>\n",
       "      <td>1924.244622</td>\n",
       "      <td>1</td>\n",
       "    </tr>\n",
       "  </tbody>\n",
       "</table>\n",
       "</div>"
      ],
      "text/plain": [
       "           count  duration_sec  round_trip\n",
       "route                                     \n",
       "6501-6501   2651   1842.659374           1\n",
       "6026-6026   2505   1854.134531           1\n",
       "6036-6036   2239   2103.002680           1\n",
       "7125-7125   1804   1707.531596           1\n",
       "6023-6023   1627   1924.244622           1"
      ]
     },
     "execution_count": 3,
     "metadata": {},
     "output_type": "execute_result"
    }
   ],
   "source": [
    "top_df= pd.read_pickle('pickles/top_df.pkl')\n",
    "top_df.head()"
   ]
  },
  {
   "cell_type": "markdown",
   "metadata": {},
   "source": [
    "## Top 10 trips"
   ]
  },
  {
   "cell_type": "code",
   "execution_count": 4,
   "metadata": {},
   "outputs": [
    {
     "data": {
      "text/html": [
       "<div>\n",
       "<style scoped>\n",
       "    .dataframe tbody tr th:only-of-type {\n",
       "        vertical-align: middle;\n",
       "    }\n",
       "\n",
       "    .dataframe tbody tr th {\n",
       "        vertical-align: top;\n",
       "    }\n",
       "\n",
       "    .dataframe thead th {\n",
       "        text-align: right;\n",
       "    }\n",
       "</style>\n",
       "<table border=\"1\" class=\"dataframe\">\n",
       "  <thead>\n",
       "    <tr style=\"text-align: right;\">\n",
       "      <th></th>\n",
       "      <th>count</th>\n",
       "      <th>duration_sec</th>\n",
       "      <th>from_lat</th>\n",
       "      <th>from_long</th>\n",
       "      <th>to_lat</th>\n",
       "      <th>to_long</th>\n",
       "      <th>mean_lat</th>\n",
       "      <th>mean_long</th>\n",
       "      <th>name_from</th>\n",
       "      <th>name_to</th>\n",
       "    </tr>\n",
       "    <tr>\n",
       "      <th>route</th>\n",
       "      <th></th>\n",
       "      <th></th>\n",
       "      <th></th>\n",
       "      <th></th>\n",
       "      <th></th>\n",
       "      <th></th>\n",
       "      <th></th>\n",
       "      <th></th>\n",
       "      <th></th>\n",
       "      <th></th>\n",
       "    </tr>\n",
       "  </thead>\n",
       "  <tbody>\n",
       "    <tr>\n",
       "      <th>6036-6026</th>\n",
       "      <td>994</td>\n",
       "      <td>1622.658954</td>\n",
       "      <td>45.504242</td>\n",
       "      <td>-73.553469</td>\n",
       "      <td>45.507610</td>\n",
       "      <td>-73.551836</td>\n",
       "      <td>45.505926</td>\n",
       "      <td>-73.552653</td>\n",
       "      <td>de la Commune / St-Sulpice</td>\n",
       "      <td>de la Commune / Place Jacques-Cartier</td>\n",
       "    </tr>\n",
       "    <tr>\n",
       "      <th>6501-6109</th>\n",
       "      <td>965</td>\n",
       "      <td>1202.513990</td>\n",
       "      <td>45.512801</td>\n",
       "      <td>-73.531116</td>\n",
       "      <td>45.502659</td>\n",
       "      <td>-73.527535</td>\n",
       "      <td>45.507730</td>\n",
       "      <td>-73.529326</td>\n",
       "      <td>Parc Jean-Drapeau (Chemin Macdonald)</td>\n",
       "      <td>Parc Plage</td>\n",
       "    </tr>\n",
       "    <tr>\n",
       "      <th>6406-6036</th>\n",
       "      <td>948</td>\n",
       "      <td>1371.289030</td>\n",
       "      <td>45.480208</td>\n",
       "      <td>-73.577599</td>\n",
       "      <td>45.504242</td>\n",
       "      <td>-73.553469</td>\n",
       "      <td>45.492225</td>\n",
       "      <td>-73.565534</td>\n",
       "      <td>Marché Atwater</td>\n",
       "      <td>de la Commune / St-Sulpice</td>\n",
       "    </tr>\n",
       "    <tr>\n",
       "      <th>6036-6406</th>\n",
       "      <td>926</td>\n",
       "      <td>1410.187905</td>\n",
       "      <td>45.504242</td>\n",
       "      <td>-73.553469</td>\n",
       "      <td>45.480208</td>\n",
       "      <td>-73.577599</td>\n",
       "      <td>45.492225</td>\n",
       "      <td>-73.565534</td>\n",
       "      <td>de la Commune / St-Sulpice</td>\n",
       "      <td>Marché Atwater</td>\n",
       "    </tr>\n",
       "    <tr>\n",
       "      <th>6109-6501</th>\n",
       "      <td>884</td>\n",
       "      <td>1147.692308</td>\n",
       "      <td>45.502659</td>\n",
       "      <td>-73.527535</td>\n",
       "      <td>45.512801</td>\n",
       "      <td>-73.531116</td>\n",
       "      <td>45.507730</td>\n",
       "      <td>-73.529326</td>\n",
       "      <td>Parc Plage</td>\n",
       "      <td>Parc Jean-Drapeau (Chemin Macdonald)</td>\n",
       "    </tr>\n",
       "  </tbody>\n",
       "</table>\n",
       "</div>"
      ],
      "text/plain": [
       "           count  duration_sec   from_lat  from_long     to_lat    to_long  \\\n",
       "route                                                                        \n",
       "6036-6026    994   1622.658954  45.504242 -73.553469  45.507610 -73.551836   \n",
       "6501-6109    965   1202.513990  45.512801 -73.531116  45.502659 -73.527535   \n",
       "6406-6036    948   1371.289030  45.480208 -73.577599  45.504242 -73.553469   \n",
       "6036-6406    926   1410.187905  45.504242 -73.553469  45.480208 -73.577599   \n",
       "6109-6501    884   1147.692308  45.502659 -73.527535  45.512801 -73.531116   \n",
       "\n",
       "            mean_lat  mean_long                             name_from  \\\n",
       "route                                                                   \n",
       "6036-6026  45.505926 -73.552653            de la Commune / St-Sulpice   \n",
       "6501-6109  45.507730 -73.529326  Parc Jean-Drapeau (Chemin Macdonald)   \n",
       "6406-6036  45.492225 -73.565534                        Marché Atwater   \n",
       "6036-6406  45.492225 -73.565534            de la Commune / St-Sulpice   \n",
       "6109-6501  45.507730 -73.529326                            Parc Plage   \n",
       "\n",
       "                                         name_to  \n",
       "route                                             \n",
       "6036-6026  de la Commune / Place Jacques-Cartier  \n",
       "6501-6109                             Parc Plage  \n",
       "6406-6036             de la Commune / St-Sulpice  \n",
       "6036-6406                         Marché Atwater  \n",
       "6109-6501   Parc Jean-Drapeau (Chemin Macdonald)  "
      ]
     },
     "execution_count": 4,
     "metadata": {},
     "output_type": "execute_result"
    }
   ],
   "source": [
    "top10_trips= pd.read_pickle('pickles/top_10.pkl')\n",
    "top10_trips.head()"
   ]
  }
 ],
 "metadata": {
  "kernelspec": {
   "display_name": "Python 3",
   "language": "python",
   "name": "python3"
  },
  "language_info": {
   "codemirror_mode": {
    "name": "ipython",
    "version": 3
   },
   "file_extension": ".py",
   "mimetype": "text/x-python",
   "name": "python",
   "nbconvert_exporter": "python",
   "pygments_lexer": "ipython3",
   "version": "3.7.7"
  },
  "toc": {
   "base_numbering": 1,
   "nav_menu": {},
   "number_sections": true,
   "sideBar": true,
   "skip_h1_title": false,
   "title_cell": "Table of Contents",
   "title_sidebar": "Contents",
   "toc_cell": true,
   "toc_position": {
    "height": "calc(100% - 180px)",
    "left": "10px",
    "top": "150px",
    "width": "288px"
   },
   "toc_section_display": true,
   "toc_window_display": true
  }
 },
 "nbformat": 4,
 "nbformat_minor": 4
}
